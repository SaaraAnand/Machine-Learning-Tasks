{
  "cells": [
    {
      "cell_type": "markdown",
      "id": "203cc5be",
      "metadata": {
        "papermill": {
          "duration": 0.017022,
          "end_time": "2023-01-10T10:06:50.939827",
          "exception": false,
          "start_time": "2023-01-10T10:06:50.922805",
          "status": "completed"
        },
        "tags": [],
        "id": "203cc5be"
      },
      "source": [
        "# Business Understanding"
      ]
    },
    {
      "cell_type": "markdown",
      "id": "d1fb8846",
      "metadata": {
        "papermill": {
          "duration": 0.014792,
          "end_time": "2023-01-10T10:06:50.969867",
          "exception": false,
          "start_time": "2023-01-10T10:06:50.955075",
          "status": "completed"
        },
        "tags": [],
        "id": "d1fb8846"
      },
      "source": [
        "### Predict house prices for negotiation with house sellers"
      ]
    },
    {
      "cell_type": "markdown",
      "id": "ea7d1a24",
      "metadata": {
        "papermill": {
          "duration": 0.015107,
          "end_time": "2023-01-10T10:06:50.999930",
          "exception": false,
          "start_time": "2023-01-10T10:06:50.984823",
          "status": "completed"
        },
        "tags": [],
        "id": "ea7d1a24"
      },
      "source": [
        "# Data Understanding"
      ]
    },
    {
      "cell_type": "markdown",
      "id": "043eacb3",
      "metadata": {
        "papermill": {
          "duration": 0.015667,
          "end_time": "2023-01-10T10:06:51.031382",
          "exception": false,
          "start_time": "2023-01-10T10:06:51.015715",
          "status": "completed"
        },
        "tags": [],
        "id": "043eacb3"
      },
      "source": [
        "### Load Data"
      ]
    },
    {
      "cell_type": "markdown",
      "id": "896b037b",
      "metadata": {
        "papermill": {
          "duration": 0.015519,
          "end_time": "2023-01-10T10:06:51.188458",
          "exception": false,
          "start_time": "2023-01-10T10:06:51.172939",
          "status": "completed"
        },
        "tags": [],
        "id": "896b037b"
      },
      "source": [
        "### Check the number of rows and columns in datasets"
      ]
    },
    {
      "cell_type": "code",
      "execution_count": null,
      "id": "92e8fa15",
      "metadata": {
        "execution": {
          "iopub.execute_input": "2023-01-10T10:06:51.223577Z",
          "iopub.status.busy": "2023-01-10T10:06:51.222886Z",
          "iopub.status.idle": "2023-01-10T10:06:51.229517Z",
          "shell.execute_reply": "2023-01-10T10:06:51.228175Z"
        },
        "papermill": {
          "duration": 0.028843,
          "end_time": "2023-01-10T10:06:51.232978",
          "exception": false,
          "start_time": "2023-01-10T10:06:51.204135",
          "status": "completed"
        },
        "tags": [],
        "id": "92e8fa15",
        "outputId": "2c12544f-3d24-416f-96dc-2d4f9cd3b244"
      },
      "outputs": [
        {
          "name": "stdout",
          "output_type": "stream",
          "text": [
            "train: (1460, 81)\n",
            "test: (1459, 80)\n"
          ]
        }
      ],
      "source": [
        "print('train:', train.shape)\n",
        "print('test:', test.shape)"
      ]
    },
    {
      "cell_type": "markdown",
      "id": "69c5a6b3",
      "metadata": {
        "papermill": {
          "duration": 0.016774,
          "end_time": "2023-01-10T10:06:51.267020",
          "exception": false,
          "start_time": "2023-01-10T10:06:51.250246",
          "status": "completed"
        },
        "tags": [],
        "id": "69c5a6b3"
      },
      "source": [
        "### Skim the data in datasets"
      ]
    },
    {
      "cell_type": "code",
      "execution_count": null,
      "id": "b4795c8e",
      "metadata": {
        "execution": {
          "iopub.execute_input": "2023-01-10T10:06:51.307597Z",
          "iopub.status.busy": "2023-01-10T10:06:51.306588Z",
          "iopub.status.idle": "2023-01-10T10:06:51.348850Z",
          "shell.execute_reply": "2023-01-10T10:06:51.347641Z"
        },
        "papermill": {
          "duration": 0.06321,
          "end_time": "2023-01-10T10:06:51.351314",
          "exception": false,
          "start_time": "2023-01-10T10:06:51.288104",
          "status": "completed"
        },
        "tags": [],
        "id": "b4795c8e",
        "outputId": "5c9f09fb-bca8-45df-92aa-b670d1d2687b"
      },
      "outputs": [
        {
          "data": {
            "text/html": [
              "<div>\n",
              "<style scoped>\n",
              "    .dataframe tbody tr th:only-of-type {\n",
              "        vertical-align: middle;\n",
              "    }\n",
              "\n",
              "    .dataframe tbody tr th {\n",
              "        vertical-align: top;\n",
              "    }\n",
              "\n",
              "    .dataframe thead th {\n",
              "        text-align: right;\n",
              "    }\n",
              "</style>\n",
              "<table border=\"1\" class=\"dataframe\">\n",
              "  <thead>\n",
              "    <tr style=\"text-align: right;\">\n",
              "      <th></th>\n",
              "      <th>Id</th>\n",
              "      <th>MSSubClass</th>\n",
              "      <th>MSZoning</th>\n",
              "      <th>LotFrontage</th>\n",
              "      <th>LotArea</th>\n",
              "      <th>Street</th>\n",
              "      <th>Alley</th>\n",
              "      <th>LotShape</th>\n",
              "      <th>LandContour</th>\n",
              "      <th>Utilities</th>\n",
              "      <th>...</th>\n",
              "      <th>PoolArea</th>\n",
              "      <th>PoolQC</th>\n",
              "      <th>Fence</th>\n",
              "      <th>MiscFeature</th>\n",
              "      <th>MiscVal</th>\n",
              "      <th>MoSold</th>\n",
              "      <th>YrSold</th>\n",
              "      <th>SaleType</th>\n",
              "      <th>SaleCondition</th>\n",
              "      <th>SalePrice</th>\n",
              "    </tr>\n",
              "  </thead>\n",
              "  <tbody>\n",
              "    <tr>\n",
              "      <th>0</th>\n",
              "      <td>1</td>\n",
              "      <td>60</td>\n",
              "      <td>RL</td>\n",
              "      <td>65.0</td>\n",
              "      <td>8450</td>\n",
              "      <td>Pave</td>\n",
              "      <td>NaN</td>\n",
              "      <td>Reg</td>\n",
              "      <td>Lvl</td>\n",
              "      <td>AllPub</td>\n",
              "      <td>...</td>\n",
              "      <td>0</td>\n",
              "      <td>NaN</td>\n",
              "      <td>NaN</td>\n",
              "      <td>NaN</td>\n",
              "      <td>0</td>\n",
              "      <td>2</td>\n",
              "      <td>2008</td>\n",
              "      <td>WD</td>\n",
              "      <td>Normal</td>\n",
              "      <td>208500</td>\n",
              "    </tr>\n",
              "    <tr>\n",
              "      <th>1</th>\n",
              "      <td>2</td>\n",
              "      <td>20</td>\n",
              "      <td>RL</td>\n",
              "      <td>80.0</td>\n",
              "      <td>9600</td>\n",
              "      <td>Pave</td>\n",
              "      <td>NaN</td>\n",
              "      <td>Reg</td>\n",
              "      <td>Lvl</td>\n",
              "      <td>AllPub</td>\n",
              "      <td>...</td>\n",
              "      <td>0</td>\n",
              "      <td>NaN</td>\n",
              "      <td>NaN</td>\n",
              "      <td>NaN</td>\n",
              "      <td>0</td>\n",
              "      <td>5</td>\n",
              "      <td>2007</td>\n",
              "      <td>WD</td>\n",
              "      <td>Normal</td>\n",
              "      <td>181500</td>\n",
              "    </tr>\n",
              "    <tr>\n",
              "      <th>2</th>\n",
              "      <td>3</td>\n",
              "      <td>60</td>\n",
              "      <td>RL</td>\n",
              "      <td>68.0</td>\n",
              "      <td>11250</td>\n",
              "      <td>Pave</td>\n",
              "      <td>NaN</td>\n",
              "      <td>IR1</td>\n",
              "      <td>Lvl</td>\n",
              "      <td>AllPub</td>\n",
              "      <td>...</td>\n",
              "      <td>0</td>\n",
              "      <td>NaN</td>\n",
              "      <td>NaN</td>\n",
              "      <td>NaN</td>\n",
              "      <td>0</td>\n",
              "      <td>9</td>\n",
              "      <td>2008</td>\n",
              "      <td>WD</td>\n",
              "      <td>Normal</td>\n",
              "      <td>223500</td>\n",
              "    </tr>\n",
              "    <tr>\n",
              "      <th>3</th>\n",
              "      <td>4</td>\n",
              "      <td>70</td>\n",
              "      <td>RL</td>\n",
              "      <td>60.0</td>\n",
              "      <td>9550</td>\n",
              "      <td>Pave</td>\n",
              "      <td>NaN</td>\n",
              "      <td>IR1</td>\n",
              "      <td>Lvl</td>\n",
              "      <td>AllPub</td>\n",
              "      <td>...</td>\n",
              "      <td>0</td>\n",
              "      <td>NaN</td>\n",
              "      <td>NaN</td>\n",
              "      <td>NaN</td>\n",
              "      <td>0</td>\n",
              "      <td>2</td>\n",
              "      <td>2006</td>\n",
              "      <td>WD</td>\n",
              "      <td>Abnorml</td>\n",
              "      <td>140000</td>\n",
              "    </tr>\n",
              "    <tr>\n",
              "      <th>4</th>\n",
              "      <td>5</td>\n",
              "      <td>60</td>\n",
              "      <td>RL</td>\n",
              "      <td>84.0</td>\n",
              "      <td>14260</td>\n",
              "      <td>Pave</td>\n",
              "      <td>NaN</td>\n",
              "      <td>IR1</td>\n",
              "      <td>Lvl</td>\n",
              "      <td>AllPub</td>\n",
              "      <td>...</td>\n",
              "      <td>0</td>\n",
              "      <td>NaN</td>\n",
              "      <td>NaN</td>\n",
              "      <td>NaN</td>\n",
              "      <td>0</td>\n",
              "      <td>12</td>\n",
              "      <td>2008</td>\n",
              "      <td>WD</td>\n",
              "      <td>Normal</td>\n",
              "      <td>250000</td>\n",
              "    </tr>\n",
              "  </tbody>\n",
              "</table>\n",
              "<p>5 rows × 81 columns</p>\n",
              "</div>"
            ],
            "text/plain": [
              "   Id  MSSubClass MSZoning  LotFrontage  LotArea Street Alley LotShape  \\\n",
              "0   1          60       RL         65.0     8450   Pave   NaN      Reg   \n",
              "1   2          20       RL         80.0     9600   Pave   NaN      Reg   \n",
              "2   3          60       RL         68.0    11250   Pave   NaN      IR1   \n",
              "3   4          70       RL         60.0     9550   Pave   NaN      IR1   \n",
              "4   5          60       RL         84.0    14260   Pave   NaN      IR1   \n",
              "\n",
              "  LandContour Utilities  ... PoolArea PoolQC Fence MiscFeature MiscVal MoSold  \\\n",
              "0         Lvl    AllPub  ...        0    NaN   NaN         NaN       0      2   \n",
              "1         Lvl    AllPub  ...        0    NaN   NaN         NaN       0      5   \n",
              "2         Lvl    AllPub  ...        0    NaN   NaN         NaN       0      9   \n",
              "3         Lvl    AllPub  ...        0    NaN   NaN         NaN       0      2   \n",
              "4         Lvl    AllPub  ...        0    NaN   NaN         NaN       0     12   \n",
              "\n",
              "  YrSold  SaleType  SaleCondition  SalePrice  \n",
              "0   2008        WD         Normal     208500  \n",
              "1   2007        WD         Normal     181500  \n",
              "2   2008        WD         Normal     223500  \n",
              "3   2006        WD        Abnorml     140000  \n",
              "4   2008        WD         Normal     250000  \n",
              "\n",
              "[5 rows x 81 columns]"
            ]
          },
          "execution_count": 3,
          "metadata": {},
          "output_type": "execute_result"
        }
      ],
      "source": [
        "train.head()"
      ]
    },
    {
      "cell_type": "code",
      "execution_count": null,
      "id": "89cd6952",
      "metadata": {
        "execution": {
          "iopub.execute_input": "2023-01-10T10:06:51.385373Z",
          "iopub.status.busy": "2023-01-10T10:06:51.384933Z",
          "iopub.status.idle": "2023-01-10T10:06:51.410781Z",
          "shell.execute_reply": "2023-01-10T10:06:51.409507Z"
        },
        "papermill": {
          "duration": 0.04598,
          "end_time": "2023-01-10T10:06:51.413144",
          "exception": false,
          "start_time": "2023-01-10T10:06:51.367164",
          "status": "completed"
        },
        "tags": [],
        "id": "89cd6952",
        "outputId": "3c2f0a28-2d09-4a47-a58d-24e60c7060be"
      },
      "outputs": [
        {
          "data": {
            "text/html": [
              "<div>\n",
              "<style scoped>\n",
              "    .dataframe tbody tr th:only-of-type {\n",
              "        vertical-align: middle;\n",
              "    }\n",
              "\n",
              "    .dataframe tbody tr th {\n",
              "        vertical-align: top;\n",
              "    }\n",
              "\n",
              "    .dataframe thead th {\n",
              "        text-align: right;\n",
              "    }\n",
              "</style>\n",
              "<table border=\"1\" class=\"dataframe\">\n",
              "  <thead>\n",
              "    <tr style=\"text-align: right;\">\n",
              "      <th></th>\n",
              "      <th>Id</th>\n",
              "      <th>MSSubClass</th>\n",
              "      <th>MSZoning</th>\n",
              "      <th>LotFrontage</th>\n",
              "      <th>LotArea</th>\n",
              "      <th>Street</th>\n",
              "      <th>Alley</th>\n",
              "      <th>LotShape</th>\n",
              "      <th>LandContour</th>\n",
              "      <th>Utilities</th>\n",
              "      <th>...</th>\n",
              "      <th>ScreenPorch</th>\n",
              "      <th>PoolArea</th>\n",
              "      <th>PoolQC</th>\n",
              "      <th>Fence</th>\n",
              "      <th>MiscFeature</th>\n",
              "      <th>MiscVal</th>\n",
              "      <th>MoSold</th>\n",
              "      <th>YrSold</th>\n",
              "      <th>SaleType</th>\n",
              "      <th>SaleCondition</th>\n",
              "    </tr>\n",
              "  </thead>\n",
              "  <tbody>\n",
              "    <tr>\n",
              "      <th>0</th>\n",
              "      <td>1461</td>\n",
              "      <td>20</td>\n",
              "      <td>RH</td>\n",
              "      <td>80.0</td>\n",
              "      <td>11622</td>\n",
              "      <td>Pave</td>\n",
              "      <td>NaN</td>\n",
              "      <td>Reg</td>\n",
              "      <td>Lvl</td>\n",
              "      <td>AllPub</td>\n",
              "      <td>...</td>\n",
              "      <td>120</td>\n",
              "      <td>0</td>\n",
              "      <td>NaN</td>\n",
              "      <td>MnPrv</td>\n",
              "      <td>NaN</td>\n",
              "      <td>0</td>\n",
              "      <td>6</td>\n",
              "      <td>2010</td>\n",
              "      <td>WD</td>\n",
              "      <td>Normal</td>\n",
              "    </tr>\n",
              "    <tr>\n",
              "      <th>1</th>\n",
              "      <td>1462</td>\n",
              "      <td>20</td>\n",
              "      <td>RL</td>\n",
              "      <td>81.0</td>\n",
              "      <td>14267</td>\n",
              "      <td>Pave</td>\n",
              "      <td>NaN</td>\n",
              "      <td>IR1</td>\n",
              "      <td>Lvl</td>\n",
              "      <td>AllPub</td>\n",
              "      <td>...</td>\n",
              "      <td>0</td>\n",
              "      <td>0</td>\n",
              "      <td>NaN</td>\n",
              "      <td>NaN</td>\n",
              "      <td>Gar2</td>\n",
              "      <td>12500</td>\n",
              "      <td>6</td>\n",
              "      <td>2010</td>\n",
              "      <td>WD</td>\n",
              "      <td>Normal</td>\n",
              "    </tr>\n",
              "    <tr>\n",
              "      <th>2</th>\n",
              "      <td>1463</td>\n",
              "      <td>60</td>\n",
              "      <td>RL</td>\n",
              "      <td>74.0</td>\n",
              "      <td>13830</td>\n",
              "      <td>Pave</td>\n",
              "      <td>NaN</td>\n",
              "      <td>IR1</td>\n",
              "      <td>Lvl</td>\n",
              "      <td>AllPub</td>\n",
              "      <td>...</td>\n",
              "      <td>0</td>\n",
              "      <td>0</td>\n",
              "      <td>NaN</td>\n",
              "      <td>MnPrv</td>\n",
              "      <td>NaN</td>\n",
              "      <td>0</td>\n",
              "      <td>3</td>\n",
              "      <td>2010</td>\n",
              "      <td>WD</td>\n",
              "      <td>Normal</td>\n",
              "    </tr>\n",
              "    <tr>\n",
              "      <th>3</th>\n",
              "      <td>1464</td>\n",
              "      <td>60</td>\n",
              "      <td>RL</td>\n",
              "      <td>78.0</td>\n",
              "      <td>9978</td>\n",
              "      <td>Pave</td>\n",
              "      <td>NaN</td>\n",
              "      <td>IR1</td>\n",
              "      <td>Lvl</td>\n",
              "      <td>AllPub</td>\n",
              "      <td>...</td>\n",
              "      <td>0</td>\n",
              "      <td>0</td>\n",
              "      <td>NaN</td>\n",
              "      <td>NaN</td>\n",
              "      <td>NaN</td>\n",
              "      <td>0</td>\n",
              "      <td>6</td>\n",
              "      <td>2010</td>\n",
              "      <td>WD</td>\n",
              "      <td>Normal</td>\n",
              "    </tr>\n",
              "    <tr>\n",
              "      <th>4</th>\n",
              "      <td>1465</td>\n",
              "      <td>120</td>\n",
              "      <td>RL</td>\n",
              "      <td>43.0</td>\n",
              "      <td>5005</td>\n",
              "      <td>Pave</td>\n",
              "      <td>NaN</td>\n",
              "      <td>IR1</td>\n",
              "      <td>HLS</td>\n",
              "      <td>AllPub</td>\n",
              "      <td>...</td>\n",
              "      <td>144</td>\n",
              "      <td>0</td>\n",
              "      <td>NaN</td>\n",
              "      <td>NaN</td>\n",
              "      <td>NaN</td>\n",
              "      <td>0</td>\n",
              "      <td>1</td>\n",
              "      <td>2010</td>\n",
              "      <td>WD</td>\n",
              "      <td>Normal</td>\n",
              "    </tr>\n",
              "  </tbody>\n",
              "</table>\n",
              "<p>5 rows × 80 columns</p>\n",
              "</div>"
            ],
            "text/plain": [
              "     Id  MSSubClass MSZoning  LotFrontage  LotArea Street Alley LotShape  \\\n",
              "0  1461          20       RH         80.0    11622   Pave   NaN      Reg   \n",
              "1  1462          20       RL         81.0    14267   Pave   NaN      IR1   \n",
              "2  1463          60       RL         74.0    13830   Pave   NaN      IR1   \n",
              "3  1464          60       RL         78.0     9978   Pave   NaN      IR1   \n",
              "4  1465         120       RL         43.0     5005   Pave   NaN      IR1   \n",
              "\n",
              "  LandContour Utilities  ... ScreenPorch PoolArea PoolQC  Fence MiscFeature  \\\n",
              "0         Lvl    AllPub  ...         120        0    NaN  MnPrv         NaN   \n",
              "1         Lvl    AllPub  ...           0        0    NaN    NaN        Gar2   \n",
              "2         Lvl    AllPub  ...           0        0    NaN  MnPrv         NaN   \n",
              "3         Lvl    AllPub  ...           0        0    NaN    NaN         NaN   \n",
              "4         HLS    AllPub  ...         144        0    NaN    NaN         NaN   \n",
              "\n",
              "  MiscVal MoSold  YrSold  SaleType  SaleCondition  \n",
              "0       0      6    2010        WD         Normal  \n",
              "1   12500      6    2010        WD         Normal  \n",
              "2       0      3    2010        WD         Normal  \n",
              "3       0      6    2010        WD         Normal  \n",
              "4       0      1    2010        WD         Normal  \n",
              "\n",
              "[5 rows x 80 columns]"
            ]
          },
          "execution_count": 4,
          "metadata": {},
          "output_type": "execute_result"
        }
      ],
      "source": [
        "test.head()"
      ]
    },
    {
      "cell_type": "markdown",
      "id": "46148b3f",
      "metadata": {
        "papermill": {
          "duration": 0.016217,
          "end_time": "2023-01-10T10:06:51.446674",
          "exception": false,
          "start_time": "2023-01-10T10:06:51.430457",
          "status": "completed"
        },
        "tags": [],
        "id": "46148b3f"
      },
      "source": [
        "### Data Types"
      ]
    },
    {
      "cell_type": "code",
      "execution_count": null,
      "id": "f1d2a3ad",
      "metadata": {
        "execution": {
          "iopub.execute_input": "2023-01-10T10:06:51.483740Z",
          "iopub.status.busy": "2023-01-10T10:06:51.483345Z",
          "iopub.status.idle": "2023-01-10T10:06:51.517183Z",
          "shell.execute_reply": "2023-01-10T10:06:51.515391Z"
        },
        "papermill": {
          "duration": 0.056058,
          "end_time": "2023-01-10T10:06:51.520626",
          "exception": false,
          "start_time": "2023-01-10T10:06:51.464568",
          "status": "completed"
        },
        "tags": [],
        "id": "f1d2a3ad",
        "outputId": "8548dab7-5f9b-464c-d6db-d44ca9ffa229"
      },
      "outputs": [
        {
          "name": "stdout",
          "output_type": "stream",
          "text": [
            "<class 'pandas.core.frame.DataFrame'>\n",
            "RangeIndex: 1460 entries, 0 to 1459\n",
            "Data columns (total 81 columns):\n",
            " #   Column         Non-Null Count  Dtype  \n",
            "---  ------         --------------  -----  \n",
            " 0   Id             1460 non-null   int64  \n",
            " 1   MSSubClass     1460 non-null   int64  \n",
            " 2   MSZoning       1460 non-null   object \n",
            " 3   LotFrontage    1201 non-null   float64\n",
            " 4   LotArea        1460 non-null   int64  \n",
            " 5   Street         1460 non-null   object \n",
            " 6   Alley          91 non-null     object \n",
            " 7   LotShape       1460 non-null   object \n",
            " 8   LandContour    1460 non-null   object \n",
            " 9   Utilities      1460 non-null   object \n",
            " 10  LotConfig      1460 non-null   object \n",
            " 11  LandSlope      1460 non-null   object \n",
            " 12  Neighborhood   1460 non-null   object \n",
            " 13  Condition1     1460 non-null   object \n",
            " 14  Condition2     1460 non-null   object \n",
            " 15  BldgType       1460 non-null   object \n",
            " 16  HouseStyle     1460 non-null   object \n",
            " 17  OverallQual    1460 non-null   int64  \n",
            " 18  OverallCond    1460 non-null   int64  \n",
            " 19  YearBuilt      1460 non-null   int64  \n",
            " 20  YearRemodAdd   1460 non-null   int64  \n",
            " 21  RoofStyle      1460 non-null   object \n",
            " 22  RoofMatl       1460 non-null   object \n",
            " 23  Exterior1st    1460 non-null   object \n",
            " 24  Exterior2nd    1460 non-null   object \n",
            " 25  MasVnrType     1452 non-null   object \n",
            " 26  MasVnrArea     1452 non-null   float64\n",
            " 27  ExterQual      1460 non-null   object \n",
            " 28  ExterCond      1460 non-null   object \n",
            " 29  Foundation     1460 non-null   object \n",
            " 30  BsmtQual       1423 non-null   object \n",
            " 31  BsmtCond       1423 non-null   object \n",
            " 32  BsmtExposure   1422 non-null   object \n",
            " 33  BsmtFinType1   1423 non-null   object \n",
            " 34  BsmtFinSF1     1460 non-null   int64  \n",
            " 35  BsmtFinType2   1422 non-null   object \n",
            " 36  BsmtFinSF2     1460 non-null   int64  \n",
            " 37  BsmtUnfSF      1460 non-null   int64  \n",
            " 38  TotalBsmtSF    1460 non-null   int64  \n",
            " 39  Heating        1460 non-null   object \n",
            " 40  HeatingQC      1460 non-null   object \n",
            " 41  CentralAir     1460 non-null   object \n",
            " 42  Electrical     1459 non-null   object \n",
            " 43  1stFlrSF       1460 non-null   int64  \n",
            " 44  2ndFlrSF       1460 non-null   int64  \n",
            " 45  LowQualFinSF   1460 non-null   int64  \n",
            " 46  GrLivArea      1460 non-null   int64  \n",
            " 47  BsmtFullBath   1460 non-null   int64  \n",
            " 48  BsmtHalfBath   1460 non-null   int64  \n",
            " 49  FullBath       1460 non-null   int64  \n",
            " 50  HalfBath       1460 non-null   int64  \n",
            " 51  BedroomAbvGr   1460 non-null   int64  \n",
            " 52  KitchenAbvGr   1460 non-null   int64  \n",
            " 53  KitchenQual    1460 non-null   object \n",
            " 54  TotRmsAbvGrd   1460 non-null   int64  \n",
            " 55  Functional     1460 non-null   object \n",
            " 56  Fireplaces     1460 non-null   int64  \n",
            " 57  FireplaceQu    770 non-null    object \n",
            " 58  GarageType     1379 non-null   object \n",
            " 59  GarageYrBlt    1379 non-null   float64\n",
            " 60  GarageFinish   1379 non-null   object \n",
            " 61  GarageCars     1460 non-null   int64  \n",
            " 62  GarageArea     1460 non-null   int64  \n",
            " 63  GarageQual     1379 non-null   object \n",
            " 64  GarageCond     1379 non-null   object \n",
            " 65  PavedDrive     1460 non-null   object \n",
            " 66  WoodDeckSF     1460 non-null   int64  \n",
            " 67  OpenPorchSF    1460 non-null   int64  \n",
            " 68  EnclosedPorch  1460 non-null   int64  \n",
            " 69  3SsnPorch      1460 non-null   int64  \n",
            " 70  ScreenPorch    1460 non-null   int64  \n",
            " 71  PoolArea       1460 non-null   int64  \n",
            " 72  PoolQC         7 non-null      object \n",
            " 73  Fence          281 non-null    object \n",
            " 74  MiscFeature    54 non-null     object \n",
            " 75  MiscVal        1460 non-null   int64  \n",
            " 76  MoSold         1460 non-null   int64  \n",
            " 77  YrSold         1460 non-null   int64  \n",
            " 78  SaleType       1460 non-null   object \n",
            " 79  SaleCondition  1460 non-null   object \n",
            " 80  SalePrice      1460 non-null   int64  \n",
            "dtypes: float64(3), int64(35), object(43)\n",
            "memory usage: 924.0+ KB\n"
          ]
        }
      ],
      "source": [
        "train.info()"
      ]
    },
    {
      "cell_type": "code",
      "execution_count": null,
      "id": "b3bc23e3",
      "metadata": {
        "execution": {
          "iopub.execute_input": "2023-01-10T10:06:51.556418Z",
          "iopub.status.busy": "2023-01-10T10:06:51.555891Z",
          "iopub.status.idle": "2023-01-10T10:06:51.578752Z",
          "shell.execute_reply": "2023-01-10T10:06:51.576624Z"
        },
        "papermill": {
          "duration": 0.043985,
          "end_time": "2023-01-10T10:06:51.581820",
          "exception": false,
          "start_time": "2023-01-10T10:06:51.537835",
          "status": "completed"
        },
        "tags": [],
        "id": "b3bc23e3",
        "outputId": "6bdbc451-38ae-4f90-b87f-fe3d1c36a069"
      },
      "outputs": [
        {
          "name": "stdout",
          "output_type": "stream",
          "text": [
            "<class 'pandas.core.frame.DataFrame'>\n",
            "RangeIndex: 1459 entries, 0 to 1458\n",
            "Data columns (total 80 columns):\n",
            " #   Column         Non-Null Count  Dtype  \n",
            "---  ------         --------------  -----  \n",
            " 0   Id             1459 non-null   int64  \n",
            " 1   MSSubClass     1459 non-null   int64  \n",
            " 2   MSZoning       1455 non-null   object \n",
            " 3   LotFrontage    1232 non-null   float64\n",
            " 4   LotArea        1459 non-null   int64  \n",
            " 5   Street         1459 non-null   object \n",
            " 6   Alley          107 non-null    object \n",
            " 7   LotShape       1459 non-null   object \n",
            " 8   LandContour    1459 non-null   object \n",
            " 9   Utilities      1457 non-null   object \n",
            " 10  LotConfig      1459 non-null   object \n",
            " 11  LandSlope      1459 non-null   object \n",
            " 12  Neighborhood   1459 non-null   object \n",
            " 13  Condition1     1459 non-null   object \n",
            " 14  Condition2     1459 non-null   object \n",
            " 15  BldgType       1459 non-null   object \n",
            " 16  HouseStyle     1459 non-null   object \n",
            " 17  OverallQual    1459 non-null   int64  \n",
            " 18  OverallCond    1459 non-null   int64  \n",
            " 19  YearBuilt      1459 non-null   int64  \n",
            " 20  YearRemodAdd   1459 non-null   int64  \n",
            " 21  RoofStyle      1459 non-null   object \n",
            " 22  RoofMatl       1459 non-null   object \n",
            " 23  Exterior1st    1458 non-null   object \n",
            " 24  Exterior2nd    1458 non-null   object \n",
            " 25  MasVnrType     1443 non-null   object \n",
            " 26  MasVnrArea     1444 non-null   float64\n",
            " 27  ExterQual      1459 non-null   object \n",
            " 28  ExterCond      1459 non-null   object \n",
            " 29  Foundation     1459 non-null   object \n",
            " 30  BsmtQual       1415 non-null   object \n",
            " 31  BsmtCond       1414 non-null   object \n",
            " 32  BsmtExposure   1415 non-null   object \n",
            " 33  BsmtFinType1   1417 non-null   object \n",
            " 34  BsmtFinSF1     1458 non-null   float64\n",
            " 35  BsmtFinType2   1417 non-null   object \n",
            " 36  BsmtFinSF2     1458 non-null   float64\n",
            " 37  BsmtUnfSF      1458 non-null   float64\n",
            " 38  TotalBsmtSF    1458 non-null   float64\n",
            " 39  Heating        1459 non-null   object \n",
            " 40  HeatingQC      1459 non-null   object \n",
            " 41  CentralAir     1459 non-null   object \n",
            " 42  Electrical     1459 non-null   object \n",
            " 43  1stFlrSF       1459 non-null   int64  \n",
            " 44  2ndFlrSF       1459 non-null   int64  \n",
            " 45  LowQualFinSF   1459 non-null   int64  \n",
            " 46  GrLivArea      1459 non-null   int64  \n",
            " 47  BsmtFullBath   1457 non-null   float64\n",
            " 48  BsmtHalfBath   1457 non-null   float64\n",
            " 49  FullBath       1459 non-null   int64  \n",
            " 50  HalfBath       1459 non-null   int64  \n",
            " 51  BedroomAbvGr   1459 non-null   int64  \n",
            " 52  KitchenAbvGr   1459 non-null   int64  \n",
            " 53  KitchenQual    1458 non-null   object \n",
            " 54  TotRmsAbvGrd   1459 non-null   int64  \n",
            " 55  Functional     1457 non-null   object \n",
            " 56  Fireplaces     1459 non-null   int64  \n",
            " 57  FireplaceQu    729 non-null    object \n",
            " 58  GarageType     1383 non-null   object \n",
            " 59  GarageYrBlt    1381 non-null   float64\n",
            " 60  GarageFinish   1381 non-null   object \n",
            " 61  GarageCars     1458 non-null   float64\n",
            " 62  GarageArea     1458 non-null   float64\n",
            " 63  GarageQual     1381 non-null   object \n",
            " 64  GarageCond     1381 non-null   object \n",
            " 65  PavedDrive     1459 non-null   object \n",
            " 66  WoodDeckSF     1459 non-null   int64  \n",
            " 67  OpenPorchSF    1459 non-null   int64  \n",
            " 68  EnclosedPorch  1459 non-null   int64  \n",
            " 69  3SsnPorch      1459 non-null   int64  \n",
            " 70  ScreenPorch    1459 non-null   int64  \n",
            " 71  PoolArea       1459 non-null   int64  \n",
            " 72  PoolQC         3 non-null      object \n",
            " 73  Fence          290 non-null    object \n",
            " 74  MiscFeature    51 non-null     object \n",
            " 75  MiscVal        1459 non-null   int64  \n",
            " 76  MoSold         1459 non-null   int64  \n",
            " 77  YrSold         1459 non-null   int64  \n",
            " 78  SaleType       1458 non-null   object \n",
            " 79  SaleCondition  1459 non-null   object \n",
            "dtypes: float64(11), int64(26), object(43)\n",
            "memory usage: 912.0+ KB\n"
          ]
        }
      ],
      "source": [
        "test.info()"
      ]
    },
    {
      "cell_type": "markdown",
      "id": "61fdde2f",
      "metadata": {
        "papermill": {
          "duration": 0.017006,
          "end_time": "2023-01-10T10:06:51.615561",
          "exception": false,
          "start_time": "2023-01-10T10:06:51.598555",
          "status": "completed"
        },
        "tags": [],
        "id": "61fdde2f"
      },
      "source": [
        "### Data information"
      ]
    },
    {
      "cell_type": "markdown",
      "id": "d777e8aa",
      "metadata": {
        "papermill": {
          "duration": 0.022444,
          "end_time": "2023-01-10T10:06:51.654576",
          "exception": false,
          "start_time": "2023-01-10T10:06:51.632132",
          "status": "completed"
        },
        "tags": [],
        "id": "d777e8aa"
      },
      "source": [
        "##### Apparently, all columns in the datasets seem informative variables based on the data explanation.\n",
        "##### Link: [The explanation about the columns of the datasets for this project](https://www.kaggle.com/competitions/house-prices-advanced-regression-techniques/data)"
      ]
    },
    {
      "cell_type": "markdown",
      "id": "86364b1a",
      "metadata": {
        "papermill": {
          "duration": 0.018941,
          "end_time": "2023-01-10T10:06:51.693640",
          "exception": false,
          "start_time": "2023-01-10T10:06:51.674699",
          "status": "completed"
        },
        "tags": [],
        "id": "86364b1a"
      },
      "source": [
        "# Data Preparation"
      ]
    },
    {
      "cell_type": "markdown",
      "id": "4c28d522",
      "metadata": {
        "papermill": {
          "duration": 0.016813,
          "end_time": "2023-01-10T10:06:51.736530",
          "exception": false,
          "start_time": "2023-01-10T10:06:51.719717",
          "status": "completed"
        },
        "tags": [],
        "id": "4c28d522"
      },
      "source": [
        "### Convert categorical data into numeric data"
      ]
    },
    {
      "cell_type": "code",
      "execution_count": null,
      "id": "afc87ca0",
      "metadata": {
        "execution": {
          "iopub.execute_input": "2023-01-10T10:06:51.773842Z",
          "iopub.status.busy": "2023-01-10T10:06:51.773437Z",
          "iopub.status.idle": "2023-01-10T10:06:51.860967Z",
          "shell.execute_reply": "2023-01-10T10:06:51.859623Z"
        },
        "papermill": {
          "duration": 0.108168,
          "end_time": "2023-01-10T10:06:51.863970",
          "exception": false,
          "start_time": "2023-01-10T10:06:51.755802",
          "status": "completed"
        },
        "tags": [],
        "id": "afc87ca0"
      },
      "outputs": [],
      "source": [
        "train = pd.get_dummies(train)\n",
        "test = pd.get_dummies(test)"
      ]
    },
    {
      "cell_type": "markdown",
      "id": "4befcd43",
      "metadata": {
        "papermill": {
          "duration": 0.017161,
          "end_time": "2023-01-10T10:06:51.897745",
          "exception": false,
          "start_time": "2023-01-10T10:06:51.880584",
          "status": "completed"
        },
        "tags": [],
        "id": "4befcd43"
      },
      "source": [
        "##### And the next thing to do is checking whether the new columns in train and test dataset are the same or not."
      ]
    },
    {
      "cell_type": "code",
      "execution_count": null,
      "id": "e2c30aaa",
      "metadata": {
        "execution": {
          "iopub.execute_input": "2023-01-10T10:06:51.933220Z",
          "iopub.status.busy": "2023-01-10T10:06:51.932832Z",
          "iopub.status.idle": "2023-01-10T10:06:51.938972Z",
          "shell.execute_reply": "2023-01-10T10:06:51.937750Z"
        },
        "papermill": {
          "duration": 0.027793,
          "end_time": "2023-01-10T10:06:51.941978",
          "exception": false,
          "start_time": "2023-01-10T10:06:51.914185",
          "status": "completed"
        },
        "tags": [],
        "id": "e2c30aaa",
        "outputId": "297fdab9-588a-42ad-8775-ddc2e9febba7"
      },
      "outputs": [
        {
          "name": "stdout",
          "output_type": "stream",
          "text": [
            "the number of columns in train dataset is 290\n",
            "the number of columns in test dataset is 271\n"
          ]
        }
      ],
      "source": [
        "print('the number of columns in train dataset is', len(train.columns))\n",
        "print('the number of columns in test dataset is', len(test.columns))"
      ]
    },
    {
      "cell_type": "markdown",
      "id": "5d0d561b",
      "metadata": {
        "papermill": {
          "duration": 0.016837,
          "end_time": "2023-01-10T10:06:51.975846",
          "exception": false,
          "start_time": "2023-01-10T10:06:51.959009",
          "status": "completed"
        },
        "tags": [],
        "id": "5d0d561b"
      },
      "source": [
        "##### The number of columns in train and test dataset are different, so leave only the same columns in train dataset."
      ]
    },
    {
      "cell_type": "code",
      "execution_count": null,
      "id": "608b7eb0",
      "metadata": {
        "execution": {
          "iopub.execute_input": "2023-01-10T10:06:52.011011Z",
          "iopub.status.busy": "2023-01-10T10:06:52.010640Z",
          "iopub.status.idle": "2023-01-10T10:06:52.021816Z",
          "shell.execute_reply": "2023-01-10T10:06:52.020924Z"
        },
        "papermill": {
          "duration": 0.031947,
          "end_time": "2023-01-10T10:06:52.024071",
          "exception": false,
          "start_time": "2023-01-10T10:06:51.992124",
          "status": "completed"
        },
        "tags": [],
        "id": "608b7eb0",
        "outputId": "99072f91-808a-4a05-a1bd-07011790e2d7"
      },
      "outputs": [
        {
          "data": {
            "text/plain": [
              "271"
            ]
          },
          "execution_count": 9,
          "metadata": {},
          "output_type": "execute_result"
        }
      ],
      "source": [
        "len(train[test.columns].columns)"
      ]
    },
    {
      "cell_type": "markdown",
      "id": "6afce261",
      "metadata": {
        "papermill": {
          "duration": 0.017146,
          "end_time": "2023-01-10T10:06:52.058071",
          "exception": false,
          "start_time": "2023-01-10T10:06:52.040925",
          "status": "completed"
        },
        "tags": [],
        "id": "6afce261"
      },
      "source": [
        "##### The result above is the same as the number of columns in test dataset, so let's change train dataset to dataset having only the same columns. \n",
        "##### Warning! The dependent variable does not exist in test dataset, so let's add it into new train dataset."
      ]
    },
    {
      "cell_type": "code",
      "execution_count": null,
      "id": "01bfccd9",
      "metadata": {
        "execution": {
          "iopub.execute_input": "2023-01-10T10:06:52.105009Z",
          "iopub.status.busy": "2023-01-10T10:06:52.104411Z",
          "iopub.status.idle": "2023-01-10T10:06:52.111772Z",
          "shell.execute_reply": "2023-01-10T10:06:52.110461Z"
        },
        "papermill": {
          "duration": 0.033476,
          "end_time": "2023-01-10T10:06:52.114477",
          "exception": false,
          "start_time": "2023-01-10T10:06:52.081001",
          "status": "completed"
        },
        "tags": [],
        "id": "01bfccd9"
      },
      "outputs": [],
      "source": [
        "dependent_variable = train.SalePrice"
      ]
    },
    {
      "cell_type": "code",
      "execution_count": null,
      "id": "d880c697",
      "metadata": {
        "execution": {
          "iopub.execute_input": "2023-01-10T10:06:52.154781Z",
          "iopub.status.busy": "2023-01-10T10:06:52.153438Z",
          "iopub.status.idle": "2023-01-10T10:06:52.163631Z",
          "shell.execute_reply": "2023-01-10T10:06:52.162630Z"
        },
        "papermill": {
          "duration": 0.033933,
          "end_time": "2023-01-10T10:06:52.166124",
          "exception": false,
          "start_time": "2023-01-10T10:06:52.132191",
          "status": "completed"
        },
        "tags": [],
        "id": "d880c697"
      },
      "outputs": [],
      "source": [
        "train = train[test.columns]\n",
        "train['SalePrice'] = dependent_variable"
      ]
    },
    {
      "cell_type": "markdown",
      "id": "0545438d",
      "metadata": {
        "papermill": {
          "duration": 0.017258,
          "end_time": "2023-01-10T10:06:52.200941",
          "exception": false,
          "start_time": "2023-01-10T10:06:52.183683",
          "status": "completed"
        },
        "tags": [],
        "id": "0545438d"
      },
      "source": [
        "### Set Index"
      ]
    },
    {
      "cell_type": "code",
      "execution_count": null,
      "id": "cbda6857",
      "metadata": {
        "execution": {
          "iopub.execute_input": "2023-01-10T10:06:52.241129Z",
          "iopub.status.busy": "2023-01-10T10:06:52.240360Z",
          "iopub.status.idle": "2023-01-10T10:06:52.253297Z",
          "shell.execute_reply": "2023-01-10T10:06:52.250985Z"
        },
        "papermill": {
          "duration": 0.036955,
          "end_time": "2023-01-10T10:06:52.256153",
          "exception": false,
          "start_time": "2023-01-10T10:06:52.219198",
          "status": "completed"
        },
        "tags": [],
        "id": "cbda6857"
      },
      "outputs": [],
      "source": [
        "train = train.set_index('Id')\n",
        "test = test.set_index('Id')"
      ]
    },
    {
      "cell_type": "markdown",
      "id": "21360f57",
      "metadata": {
        "papermill": {
          "duration": 0.017506,
          "end_time": "2023-01-10T10:06:52.292194",
          "exception": false,
          "start_time": "2023-01-10T10:06:52.274688",
          "status": "completed"
        },
        "tags": [],
        "id": "21360f57"
      },
      "source": [
        "### Collinearity"
      ]
    },
    {
      "cell_type": "code",
      "execution_count": null,
      "id": "9afd9ddd",
      "metadata": {
        "execution": {
          "iopub.execute_input": "2023-01-10T10:06:52.329516Z",
          "iopub.status.busy": "2023-01-10T10:06:52.327155Z",
          "iopub.status.idle": "2023-01-10T10:06:53.538088Z",
          "shell.execute_reply": "2023-01-10T10:06:53.536523Z"
        },
        "papermill": {
          "duration": 1.231919,
          "end_time": "2023-01-10T10:06:53.540999",
          "exception": false,
          "start_time": "2023-01-10T10:06:52.309080",
          "status": "completed"
        },
        "tags": [],
        "id": "9afd9ddd"
      },
      "outputs": [],
      "source": [
        "condition = (train.corr() < -0.7) | (train.corr() > 0.7) & (train.corr() != 1)\n",
        "correlation = train.drop('SalePrice', axis=1).corr()[condition].dropna(how='all', axis=0)\n",
        "collinearity = correlation[correlation.index]"
      ]
    },
    {
      "cell_type": "code",
      "execution_count": null,
      "id": "33a94b8e",
      "metadata": {
        "execution": {
          "iopub.execute_input": "2023-01-10T10:06:53.577114Z",
          "iopub.status.busy": "2023-01-10T10:06:53.576658Z",
          "iopub.status.idle": "2023-01-10T10:06:53.611865Z",
          "shell.execute_reply": "2023-01-10T10:06:53.610505Z"
        },
        "papermill": {
          "duration": 0.055888,
          "end_time": "2023-01-10T10:06:53.614367",
          "exception": false,
          "start_time": "2023-01-10T10:06:53.558479",
          "status": "completed"
        },
        "tags": [],
        "id": "33a94b8e",
        "outputId": "ec003f59-6c92-4704-ab1c-67679d21398a"
      },
      "outputs": [
        {
          "data": {
            "text/html": [
              "<div>\n",
              "<style scoped>\n",
              "    .dataframe tbody tr th:only-of-type {\n",
              "        vertical-align: middle;\n",
              "    }\n",
              "\n",
              "    .dataframe tbody tr th {\n",
              "        vertical-align: top;\n",
              "    }\n",
              "\n",
              "    .dataframe thead th {\n",
              "        text-align: right;\n",
              "    }\n",
              "</style>\n",
              "<table border=\"1\" class=\"dataframe\">\n",
              "  <thead>\n",
              "    <tr style=\"text-align: right;\">\n",
              "      <th></th>\n",
              "      <th>MSSubClass</th>\n",
              "      <th>YearBuilt</th>\n",
              "      <th>BsmtFinSF2</th>\n",
              "      <th>TotalBsmtSF</th>\n",
              "      <th>1stFlrSF</th>\n",
              "      <th>2ndFlrSF</th>\n",
              "      <th>GrLivArea</th>\n",
              "      <th>TotRmsAbvGrd</th>\n",
              "      <th>GarageYrBlt</th>\n",
              "      <th>GarageCars</th>\n",
              "      <th>...</th>\n",
              "      <th>GarageType_Attchd</th>\n",
              "      <th>GarageType_Detchd</th>\n",
              "      <th>GarageQual_TA</th>\n",
              "      <th>GarageCond_TA</th>\n",
              "      <th>PavedDrive_N</th>\n",
              "      <th>PavedDrive_Y</th>\n",
              "      <th>MiscFeature_Gar2</th>\n",
              "      <th>SaleType_New</th>\n",
              "      <th>SaleType_WD</th>\n",
              "      <th>SaleCondition_Partial</th>\n",
              "    </tr>\n",
              "  </thead>\n",
              "  <tbody>\n",
              "    <tr>\n",
              "      <th>MSSubClass</th>\n",
              "      <td>NaN</td>\n",
              "      <td>NaN</td>\n",
              "      <td>NaN</td>\n",
              "      <td>NaN</td>\n",
              "      <td>NaN</td>\n",
              "      <td>NaN</td>\n",
              "      <td>NaN</td>\n",
              "      <td>NaN</td>\n",
              "      <td>NaN</td>\n",
              "      <td>NaN</td>\n",
              "      <td>...</td>\n",
              "      <td>NaN</td>\n",
              "      <td>NaN</td>\n",
              "      <td>NaN</td>\n",
              "      <td>NaN</td>\n",
              "      <td>NaN</td>\n",
              "      <td>NaN</td>\n",
              "      <td>NaN</td>\n",
              "      <td>NaN</td>\n",
              "      <td>NaN</td>\n",
              "      <td>NaN</td>\n",
              "    </tr>\n",
              "    <tr>\n",
              "      <th>YearBuilt</th>\n",
              "      <td>NaN</td>\n",
              "      <td>NaN</td>\n",
              "      <td>NaN</td>\n",
              "      <td>NaN</td>\n",
              "      <td>NaN</td>\n",
              "      <td>NaN</td>\n",
              "      <td>NaN</td>\n",
              "      <td>NaN</td>\n",
              "      <td>0.825667</td>\n",
              "      <td>NaN</td>\n",
              "      <td>...</td>\n",
              "      <td>NaN</td>\n",
              "      <td>NaN</td>\n",
              "      <td>NaN</td>\n",
              "      <td>NaN</td>\n",
              "      <td>NaN</td>\n",
              "      <td>NaN</td>\n",
              "      <td>NaN</td>\n",
              "      <td>NaN</td>\n",
              "      <td>NaN</td>\n",
              "      <td>NaN</td>\n",
              "    </tr>\n",
              "    <tr>\n",
              "      <th>BsmtFinSF2</th>\n",
              "      <td>NaN</td>\n",
              "      <td>NaN</td>\n",
              "      <td>NaN</td>\n",
              "      <td>NaN</td>\n",
              "      <td>NaN</td>\n",
              "      <td>NaN</td>\n",
              "      <td>NaN</td>\n",
              "      <td>NaN</td>\n",
              "      <td>NaN</td>\n",
              "      <td>NaN</td>\n",
              "      <td>...</td>\n",
              "      <td>NaN</td>\n",
              "      <td>NaN</td>\n",
              "      <td>NaN</td>\n",
              "      <td>NaN</td>\n",
              "      <td>NaN</td>\n",
              "      <td>NaN</td>\n",
              "      <td>NaN</td>\n",
              "      <td>NaN</td>\n",
              "      <td>NaN</td>\n",
              "      <td>NaN</td>\n",
              "    </tr>\n",
              "    <tr>\n",
              "      <th>TotalBsmtSF</th>\n",
              "      <td>NaN</td>\n",
              "      <td>NaN</td>\n",
              "      <td>NaN</td>\n",
              "      <td>NaN</td>\n",
              "      <td>0.81953</td>\n",
              "      <td>NaN</td>\n",
              "      <td>NaN</td>\n",
              "      <td>NaN</td>\n",
              "      <td>NaN</td>\n",
              "      <td>NaN</td>\n",
              "      <td>...</td>\n",
              "      <td>NaN</td>\n",
              "      <td>NaN</td>\n",
              "      <td>NaN</td>\n",
              "      <td>NaN</td>\n",
              "      <td>NaN</td>\n",
              "      <td>NaN</td>\n",
              "      <td>NaN</td>\n",
              "      <td>NaN</td>\n",
              "      <td>NaN</td>\n",
              "      <td>NaN</td>\n",
              "    </tr>\n",
              "    <tr>\n",
              "      <th>1stFlrSF</th>\n",
              "      <td>NaN</td>\n",
              "      <td>NaN</td>\n",
              "      <td>NaN</td>\n",
              "      <td>0.81953</td>\n",
              "      <td>NaN</td>\n",
              "      <td>NaN</td>\n",
              "      <td>NaN</td>\n",
              "      <td>NaN</td>\n",
              "      <td>NaN</td>\n",
              "      <td>NaN</td>\n",
              "      <td>...</td>\n",
              "      <td>NaN</td>\n",
              "      <td>NaN</td>\n",
              "      <td>NaN</td>\n",
              "      <td>NaN</td>\n",
              "      <td>NaN</td>\n",
              "      <td>NaN</td>\n",
              "      <td>NaN</td>\n",
              "      <td>NaN</td>\n",
              "      <td>NaN</td>\n",
              "      <td>NaN</td>\n",
              "    </tr>\n",
              "    <tr>\n",
              "      <th>...</th>\n",
              "      <td>...</td>\n",
              "      <td>...</td>\n",
              "      <td>...</td>\n",
              "      <td>...</td>\n",
              "      <td>...</td>\n",
              "      <td>...</td>\n",
              "      <td>...</td>\n",
              "      <td>...</td>\n",
              "      <td>...</td>\n",
              "      <td>...</td>\n",
              "      <td>...</td>\n",
              "      <td>...</td>\n",
              "      <td>...</td>\n",
              "      <td>...</td>\n",
              "      <td>...</td>\n",
              "      <td>...</td>\n",
              "      <td>...</td>\n",
              "      <td>...</td>\n",
              "      <td>...</td>\n",
              "      <td>...</td>\n",
              "      <td>...</td>\n",
              "    </tr>\n",
              "    <tr>\n",
              "      <th>PavedDrive_Y</th>\n",
              "      <td>NaN</td>\n",
              "      <td>NaN</td>\n",
              "      <td>NaN</td>\n",
              "      <td>NaN</td>\n",
              "      <td>NaN</td>\n",
              "      <td>NaN</td>\n",
              "      <td>NaN</td>\n",
              "      <td>NaN</td>\n",
              "      <td>NaN</td>\n",
              "      <td>NaN</td>\n",
              "      <td>...</td>\n",
              "      <td>NaN</td>\n",
              "      <td>NaN</td>\n",
              "      <td>NaN</td>\n",
              "      <td>NaN</td>\n",
              "      <td>-0.856491</td>\n",
              "      <td>NaN</td>\n",
              "      <td>NaN</td>\n",
              "      <td>NaN</td>\n",
              "      <td>NaN</td>\n",
              "      <td>NaN</td>\n",
              "    </tr>\n",
              "    <tr>\n",
              "      <th>MiscFeature_Gar2</th>\n",
              "      <td>NaN</td>\n",
              "      <td>NaN</td>\n",
              "      <td>NaN</td>\n",
              "      <td>NaN</td>\n",
              "      <td>NaN</td>\n",
              "      <td>NaN</td>\n",
              "      <td>NaN</td>\n",
              "      <td>NaN</td>\n",
              "      <td>NaN</td>\n",
              "      <td>NaN</td>\n",
              "      <td>...</td>\n",
              "      <td>NaN</td>\n",
              "      <td>NaN</td>\n",
              "      <td>NaN</td>\n",
              "      <td>NaN</td>\n",
              "      <td>NaN</td>\n",
              "      <td>NaN</td>\n",
              "      <td>NaN</td>\n",
              "      <td>NaN</td>\n",
              "      <td>NaN</td>\n",
              "      <td>NaN</td>\n",
              "    </tr>\n",
              "    <tr>\n",
              "      <th>SaleType_New</th>\n",
              "      <td>NaN</td>\n",
              "      <td>NaN</td>\n",
              "      <td>NaN</td>\n",
              "      <td>NaN</td>\n",
              "      <td>NaN</td>\n",
              "      <td>NaN</td>\n",
              "      <td>NaN</td>\n",
              "      <td>NaN</td>\n",
              "      <td>NaN</td>\n",
              "      <td>NaN</td>\n",
              "      <td>...</td>\n",
              "      <td>NaN</td>\n",
              "      <td>NaN</td>\n",
              "      <td>NaN</td>\n",
              "      <td>NaN</td>\n",
              "      <td>NaN</td>\n",
              "      <td>NaN</td>\n",
              "      <td>NaN</td>\n",
              "      <td>NaN</td>\n",
              "      <td>-0.773680</td>\n",
              "      <td>0.986819</td>\n",
              "    </tr>\n",
              "    <tr>\n",
              "      <th>SaleType_WD</th>\n",
              "      <td>NaN</td>\n",
              "      <td>NaN</td>\n",
              "      <td>NaN</td>\n",
              "      <td>NaN</td>\n",
              "      <td>NaN</td>\n",
              "      <td>NaN</td>\n",
              "      <td>NaN</td>\n",
              "      <td>NaN</td>\n",
              "      <td>NaN</td>\n",
              "      <td>NaN</td>\n",
              "      <td>...</td>\n",
              "      <td>NaN</td>\n",
              "      <td>NaN</td>\n",
              "      <td>NaN</td>\n",
              "      <td>NaN</td>\n",
              "      <td>NaN</td>\n",
              "      <td>NaN</td>\n",
              "      <td>NaN</td>\n",
              "      <td>-0.773680</td>\n",
              "      <td>NaN</td>\n",
              "      <td>-0.769559</td>\n",
              "    </tr>\n",
              "    <tr>\n",
              "      <th>SaleCondition_Partial</th>\n",
              "      <td>NaN</td>\n",
              "      <td>NaN</td>\n",
              "      <td>NaN</td>\n",
              "      <td>NaN</td>\n",
              "      <td>NaN</td>\n",
              "      <td>NaN</td>\n",
              "      <td>NaN</td>\n",
              "      <td>NaN</td>\n",
              "      <td>NaN</td>\n",
              "      <td>NaN</td>\n",
              "      <td>...</td>\n",
              "      <td>NaN</td>\n",
              "      <td>NaN</td>\n",
              "      <td>NaN</td>\n",
              "      <td>NaN</td>\n",
              "      <td>NaN</td>\n",
              "      <td>NaN</td>\n",
              "      <td>NaN</td>\n",
              "      <td>0.986819</td>\n",
              "      <td>-0.769559</td>\n",
              "      <td>NaN</td>\n",
              "    </tr>\n",
              "  </tbody>\n",
              "</table>\n",
              "<p>76 rows × 76 columns</p>\n",
              "</div>"
            ],
            "text/plain": [
              "                       MSSubClass  YearBuilt  BsmtFinSF2  TotalBsmtSF  \\\n",
              "MSSubClass                    NaN        NaN         NaN          NaN   \n",
              "YearBuilt                     NaN        NaN         NaN          NaN   \n",
              "BsmtFinSF2                    NaN        NaN         NaN          NaN   \n",
              "TotalBsmtSF                   NaN        NaN         NaN          NaN   \n",
              "1stFlrSF                      NaN        NaN         NaN      0.81953   \n",
              "...                           ...        ...         ...          ...   \n",
              "PavedDrive_Y                  NaN        NaN         NaN          NaN   \n",
              "MiscFeature_Gar2              NaN        NaN         NaN          NaN   \n",
              "SaleType_New                  NaN        NaN         NaN          NaN   \n",
              "SaleType_WD                   NaN        NaN         NaN          NaN   \n",
              "SaleCondition_Partial         NaN        NaN         NaN          NaN   \n",
              "\n",
              "                       1stFlrSF  2ndFlrSF  GrLivArea  TotRmsAbvGrd  \\\n",
              "MSSubClass                  NaN       NaN        NaN           NaN   \n",
              "YearBuilt                   NaN       NaN        NaN           NaN   \n",
              "BsmtFinSF2                  NaN       NaN        NaN           NaN   \n",
              "TotalBsmtSF             0.81953       NaN        NaN           NaN   \n",
              "1stFlrSF                    NaN       NaN        NaN           NaN   \n",
              "...                         ...       ...        ...           ...   \n",
              "PavedDrive_Y                NaN       NaN        NaN           NaN   \n",
              "MiscFeature_Gar2            NaN       NaN        NaN           NaN   \n",
              "SaleType_New                NaN       NaN        NaN           NaN   \n",
              "SaleType_WD                 NaN       NaN        NaN           NaN   \n",
              "SaleCondition_Partial       NaN       NaN        NaN           NaN   \n",
              "\n",
              "                       GarageYrBlt  GarageCars  ...  GarageType_Attchd  \\\n",
              "MSSubClass                     NaN         NaN  ...                NaN   \n",
              "YearBuilt                 0.825667         NaN  ...                NaN   \n",
              "BsmtFinSF2                     NaN         NaN  ...                NaN   \n",
              "TotalBsmtSF                    NaN         NaN  ...                NaN   \n",
              "1stFlrSF                       NaN         NaN  ...                NaN   \n",
              "...                            ...         ...  ...                ...   \n",
              "PavedDrive_Y                   NaN         NaN  ...                NaN   \n",
              "MiscFeature_Gar2               NaN         NaN  ...                NaN   \n",
              "SaleType_New                   NaN         NaN  ...                NaN   \n",
              "SaleType_WD                    NaN         NaN  ...                NaN   \n",
              "SaleCondition_Partial          NaN         NaN  ...                NaN   \n",
              "\n",
              "                       GarageType_Detchd  GarageQual_TA  GarageCond_TA  \\\n",
              "MSSubClass                           NaN            NaN            NaN   \n",
              "YearBuilt                            NaN            NaN            NaN   \n",
              "BsmtFinSF2                           NaN            NaN            NaN   \n",
              "TotalBsmtSF                          NaN            NaN            NaN   \n",
              "1stFlrSF                             NaN            NaN            NaN   \n",
              "...                                  ...            ...            ...   \n",
              "PavedDrive_Y                         NaN            NaN            NaN   \n",
              "MiscFeature_Gar2                     NaN            NaN            NaN   \n",
              "SaleType_New                         NaN            NaN            NaN   \n",
              "SaleType_WD                          NaN            NaN            NaN   \n",
              "SaleCondition_Partial                NaN            NaN            NaN   \n",
              "\n",
              "                       PavedDrive_N  PavedDrive_Y  MiscFeature_Gar2  \\\n",
              "MSSubClass                      NaN           NaN               NaN   \n",
              "YearBuilt                       NaN           NaN               NaN   \n",
              "BsmtFinSF2                      NaN           NaN               NaN   \n",
              "TotalBsmtSF                     NaN           NaN               NaN   \n",
              "1stFlrSF                        NaN           NaN               NaN   \n",
              "...                             ...           ...               ...   \n",
              "PavedDrive_Y              -0.856491           NaN               NaN   \n",
              "MiscFeature_Gar2                NaN           NaN               NaN   \n",
              "SaleType_New                    NaN           NaN               NaN   \n",
              "SaleType_WD                     NaN           NaN               NaN   \n",
              "SaleCondition_Partial           NaN           NaN               NaN   \n",
              "\n",
              "                       SaleType_New  SaleType_WD  SaleCondition_Partial  \n",
              "MSSubClass                      NaN          NaN                    NaN  \n",
              "YearBuilt                       NaN          NaN                    NaN  \n",
              "BsmtFinSF2                      NaN          NaN                    NaN  \n",
              "TotalBsmtSF                     NaN          NaN                    NaN  \n",
              "1stFlrSF                        NaN          NaN                    NaN  \n",
              "...                             ...          ...                    ...  \n",
              "PavedDrive_Y                    NaN          NaN                    NaN  \n",
              "MiscFeature_Gar2                NaN          NaN                    NaN  \n",
              "SaleType_New                    NaN    -0.773680               0.986819  \n",
              "SaleType_WD               -0.773680          NaN              -0.769559  \n",
              "SaleCondition_Partial      0.986819    -0.769559                    NaN  \n",
              "\n",
              "[76 rows x 76 columns]"
            ]
          },
          "execution_count": 14,
          "metadata": {},
          "output_type": "execute_result"
        }
      ],
      "source": [
        "collinearity"
      ]
    },
    {
      "cell_type": "markdown",
      "id": "570a8263",
      "metadata": {
        "papermill": {
          "duration": 0.017864,
          "end_time": "2023-01-10T10:06:53.649884",
          "exception": false,
          "start_time": "2023-01-10T10:06:53.632020",
          "status": "completed"
        },
        "tags": [],
        "id": "570a8263"
      },
      "source": [
        "##### Choose one column going to be removed among two columns, which have collinearity with each other"
      ]
    },
    {
      "cell_type": "code",
      "execution_count": null,
      "id": "899c9c0f",
      "metadata": {
        "execution": {
          "iopub.execute_input": "2023-01-10T10:06:53.686329Z",
          "iopub.status.busy": "2023-01-10T10:06:53.685867Z",
          "iopub.status.idle": "2023-01-10T10:06:53.701069Z",
          "shell.execute_reply": "2023-01-10T10:06:53.699854Z"
        },
        "papermill": {
          "duration": 0.036525,
          "end_time": "2023-01-10T10:06:53.703573",
          "exception": false,
          "start_time": "2023-01-10T10:06:53.667048",
          "status": "completed"
        },
        "tags": [],
        "id": "899c9c0f",
        "outputId": "3bdfb462-564f-4722-d7a0-d6653cffd69e"
      },
      "outputs": [
        {
          "data": {
            "text/plain": [
              "['MSSubClass',\n",
              " 'YearBuilt',\n",
              " 'BsmtFinSF2',\n",
              " 'TotalBsmtSF',\n",
              " 'GrLivArea',\n",
              " 'GarageCars',\n",
              " 'MiscVal',\n",
              " 'MSZoning_FV',\n",
              " 'MSZoning_RL',\n",
              " 'Street_Grvl',\n",
              " 'LotShape_IR1',\n",
              " 'LotConfig_Corner',\n",
              " 'LandSlope_Gtl',\n",
              " 'HouseStyle_2Story',\n",
              " 'RoofStyle_Gable',\n",
              " 'RoofMatl_Tar&Grv',\n",
              " 'Exterior1st_CemntBd',\n",
              " 'Exterior1st_HdBoard',\n",
              " 'Exterior1st_MetalSd',\n",
              " 'Exterior1st_Plywood',\n",
              " 'Exterior1st_Stucco',\n",
              " 'Exterior1st_VinylSd',\n",
              " 'Exterior1st_Wd Sdng',\n",
              " 'Exterior2nd_AsbShng',\n",
              " 'MasVnrType_None',\n",
              " 'ExterQual_TA',\n",
              " 'ExterCond_TA',\n",
              " 'Foundation_PConc',\n",
              " 'BsmtQual_TA',\n",
              " 'Heating_GasW',\n",
              " 'CentralAir_Y',\n",
              " 'Electrical_SBrkr',\n",
              " 'KitchenQual_TA',\n",
              " 'GarageType_Detchd',\n",
              " 'GarageCond_TA',\n",
              " 'PavedDrive_Y',\n",
              " 'SaleType_WD',\n",
              " 'SaleCondition_Partial']"
            ]
          },
          "execution_count": 15,
          "metadata": {},
          "output_type": "execute_result"
        }
      ],
      "source": [
        "x = list(collinearity.columns)\n",
        "for i in x:\n",
        "    x.remove(collinearity[i].dropna().index[0])\n",
        "x"
      ]
    },
    {
      "cell_type": "markdown",
      "id": "30e3ddab",
      "metadata": {
        "papermill": {
          "duration": 0.017067,
          "end_time": "2023-01-10T10:06:53.737795",
          "exception": false,
          "start_time": "2023-01-10T10:06:53.720728",
          "status": "completed"
        },
        "tags": [],
        "id": "30e3ddab"
      },
      "source": [
        "### Mulitcollinearity among columns having collinearity"
      ]
    },
    {
      "cell_type": "code",
      "execution_count": null,
      "id": "5ba90acd",
      "metadata": {
        "execution": {
          "iopub.execute_input": "2023-01-10T10:06:53.774337Z",
          "iopub.status.busy": "2023-01-10T10:06:53.773905Z",
          "iopub.status.idle": "2023-01-10T10:06:53.820250Z",
          "shell.execute_reply": "2023-01-10T10:06:53.819093Z"
        },
        "papermill": {
          "duration": 0.067581,
          "end_time": "2023-01-10T10:06:53.822918",
          "exception": false,
          "start_time": "2023-01-10T10:06:53.755337",
          "status": "completed"
        },
        "tags": [],
        "id": "5ba90acd",
        "outputId": "38374a47-257b-4472-9b9b-7fff083a3dec"
      },
      "outputs": [
        {
          "data": {
            "text/html": [
              "<div>\n",
              "<style scoped>\n",
              "    .dataframe tbody tr th:only-of-type {\n",
              "        vertical-align: middle;\n",
              "    }\n",
              "\n",
              "    .dataframe tbody tr th {\n",
              "        vertical-align: top;\n",
              "    }\n",
              "\n",
              "    .dataframe thead th {\n",
              "        text-align: right;\n",
              "    }\n",
              "</style>\n",
              "<table border=\"1\" class=\"dataframe\">\n",
              "  <thead>\n",
              "    <tr style=\"text-align: right;\">\n",
              "      <th></th>\n",
              "      <th>MSSubClass</th>\n",
              "      <th>YearBuilt</th>\n",
              "      <th>BsmtFinSF2</th>\n",
              "      <th>TotalBsmtSF</th>\n",
              "      <th>1stFlrSF</th>\n",
              "      <th>2ndFlrSF</th>\n",
              "      <th>GrLivArea</th>\n",
              "      <th>TotRmsAbvGrd</th>\n",
              "      <th>GarageYrBlt</th>\n",
              "      <th>GarageCars</th>\n",
              "      <th>...</th>\n",
              "      <th>GarageType_Attchd</th>\n",
              "      <th>GarageType_Detchd</th>\n",
              "      <th>GarageQual_TA</th>\n",
              "      <th>GarageCond_TA</th>\n",
              "      <th>PavedDrive_N</th>\n",
              "      <th>PavedDrive_Y</th>\n",
              "      <th>MiscFeature_Gar2</th>\n",
              "      <th>SaleType_New</th>\n",
              "      <th>SaleType_WD</th>\n",
              "      <th>SaleCondition_Partial</th>\n",
              "    </tr>\n",
              "  </thead>\n",
              "  <tbody>\n",
              "    <tr>\n",
              "      <th>SaleType_WD</th>\n",
              "      <td>NaN</td>\n",
              "      <td>NaN</td>\n",
              "      <td>NaN</td>\n",
              "      <td>NaN</td>\n",
              "      <td>NaN</td>\n",
              "      <td>NaN</td>\n",
              "      <td>NaN</td>\n",
              "      <td>NaN</td>\n",
              "      <td>NaN</td>\n",
              "      <td>NaN</td>\n",
              "      <td>...</td>\n",
              "      <td>NaN</td>\n",
              "      <td>NaN</td>\n",
              "      <td>NaN</td>\n",
              "      <td>NaN</td>\n",
              "      <td>NaN</td>\n",
              "      <td>NaN</td>\n",
              "      <td>NaN</td>\n",
              "      <td>NaN</td>\n",
              "      <td>NaN</td>\n",
              "      <td>-0.769559</td>\n",
              "    </tr>\n",
              "    <tr>\n",
              "      <th>SaleCondition_Partial</th>\n",
              "      <td>NaN</td>\n",
              "      <td>NaN</td>\n",
              "      <td>NaN</td>\n",
              "      <td>NaN</td>\n",
              "      <td>NaN</td>\n",
              "      <td>NaN</td>\n",
              "      <td>NaN</td>\n",
              "      <td>NaN</td>\n",
              "      <td>NaN</td>\n",
              "      <td>NaN</td>\n",
              "      <td>...</td>\n",
              "      <td>NaN</td>\n",
              "      <td>NaN</td>\n",
              "      <td>NaN</td>\n",
              "      <td>NaN</td>\n",
              "      <td>NaN</td>\n",
              "      <td>NaN</td>\n",
              "      <td>NaN</td>\n",
              "      <td>NaN</td>\n",
              "      <td>-0.769559</td>\n",
              "      <td>NaN</td>\n",
              "    </tr>\n",
              "  </tbody>\n",
              "</table>\n",
              "<p>2 rows × 76 columns</p>\n",
              "</div>"
            ],
            "text/plain": [
              "                       MSSubClass  YearBuilt  BsmtFinSF2  TotalBsmtSF  \\\n",
              "SaleType_WD                   NaN        NaN         NaN          NaN   \n",
              "SaleCondition_Partial         NaN        NaN         NaN          NaN   \n",
              "\n",
              "                       1stFlrSF  2ndFlrSF  GrLivArea  TotRmsAbvGrd  \\\n",
              "SaleType_WD                 NaN       NaN        NaN           NaN   \n",
              "SaleCondition_Partial       NaN       NaN        NaN           NaN   \n",
              "\n",
              "                       GarageYrBlt  GarageCars  ...  GarageType_Attchd  \\\n",
              "SaleType_WD                    NaN         NaN  ...                NaN   \n",
              "SaleCondition_Partial          NaN         NaN  ...                NaN   \n",
              "\n",
              "                       GarageType_Detchd  GarageQual_TA  GarageCond_TA  \\\n",
              "SaleType_WD                          NaN            NaN            NaN   \n",
              "SaleCondition_Partial                NaN            NaN            NaN   \n",
              "\n",
              "                       PavedDrive_N  PavedDrive_Y  MiscFeature_Gar2  \\\n",
              "SaleType_WD                     NaN           NaN               NaN   \n",
              "SaleCondition_Partial           NaN           NaN               NaN   \n",
              "\n",
              "                       SaleType_New  SaleType_WD  SaleCondition_Partial  \n",
              "SaleType_WD                     NaN          NaN              -0.769559  \n",
              "SaleCondition_Partial           NaN    -0.769559                    NaN  \n",
              "\n",
              "[2 rows x 76 columns]"
            ]
          },
          "execution_count": 16,
          "metadata": {},
          "output_type": "execute_result"
        }
      ],
      "source": [
        "collinearity[train[x].corr()[condition].isnull() == False].dropna(how='all')"
      ]
    },
    {
      "cell_type": "code",
      "execution_count": null,
      "id": "0659baff",
      "metadata": {
        "execution": {
          "iopub.execute_input": "2023-01-10T10:06:53.861474Z",
          "iopub.status.busy": "2023-01-10T10:06:53.861014Z",
          "iopub.status.idle": "2023-01-10T10:06:53.867309Z",
          "shell.execute_reply": "2023-01-10T10:06:53.865377Z"
        },
        "papermill": {
          "duration": 0.029235,
          "end_time": "2023-01-10T10:06:53.870234",
          "exception": false,
          "start_time": "2023-01-10T10:06:53.840999",
          "status": "completed"
        },
        "tags": [],
        "id": "0659baff"
      },
      "outputs": [],
      "source": [
        "x.remove('SaleType_WD')"
      ]
    },
    {
      "cell_type": "markdown",
      "id": "753da8c9",
      "metadata": {
        "papermill": {
          "duration": 0.018467,
          "end_time": "2023-01-10T10:06:53.907406",
          "exception": false,
          "start_time": "2023-01-10T10:06:53.888939",
          "status": "completed"
        },
        "tags": [],
        "id": "753da8c9"
      },
      "source": [
        "##### Remove the columns being decided to be discarded above"
      ]
    },
    {
      "cell_type": "code",
      "execution_count": null,
      "id": "d86c94b4",
      "metadata": {
        "execution": {
          "iopub.execute_input": "2023-01-10T10:06:53.944760Z",
          "iopub.status.busy": "2023-01-10T10:06:53.944354Z",
          "iopub.status.idle": "2023-01-10T10:06:53.954650Z",
          "shell.execute_reply": "2023-01-10T10:06:53.953391Z"
        },
        "papermill": {
          "duration": 0.032569,
          "end_time": "2023-01-10T10:06:53.957572",
          "exception": false,
          "start_time": "2023-01-10T10:06:53.925003",
          "status": "completed"
        },
        "tags": [],
        "id": "d86c94b4"
      },
      "outputs": [],
      "source": [
        "train = train.drop(x, axis=1)\n",
        "test = test.drop(x, axis=1)"
      ]
    },
    {
      "cell_type": "markdown",
      "id": "35aeb1bd",
      "metadata": {
        "papermill": {
          "duration": 0.01794,
          "end_time": "2023-01-10T10:06:53.993639",
          "exception": false,
          "start_time": "2023-01-10T10:06:53.975699",
          "status": "completed"
        },
        "tags": [],
        "id": "35aeb1bd"
      },
      "source": [
        "### Missing Values"
      ]
    },
    {
      "cell_type": "markdown",
      "id": "fc348b4e",
      "metadata": {
        "papermill": {
          "duration": 0.017182,
          "end_time": "2023-01-10T10:06:54.029106",
          "exception": false,
          "start_time": "2023-01-10T10:06:54.011924",
          "status": "completed"
        },
        "tags": [],
        "id": "fc348b4e"
      },
      "source": [
        "##### Make sure to remove the same columns in test dataset when we try to remove columns having a lot of missing values in train dataset, and vice versa."
      ]
    },
    {
      "cell_type": "code",
      "execution_count": null,
      "id": "82f1df67",
      "metadata": {
        "execution": {
          "iopub.execute_input": "2023-01-10T10:06:54.068336Z",
          "iopub.status.busy": "2023-01-10T10:06:54.066617Z",
          "iopub.status.idle": "2023-01-10T10:06:54.085684Z",
          "shell.execute_reply": "2023-01-10T10:06:54.084387Z"
        },
        "papermill": {
          "duration": 0.041458,
          "end_time": "2023-01-10T10:06:54.088122",
          "exception": false,
          "start_time": "2023-01-10T10:06:54.046664",
          "status": "completed"
        },
        "tags": [],
        "id": "82f1df67",
        "outputId": "251c96aa-1536-4149-a547-4e5152c00f81"
      },
      "outputs": [
        {
          "data": {
            "text/plain": [
              "LotFrontage    0.177397\n",
              "MasVnrArea     0.005479\n",
              "GarageYrBlt    0.055479\n",
              "dtype: float64"
            ]
          },
          "execution_count": 19,
          "metadata": {},
          "output_type": "execute_result"
        }
      ],
      "source": [
        "(train.isnull().sum() / train.shape[0])[train.columns[train.isnull().sum() > 0]]"
      ]
    },
    {
      "cell_type": "markdown",
      "id": "96ec3ce3",
      "metadata": {
        "papermill": {
          "duration": 0.017934,
          "end_time": "2023-01-10T10:06:54.125833",
          "exception": false,
          "start_time": "2023-01-10T10:06:54.107899",
          "status": "completed"
        },
        "tags": [],
        "id": "96ec3ce3"
      },
      "source": [
        "##### 'LotFrontage', 'GarageYrBlt' must be discarded."
      ]
    },
    {
      "cell_type": "code",
      "execution_count": null,
      "id": "f19327ed",
      "metadata": {
        "execution": {
          "iopub.execute_input": "2023-01-10T10:06:54.165625Z",
          "iopub.status.busy": "2023-01-10T10:06:54.164900Z",
          "iopub.status.idle": "2023-01-10T10:06:54.176911Z",
          "shell.execute_reply": "2023-01-10T10:06:54.174889Z"
        },
        "papermill": {
          "duration": 0.035705,
          "end_time": "2023-01-10T10:06:54.180386",
          "exception": false,
          "start_time": "2023-01-10T10:06:54.144681",
          "status": "completed"
        },
        "tags": [],
        "id": "f19327ed"
      },
      "outputs": [],
      "source": [
        "train = train.drop(['LotFrontage', 'GarageYrBlt'], axis=1)\n",
        "test = test.drop(['LotFrontage', 'GarageYrBlt'], axis=1)"
      ]
    },
    {
      "cell_type": "markdown",
      "id": "748e03fc",
      "metadata": {
        "papermill": {
          "duration": 0.017487,
          "end_time": "2023-01-10T10:06:54.217047",
          "exception": false,
          "start_time": "2023-01-10T10:06:54.199560",
          "status": "completed"
        },
        "tags": [],
        "id": "748e03fc"
      },
      "source": [
        "##### And only the missing values in 'MasVnrArea' will be removed, because the proportion of missing values in the rest of columns is not high."
      ]
    },
    {
      "cell_type": "code",
      "execution_count": null,
      "id": "a36c617f",
      "metadata": {
        "execution": {
          "iopub.execute_input": "2023-01-10T10:06:54.255121Z",
          "iopub.status.busy": "2023-01-10T10:06:54.254667Z",
          "iopub.status.idle": "2023-01-10T10:06:54.278398Z",
          "shell.execute_reply": "2023-01-10T10:06:54.277110Z"
        },
        "papermill": {
          "duration": 0.046185,
          "end_time": "2023-01-10T10:06:54.281008",
          "exception": false,
          "start_time": "2023-01-10T10:06:54.234823",
          "status": "completed"
        },
        "tags": [],
        "id": "a36c617f",
        "outputId": "653ca1e1-78b8-4710-ec02-522859a036c6"
      },
      "outputs": [
        {
          "data": {
            "text/html": [
              "<div>\n",
              "<style scoped>\n",
              "    .dataframe tbody tr th:only-of-type {\n",
              "        vertical-align: middle;\n",
              "    }\n",
              "\n",
              "    .dataframe tbody tr th {\n",
              "        vertical-align: top;\n",
              "    }\n",
              "\n",
              "    .dataframe thead th {\n",
              "        text-align: right;\n",
              "    }\n",
              "</style>\n",
              "<table border=\"1\" class=\"dataframe\">\n",
              "  <thead>\n",
              "    <tr style=\"text-align: right;\">\n",
              "      <th></th>\n",
              "      <th>LotArea</th>\n",
              "      <th>OverallQual</th>\n",
              "      <th>OverallCond</th>\n",
              "      <th>YearRemodAdd</th>\n",
              "      <th>MasVnrArea</th>\n",
              "      <th>BsmtFinSF1</th>\n",
              "      <th>BsmtUnfSF</th>\n",
              "      <th>1stFlrSF</th>\n",
              "      <th>2ndFlrSF</th>\n",
              "      <th>LowQualFinSF</th>\n",
              "      <th>...</th>\n",
              "      <th>SaleType_ConLw</th>\n",
              "      <th>SaleType_New</th>\n",
              "      <th>SaleType_Oth</th>\n",
              "      <th>SaleType_WD</th>\n",
              "      <th>SaleCondition_Abnorml</th>\n",
              "      <th>SaleCondition_AdjLand</th>\n",
              "      <th>SaleCondition_Alloca</th>\n",
              "      <th>SaleCondition_Family</th>\n",
              "      <th>SaleCondition_Normal</th>\n",
              "      <th>SalePrice</th>\n",
              "    </tr>\n",
              "    <tr>\n",
              "      <th>Id</th>\n",
              "      <th></th>\n",
              "      <th></th>\n",
              "      <th></th>\n",
              "      <th></th>\n",
              "      <th></th>\n",
              "      <th></th>\n",
              "      <th></th>\n",
              "      <th></th>\n",
              "      <th></th>\n",
              "      <th></th>\n",
              "      <th></th>\n",
              "      <th></th>\n",
              "      <th></th>\n",
              "      <th></th>\n",
              "      <th></th>\n",
              "      <th></th>\n",
              "      <th></th>\n",
              "      <th></th>\n",
              "      <th></th>\n",
              "      <th></th>\n",
              "      <th></th>\n",
              "    </tr>\n",
              "  </thead>\n",
              "  <tbody>\n",
              "    <tr>\n",
              "      <th>235</th>\n",
              "      <td>7851</td>\n",
              "      <td>6</td>\n",
              "      <td>5</td>\n",
              "      <td>2002</td>\n",
              "      <td>NaN</td>\n",
              "      <td>625</td>\n",
              "      <td>235</td>\n",
              "      <td>860</td>\n",
              "      <td>1100</td>\n",
              "      <td>0</td>\n",
              "      <td>...</td>\n",
              "      <td>0</td>\n",
              "      <td>0</td>\n",
              "      <td>0</td>\n",
              "      <td>1</td>\n",
              "      <td>0</td>\n",
              "      <td>0</td>\n",
              "      <td>0</td>\n",
              "      <td>0</td>\n",
              "      <td>1</td>\n",
              "      <td>216500</td>\n",
              "    </tr>\n",
              "    <tr>\n",
              "      <th>530</th>\n",
              "      <td>32668</td>\n",
              "      <td>6</td>\n",
              "      <td>3</td>\n",
              "      <td>1975</td>\n",
              "      <td>NaN</td>\n",
              "      <td>1219</td>\n",
              "      <td>816</td>\n",
              "      <td>2515</td>\n",
              "      <td>0</td>\n",
              "      <td>0</td>\n",
              "      <td>...</td>\n",
              "      <td>0</td>\n",
              "      <td>0</td>\n",
              "      <td>0</td>\n",
              "      <td>1</td>\n",
              "      <td>0</td>\n",
              "      <td>0</td>\n",
              "      <td>1</td>\n",
              "      <td>0</td>\n",
              "      <td>0</td>\n",
              "      <td>200624</td>\n",
              "    </tr>\n",
              "    <tr>\n",
              "      <th>651</th>\n",
              "      <td>8125</td>\n",
              "      <td>7</td>\n",
              "      <td>6</td>\n",
              "      <td>2007</td>\n",
              "      <td>NaN</td>\n",
              "      <td>0</td>\n",
              "      <td>813</td>\n",
              "      <td>822</td>\n",
              "      <td>843</td>\n",
              "      <td>0</td>\n",
              "      <td>...</td>\n",
              "      <td>0</td>\n",
              "      <td>0</td>\n",
              "      <td>0</td>\n",
              "      <td>1</td>\n",
              "      <td>0</td>\n",
              "      <td>0</td>\n",
              "      <td>0</td>\n",
              "      <td>0</td>\n",
              "      <td>1</td>\n",
              "      <td>205950</td>\n",
              "    </tr>\n",
              "    <tr>\n",
              "      <th>937</th>\n",
              "      <td>10083</td>\n",
              "      <td>7</td>\n",
              "      <td>5</td>\n",
              "      <td>2003</td>\n",
              "      <td>NaN</td>\n",
              "      <td>833</td>\n",
              "      <td>343</td>\n",
              "      <td>1200</td>\n",
              "      <td>0</td>\n",
              "      <td>0</td>\n",
              "      <td>...</td>\n",
              "      <td>0</td>\n",
              "      <td>0</td>\n",
              "      <td>0</td>\n",
              "      <td>1</td>\n",
              "      <td>0</td>\n",
              "      <td>0</td>\n",
              "      <td>0</td>\n",
              "      <td>0</td>\n",
              "      <td>1</td>\n",
              "      <td>184900</td>\n",
              "    </tr>\n",
              "    <tr>\n",
              "      <th>974</th>\n",
              "      <td>11639</td>\n",
              "      <td>7</td>\n",
              "      <td>5</td>\n",
              "      <td>2008</td>\n",
              "      <td>NaN</td>\n",
              "      <td>0</td>\n",
              "      <td>1428</td>\n",
              "      <td>1428</td>\n",
              "      <td>0</td>\n",
              "      <td>0</td>\n",
              "      <td>...</td>\n",
              "      <td>0</td>\n",
              "      <td>1</td>\n",
              "      <td>0</td>\n",
              "      <td>0</td>\n",
              "      <td>0</td>\n",
              "      <td>0</td>\n",
              "      <td>0</td>\n",
              "      <td>0</td>\n",
              "      <td>0</td>\n",
              "      <td>182000</td>\n",
              "    </tr>\n",
              "    <tr>\n",
              "      <th>978</th>\n",
              "      <td>4274</td>\n",
              "      <td>7</td>\n",
              "      <td>5</td>\n",
              "      <td>2007</td>\n",
              "      <td>NaN</td>\n",
              "      <td>1106</td>\n",
              "      <td>135</td>\n",
              "      <td>1241</td>\n",
              "      <td>0</td>\n",
              "      <td>0</td>\n",
              "      <td>...</td>\n",
              "      <td>0</td>\n",
              "      <td>1</td>\n",
              "      <td>0</td>\n",
              "      <td>0</td>\n",
              "      <td>0</td>\n",
              "      <td>0</td>\n",
              "      <td>0</td>\n",
              "      <td>0</td>\n",
              "      <td>0</td>\n",
              "      <td>199900</td>\n",
              "    </tr>\n",
              "    <tr>\n",
              "      <th>1244</th>\n",
              "      <td>13891</td>\n",
              "      <td>10</td>\n",
              "      <td>5</td>\n",
              "      <td>2006</td>\n",
              "      <td>NaN</td>\n",
              "      <td>1386</td>\n",
              "      <td>690</td>\n",
              "      <td>2076</td>\n",
              "      <td>0</td>\n",
              "      <td>0</td>\n",
              "      <td>...</td>\n",
              "      <td>0</td>\n",
              "      <td>1</td>\n",
              "      <td>0</td>\n",
              "      <td>0</td>\n",
              "      <td>0</td>\n",
              "      <td>0</td>\n",
              "      <td>0</td>\n",
              "      <td>0</td>\n",
              "      <td>0</td>\n",
              "      <td>465000</td>\n",
              "    </tr>\n",
              "    <tr>\n",
              "      <th>1279</th>\n",
              "      <td>9473</td>\n",
              "      <td>8</td>\n",
              "      <td>5</td>\n",
              "      <td>2002</td>\n",
              "      <td>NaN</td>\n",
              "      <td>804</td>\n",
              "      <td>324</td>\n",
              "      <td>1128</td>\n",
              "      <td>903</td>\n",
              "      <td>0</td>\n",
              "      <td>...</td>\n",
              "      <td>0</td>\n",
              "      <td>0</td>\n",
              "      <td>0</td>\n",
              "      <td>1</td>\n",
              "      <td>0</td>\n",
              "      <td>0</td>\n",
              "      <td>0</td>\n",
              "      <td>0</td>\n",
              "      <td>1</td>\n",
              "      <td>237000</td>\n",
              "    </tr>\n",
              "  </tbody>\n",
              "</table>\n",
              "<p>8 rows × 232 columns</p>\n",
              "</div>"
            ],
            "text/plain": [
              "      LotArea  OverallQual  OverallCond  YearRemodAdd  MasVnrArea  BsmtFinSF1  \\\n",
              "Id                                                                              \n",
              "235      7851            6            5          2002         NaN         625   \n",
              "530     32668            6            3          1975         NaN        1219   \n",
              "651      8125            7            6          2007         NaN           0   \n",
              "937     10083            7            5          2003         NaN         833   \n",
              "974     11639            7            5          2008         NaN           0   \n",
              "978      4274            7            5          2007         NaN        1106   \n",
              "1244    13891           10            5          2006         NaN        1386   \n",
              "1279     9473            8            5          2002         NaN         804   \n",
              "\n",
              "      BsmtUnfSF  1stFlrSF  2ndFlrSF  LowQualFinSF  ...  SaleType_ConLw  \\\n",
              "Id                                                 ...                   \n",
              "235         235       860      1100             0  ...               0   \n",
              "530         816      2515         0             0  ...               0   \n",
              "651         813       822       843             0  ...               0   \n",
              "937         343      1200         0             0  ...               0   \n",
              "974        1428      1428         0             0  ...               0   \n",
              "978         135      1241         0             0  ...               0   \n",
              "1244        690      2076         0             0  ...               0   \n",
              "1279        324      1128       903             0  ...               0   \n",
              "\n",
              "      SaleType_New  SaleType_Oth  SaleType_WD  SaleCondition_Abnorml  \\\n",
              "Id                                                                     \n",
              "235              0             0            1                      0   \n",
              "530              0             0            1                      0   \n",
              "651              0             0            1                      0   \n",
              "937              0             0            1                      0   \n",
              "974              1             0            0                      0   \n",
              "978              1             0            0                      0   \n",
              "1244             1             0            0                      0   \n",
              "1279             0             0            1                      0   \n",
              "\n",
              "      SaleCondition_AdjLand  SaleCondition_Alloca  SaleCondition_Family  \\\n",
              "Id                                                                        \n",
              "235                       0                     0                     0   \n",
              "530                       0                     1                     0   \n",
              "651                       0                     0                     0   \n",
              "937                       0                     0                     0   \n",
              "974                       0                     0                     0   \n",
              "978                       0                     0                     0   \n",
              "1244                      0                     0                     0   \n",
              "1279                      0                     0                     0   \n",
              "\n",
              "      SaleCondition_Normal  SalePrice  \n",
              "Id                                     \n",
              "235                      1     216500  \n",
              "530                      0     200624  \n",
              "651                      1     205950  \n",
              "937                      1     184900  \n",
              "974                      0     182000  \n",
              "978                      0     199900  \n",
              "1244                     0     465000  \n",
              "1279                     1     237000  \n",
              "\n",
              "[8 rows x 232 columns]"
            ]
          },
          "execution_count": 21,
          "metadata": {},
          "output_type": "execute_result"
        }
      ],
      "source": [
        "train[train.MasVnrArea.isnull() == True]"
      ]
    },
    {
      "cell_type": "code",
      "execution_count": null,
      "id": "425c8676",
      "metadata": {
        "execution": {
          "iopub.execute_input": "2023-01-10T10:06:54.320824Z",
          "iopub.status.busy": "2023-01-10T10:06:54.320384Z",
          "iopub.status.idle": "2023-01-10T10:06:54.329695Z",
          "shell.execute_reply": "2023-01-10T10:06:54.328306Z"
        },
        "papermill": {
          "duration": 0.033307,
          "end_time": "2023-01-10T10:06:54.332833",
          "exception": false,
          "start_time": "2023-01-10T10:06:54.299526",
          "status": "completed"
        },
        "tags": [],
        "id": "425c8676"
      },
      "outputs": [],
      "source": [
        "train = train.drop(train[train.MasVnrArea.isnull() == True].index)"
      ]
    },
    {
      "cell_type": "markdown",
      "id": "70cff39a",
      "metadata": {
        "papermill": {
          "duration": 0.018369,
          "end_time": "2023-01-10T10:06:54.370718",
          "exception": false,
          "start_time": "2023-01-10T10:06:54.352349",
          "status": "completed"
        },
        "tags": [],
        "id": "70cff39a"
      },
      "source": [
        "##### Make sure to replace missing values in test datasets, not to remove them.\n",
        "##### If we need to remove the missing values, then need to discard the column having the values, because submission file should be a CSV file with 1459 rows. (Let's think this requirement as specific order from our customer who wants this model in real life.)"
      ]
    },
    {
      "cell_type": "code",
      "execution_count": null,
      "id": "1a2491d5",
      "metadata": {
        "execution": {
          "iopub.execute_input": "2023-01-10T10:06:54.410690Z",
          "iopub.status.busy": "2023-01-10T10:06:54.409936Z",
          "iopub.status.idle": "2023-01-10T10:06:54.426030Z",
          "shell.execute_reply": "2023-01-10T10:06:54.424774Z"
        },
        "papermill": {
          "duration": 0.038782,
          "end_time": "2023-01-10T10:06:54.428452",
          "exception": false,
          "start_time": "2023-01-10T10:06:54.389670",
          "status": "completed"
        },
        "tags": [],
        "id": "1a2491d5",
        "outputId": "4ba39726-d981-4d81-8fe2-2e37fb9c1871"
      },
      "outputs": [
        {
          "data": {
            "text/plain": [
              "MasVnrArea      0.010281\n",
              "BsmtFinSF1      0.000685\n",
              "BsmtUnfSF       0.000685\n",
              "BsmtFullBath    0.001371\n",
              "BsmtHalfBath    0.001371\n",
              "GarageArea      0.000685\n",
              "dtype: float64"
            ]
          },
          "execution_count": 23,
          "metadata": {},
          "output_type": "execute_result"
        }
      ],
      "source": [
        "(test.isnull().sum() / test.shape[0])[test.columns[test.isnull().sum() > 0]]"
      ]
    },
    {
      "cell_type": "markdown",
      "id": "c2750ceb",
      "metadata": {
        "papermill": {
          "duration": 0.01805,
          "end_time": "2023-01-10T10:06:54.465852",
          "exception": false,
          "start_time": "2023-01-10T10:06:54.447802",
          "status": "completed"
        },
        "tags": [],
        "id": "c2750ceb"
      },
      "source": [
        "##### Fortunately, there are not columnes, which have high proportion of missing values in test dataset."
      ]
    },
    {
      "cell_type": "code",
      "execution_count": null,
      "id": "eac9e1c6",
      "metadata": {
        "execution": {
          "iopub.execute_input": "2023-01-10T10:06:54.504847Z",
          "iopub.status.busy": "2023-01-10T10:06:54.504177Z",
          "iopub.status.idle": "2023-01-10T10:06:54.515839Z",
          "shell.execute_reply": "2023-01-10T10:06:54.514824Z"
        },
        "papermill": {
          "duration": 0.034684,
          "end_time": "2023-01-10T10:06:54.518553",
          "exception": false,
          "start_time": "2023-01-10T10:06:54.483869",
          "status": "completed"
        },
        "tags": [],
        "id": "eac9e1c6"
      },
      "outputs": [],
      "source": [
        "null_columns = list((test.isnull().sum() / test.shape[0])[test.columns[test.isnull().sum() > 0]].index)"
      ]
    },
    {
      "cell_type": "markdown",
      "id": "2523ae75",
      "metadata": {
        "papermill": {
          "duration": 0.018239,
          "end_time": "2023-01-10T10:06:54.555140",
          "exception": false,
          "start_time": "2023-01-10T10:06:54.536901",
          "status": "completed"
        },
        "tags": [],
        "id": "2523ae75"
      },
      "source": [
        "##### Let's measure the correlation between dependent variable and columns having missing values.\n",
        "##### If the correlation is not high, the columns (independent variables) are useless for prediction. So it is proper to remove those columns."
      ]
    },
    {
      "cell_type": "code",
      "execution_count": null,
      "id": "d17b98da",
      "metadata": {
        "execution": {
          "iopub.execute_input": "2023-01-10T10:06:54.593610Z",
          "iopub.status.busy": "2023-01-10T10:06:54.592925Z",
          "iopub.status.idle": "2023-01-10T10:06:54.812594Z",
          "shell.execute_reply": "2023-01-10T10:06:54.811190Z"
        },
        "papermill": {
          "duration": 0.242094,
          "end_time": "2023-01-10T10:06:54.815272",
          "exception": false,
          "start_time": "2023-01-10T10:06:54.573178",
          "status": "completed"
        },
        "tags": [],
        "id": "d17b98da",
        "outputId": "6a511b03-4bd6-47b0-b399-880329e59a72"
      },
      "outputs": [
        {
          "data": {
            "text/plain": [
              "MasVnrArea      0.477493\n",
              "BsmtFinSF1      0.383977\n",
              "BsmtUnfSF       0.215740\n",
              "BsmtFullBath    0.225027\n",
              "BsmtHalfBath   -0.015993\n",
              "GarageArea      0.622492\n",
              "Name: SalePrice, dtype: float64"
            ]
          },
          "execution_count": 25,
          "metadata": {},
          "output_type": "execute_result"
        }
      ],
      "source": [
        "train.corr()['SalePrice'][null_columns]"
      ]
    },
    {
      "cell_type": "markdown",
      "id": "509b86df",
      "metadata": {
        "papermill": {
          "duration": 0.018825,
          "end_time": "2023-01-10T10:06:54.854624",
          "exception": false,
          "start_time": "2023-01-10T10:06:54.835799",
          "status": "completed"
        },
        "tags": [],
        "id": "509b86df"
      },
      "source": [
        "##### Except GarageArea, the rest of columns has low correlation with 'SalePrice'.\n",
        "##### Thus, let's remove them."
      ]
    },
    {
      "cell_type": "code",
      "execution_count": null,
      "id": "000d2a0d",
      "metadata": {
        "execution": {
          "iopub.execute_input": "2023-01-10T10:06:54.894182Z",
          "iopub.status.busy": "2023-01-10T10:06:54.893765Z",
          "iopub.status.idle": "2023-01-10T10:06:54.902039Z",
          "shell.execute_reply": "2023-01-10T10:06:54.900846Z"
        },
        "papermill": {
          "duration": 0.031911,
          "end_time": "2023-01-10T10:06:54.904958",
          "exception": false,
          "start_time": "2023-01-10T10:06:54.873047",
          "status": "completed"
        },
        "tags": [],
        "id": "000d2a0d"
      },
      "outputs": [],
      "source": [
        "train = train.drop(['MasVnrArea', 'BsmtFinSF1', 'BsmtUnfSF', 'BsmtFullBath', 'BsmtHalfBath'], axis=1)\n",
        "test = test.drop(['MasVnrArea', 'BsmtFinSF1', 'BsmtUnfSF', 'BsmtFullBath', 'BsmtHalfBath'], axis=1)"
      ]
    },
    {
      "cell_type": "markdown",
      "id": "d158a053",
      "metadata": {
        "papermill": {
          "duration": 0.018901,
          "end_time": "2023-01-10T10:06:54.942260",
          "exception": false,
          "start_time": "2023-01-10T10:06:54.923359",
          "status": "completed"
        },
        "tags": [],
        "id": "d158a053"
      },
      "source": [
        "##### And fill the missing value in GarageArea."
      ]
    },
    {
      "cell_type": "code",
      "execution_count": null,
      "id": "1de5e753",
      "metadata": {
        "execution": {
          "iopub.execute_input": "2023-01-10T10:06:54.982003Z",
          "iopub.status.busy": "2023-01-10T10:06:54.981562Z",
          "iopub.status.idle": "2023-01-10T10:06:55.003028Z",
          "shell.execute_reply": "2023-01-10T10:06:55.001775Z"
        },
        "papermill": {
          "duration": 0.044631,
          "end_time": "2023-01-10T10:06:55.005733",
          "exception": false,
          "start_time": "2023-01-10T10:06:54.961102",
          "status": "completed"
        },
        "tags": [],
        "id": "1de5e753",
        "outputId": "ab63f6f5-5963-4589-c6c0-a6a29c98cb0b"
      },
      "outputs": [
        {
          "data": {
            "text/html": [
              "<div>\n",
              "<style scoped>\n",
              "    .dataframe tbody tr th:only-of-type {\n",
              "        vertical-align: middle;\n",
              "    }\n",
              "\n",
              "    .dataframe tbody tr th {\n",
              "        vertical-align: top;\n",
              "    }\n",
              "\n",
              "    .dataframe thead th {\n",
              "        text-align: right;\n",
              "    }\n",
              "</style>\n",
              "<table border=\"1\" class=\"dataframe\">\n",
              "  <thead>\n",
              "    <tr style=\"text-align: right;\">\n",
              "      <th></th>\n",
              "      <th>LotArea</th>\n",
              "      <th>OverallQual</th>\n",
              "      <th>OverallCond</th>\n",
              "      <th>YearRemodAdd</th>\n",
              "      <th>1stFlrSF</th>\n",
              "      <th>2ndFlrSF</th>\n",
              "      <th>LowQualFinSF</th>\n",
              "      <th>FullBath</th>\n",
              "      <th>HalfBath</th>\n",
              "      <th>BedroomAbvGr</th>\n",
              "      <th>...</th>\n",
              "      <th>SaleType_ConLI</th>\n",
              "      <th>SaleType_ConLw</th>\n",
              "      <th>SaleType_New</th>\n",
              "      <th>SaleType_Oth</th>\n",
              "      <th>SaleType_WD</th>\n",
              "      <th>SaleCondition_Abnorml</th>\n",
              "      <th>SaleCondition_AdjLand</th>\n",
              "      <th>SaleCondition_Alloca</th>\n",
              "      <th>SaleCondition_Family</th>\n",
              "      <th>SaleCondition_Normal</th>\n",
              "    </tr>\n",
              "    <tr>\n",
              "      <th>Id</th>\n",
              "      <th></th>\n",
              "      <th></th>\n",
              "      <th></th>\n",
              "      <th></th>\n",
              "      <th></th>\n",
              "      <th></th>\n",
              "      <th></th>\n",
              "      <th></th>\n",
              "      <th></th>\n",
              "      <th></th>\n",
              "      <th></th>\n",
              "      <th></th>\n",
              "      <th></th>\n",
              "      <th></th>\n",
              "      <th></th>\n",
              "      <th></th>\n",
              "      <th></th>\n",
              "      <th></th>\n",
              "      <th></th>\n",
              "      <th></th>\n",
              "      <th></th>\n",
              "    </tr>\n",
              "  </thead>\n",
              "  <tbody>\n",
              "    <tr>\n",
              "      <th>2577</th>\n",
              "      <td>9060</td>\n",
              "      <td>5</td>\n",
              "      <td>6</td>\n",
              "      <td>1999</td>\n",
              "      <td>942</td>\n",
              "      <td>886</td>\n",
              "      <td>0</td>\n",
              "      <td>2</td>\n",
              "      <td>0</td>\n",
              "      <td>3</td>\n",
              "      <td>...</td>\n",
              "      <td>0</td>\n",
              "      <td>0</td>\n",
              "      <td>0</td>\n",
              "      <td>0</td>\n",
              "      <td>1</td>\n",
              "      <td>0</td>\n",
              "      <td>0</td>\n",
              "      <td>1</td>\n",
              "      <td>0</td>\n",
              "      <td>0</td>\n",
              "    </tr>\n",
              "  </tbody>\n",
              "</table>\n",
              "<p>1 rows × 226 columns</p>\n",
              "</div>"
            ],
            "text/plain": [
              "      LotArea  OverallQual  OverallCond  YearRemodAdd  1stFlrSF  2ndFlrSF  \\\n",
              "Id                                                                          \n",
              "2577     9060            5            6          1999       942       886   \n",
              "\n",
              "      LowQualFinSF  FullBath  HalfBath  BedroomAbvGr  ...  SaleType_ConLI  \\\n",
              "Id                                                    ...                   \n",
              "2577             0         2         0             3  ...               0   \n",
              "\n",
              "      SaleType_ConLw  SaleType_New  SaleType_Oth  SaleType_WD  \\\n",
              "Id                                                              \n",
              "2577               0             0             0            1   \n",
              "\n",
              "      SaleCondition_Abnorml  SaleCondition_AdjLand  SaleCondition_Alloca  \\\n",
              "Id                                                                         \n",
              "2577                      0                      0                     1   \n",
              "\n",
              "      SaleCondition_Family  SaleCondition_Normal  \n",
              "Id                                                \n",
              "2577                     0                     0  \n",
              "\n",
              "[1 rows x 226 columns]"
            ]
          },
          "execution_count": 27,
          "metadata": {},
          "output_type": "execute_result"
        }
      ],
      "source": [
        "test[test.GarageArea.isnull() == True]"
      ]
    },
    {
      "cell_type": "markdown",
      "id": "a6e37827",
      "metadata": {
        "papermill": {
          "duration": 0.018889,
          "end_time": "2023-01-10T10:06:55.043945",
          "exception": false,
          "start_time": "2023-01-10T10:06:55.025056",
          "status": "completed"
        },
        "tags": [],
        "id": "a6e37827"
      },
      "source": [
        "##### The number of missing value is just one, so let's fill the value by the mean of the variable."
      ]
    },
    {
      "cell_type": "code",
      "execution_count": null,
      "id": "cd0bd864",
      "metadata": {
        "execution": {
          "iopub.execute_input": "2023-01-10T10:06:55.082810Z",
          "iopub.status.busy": "2023-01-10T10:06:55.082407Z",
          "iopub.status.idle": "2023-01-10T10:06:55.089766Z",
          "shell.execute_reply": "2023-01-10T10:06:55.088095Z"
        },
        "papermill": {
          "duration": 0.029958,
          "end_time": "2023-01-10T10:06:55.092440",
          "exception": false,
          "start_time": "2023-01-10T10:06:55.062482",
          "status": "completed"
        },
        "tags": [],
        "id": "cd0bd864"
      },
      "outputs": [],
      "source": [
        "test.GarageArea = test.GarageArea.fillna(round(test.GarageArea.mean(),0))"
      ]
    },
    {
      "cell_type": "markdown",
      "id": "02c25118",
      "metadata": {
        "papermill": {
          "duration": 0.019373,
          "end_time": "2023-01-10T10:06:55.131509",
          "exception": false,
          "start_time": "2023-01-10T10:06:55.112136",
          "status": "completed"
        },
        "tags": [],
        "id": "02c25118"
      },
      "source": [
        "### Set Dependent Variable and Independent Variables"
      ]
    },
    {
      "cell_type": "code",
      "execution_count": null,
      "id": "31f0f539",
      "metadata": {
        "execution": {
          "iopub.execute_input": "2023-01-10T10:06:55.174643Z",
          "iopub.status.busy": "2023-01-10T10:06:55.173085Z",
          "iopub.status.idle": "2023-01-10T10:06:55.180127Z",
          "shell.execute_reply": "2023-01-10T10:06:55.179189Z"
        },
        "papermill": {
          "duration": 0.032558,
          "end_time": "2023-01-10T10:06:55.183353",
          "exception": false,
          "start_time": "2023-01-10T10:06:55.150795",
          "status": "completed"
        },
        "tags": [],
        "id": "31f0f539"
      },
      "outputs": [],
      "source": [
        "X = train.drop('SalePrice', axis=1)\n",
        "y = train.SalePrice"
      ]
    },
    {
      "cell_type": "markdown",
      "id": "a64d8a3c",
      "metadata": {
        "papermill": {
          "duration": 0.020371,
          "end_time": "2023-01-10T10:06:55.222392",
          "exception": false,
          "start_time": "2023-01-10T10:06:55.202021",
          "status": "completed"
        },
        "tags": [],
        "id": "a64d8a3c"
      },
      "source": [
        "### Standardization"
      ]
    },
    {
      "cell_type": "code",
      "execution_count": null,
      "id": "6368d041",
      "metadata": {
        "execution": {
          "iopub.execute_input": "2023-01-10T10:06:55.264035Z",
          "iopub.status.busy": "2023-01-10T10:06:55.263046Z",
          "iopub.status.idle": "2023-01-10T10:06:56.546609Z",
          "shell.execute_reply": "2023-01-10T10:06:56.545135Z"
        },
        "papermill": {
          "duration": 1.307863,
          "end_time": "2023-01-10T10:06:56.549592",
          "exception": false,
          "start_time": "2023-01-10T10:06:55.241729",
          "status": "completed"
        },
        "tags": [],
        "id": "6368d041"
      },
      "outputs": [],
      "source": [
        "from sklearn.preprocessing import StandardScaler\n",
        "scaler = StandardScaler()\n",
        "X[:] = scaler.fit_transform(X)\n",
        "test[:] = scaler.fit_transform(test)"
      ]
    },
    {
      "cell_type": "markdown",
      "id": "b7e4de88",
      "metadata": {
        "papermill": {
          "duration": 0.01961,
          "end_time": "2023-01-10T10:06:56.589187",
          "exception": false,
          "start_time": "2023-01-10T10:06:56.569577",
          "status": "completed"
        },
        "tags": [],
        "id": "b7e4de88"
      },
      "source": [
        "### Split Dataset into Train, Validation, Test datasets"
      ]
    },
    {
      "cell_type": "code",
      "execution_count": null,
      "id": "df375eda",
      "metadata": {
        "execution": {
          "iopub.execute_input": "2023-01-10T10:06:56.631185Z",
          "iopub.status.busy": "2023-01-10T10:06:56.629937Z",
          "iopub.status.idle": "2023-01-10T10:06:56.704915Z",
          "shell.execute_reply": "2023-01-10T10:06:56.703413Z"
        },
        "papermill": {
          "duration": 0.099425,
          "end_time": "2023-01-10T10:06:56.708324",
          "exception": false,
          "start_time": "2023-01-10T10:06:56.608899",
          "status": "completed"
        },
        "tags": [],
        "id": "df375eda"
      },
      "outputs": [],
      "source": [
        "from sklearn.model_selection import train_test_split\n",
        "X_train, X_val, y_train, y_val = train_test_split(X, y, test_size=0.20, random_state=2023)\n",
        "X_test = test"
      ]
    },
    {
      "cell_type": "markdown",
      "id": "379bb097",
      "metadata": {
        "papermill": {
          "duration": 0.019094,
          "end_time": "2023-01-10T10:06:56.746524",
          "exception": false,
          "start_time": "2023-01-10T10:06:56.727430",
          "status": "completed"
        },
        "tags": [],
        "id": "379bb097"
      },
      "source": [
        "# Modeling"
      ]
    },
    {
      "cell_type": "markdown",
      "id": "2523b89d",
      "metadata": {
        "papermill": {
          "duration": 0.018453,
          "end_time": "2023-01-10T10:06:56.784078",
          "exception": false,
          "start_time": "2023-01-10T10:06:56.765625",
          "status": "completed"
        },
        "tags": [],
        "id": "2523b89d"
      },
      "source": [
        "### Ridge Regression"
      ]
    },
    {
      "cell_type": "code",
      "execution_count": null,
      "id": "4bd8ec59",
      "metadata": {
        "execution": {
          "iopub.execute_input": "2023-01-10T10:06:56.822954Z",
          "iopub.status.busy": "2023-01-10T10:06:56.822534Z",
          "iopub.status.idle": "2023-01-10T10:06:56.971625Z",
          "shell.execute_reply": "2023-01-10T10:06:56.969620Z"
        },
        "papermill": {
          "duration": 0.174676,
          "end_time": "2023-01-10T10:06:56.977301",
          "exception": false,
          "start_time": "2023-01-10T10:06:56.802625",
          "status": "completed"
        },
        "tags": [],
        "id": "4bd8ec59"
      },
      "outputs": [],
      "source": [
        "from sklearn.linear_model import Ridge\n",
        "r = Ridge(alpha=100)\n",
        "r.fit(X_train, y_train)\n",
        "y_pred_train_r = r.predict(X_train)\n",
        "y_pred_val_r = r.predict(X_val)"
      ]
    },
    {
      "cell_type": "markdown",
      "id": "07c127b6",
      "metadata": {
        "papermill": {
          "duration": 0.035894,
          "end_time": "2023-01-10T10:06:57.096157",
          "exception": false,
          "start_time": "2023-01-10T10:06:57.060263",
          "status": "completed"
        },
        "tags": [],
        "id": "07c127b6"
      },
      "source": [
        "### Lasso Regression"
      ]
    },
    {
      "cell_type": "code",
      "execution_count": null,
      "id": "2668f8fe",
      "metadata": {
        "execution": {
          "iopub.execute_input": "2023-01-10T10:06:57.136652Z",
          "iopub.status.busy": "2023-01-10T10:06:57.136185Z",
          "iopub.status.idle": "2023-01-10T10:06:57.222166Z",
          "shell.execute_reply": "2023-01-10T10:06:57.220060Z"
        },
        "papermill": {
          "duration": 0.112726,
          "end_time": "2023-01-10T10:06:57.228098",
          "exception": false,
          "start_time": "2023-01-10T10:06:57.115372",
          "status": "completed"
        },
        "tags": [],
        "id": "2668f8fe"
      },
      "outputs": [],
      "source": [
        "from sklearn.linear_model import Lasso\n",
        "l = Lasso(alpha=100)\n",
        "l.fit(X_train, y_train)\n",
        "y_pred_train_l = l.predict(X_train)\n",
        "y_pred_val_l = l.predict(X_val)"
      ]
    },
    {
      "cell_type": "markdown",
      "id": "f3a62ea4",
      "metadata": {
        "papermill": {
          "duration": 0.034105,
          "end_time": "2023-01-10T10:06:57.348137",
          "exception": false,
          "start_time": "2023-01-10T10:06:57.314032",
          "status": "completed"
        },
        "tags": [],
        "id": "f3a62ea4"
      },
      "source": [
        "### Support Vector Machine Regression"
      ]
    },
    {
      "cell_type": "code",
      "execution_count": null,
      "id": "893de3dc",
      "metadata": {
        "execution": {
          "iopub.execute_input": "2023-01-10T10:06:57.387473Z",
          "iopub.status.busy": "2023-01-10T10:06:57.386929Z",
          "iopub.status.idle": "2023-01-10T10:06:58.115507Z",
          "shell.execute_reply": "2023-01-10T10:06:58.114243Z"
        },
        "papermill": {
          "duration": 0.751467,
          "end_time": "2023-01-10T10:06:58.118434",
          "exception": false,
          "start_time": "2023-01-10T10:06:57.366967",
          "status": "completed"
        },
        "tags": [],
        "id": "893de3dc"
      },
      "outputs": [],
      "source": [
        "from sklearn.svm import SVR\n",
        "svr = SVR()\n",
        "svr.fit(X_train, y_train)\n",
        "y_pred_train_svr = svr.predict(X_train)\n",
        "y_pred_val_svr = svr.predict(X_val)"
      ]
    },
    {
      "cell_type": "markdown",
      "id": "b5a86a7b",
      "metadata": {
        "papermill": {
          "duration": 0.018172,
          "end_time": "2023-01-10T10:06:58.155547",
          "exception": false,
          "start_time": "2023-01-10T10:06:58.137375",
          "status": "completed"
        },
        "tags": [],
        "id": "b5a86a7b"
      },
      "source": [
        "### Random Forest Regression"
      ]
    },
    {
      "cell_type": "code",
      "execution_count": null,
      "id": "02774a32",
      "metadata": {
        "execution": {
          "iopub.execute_input": "2023-01-10T10:06:58.195661Z",
          "iopub.status.busy": "2023-01-10T10:06:58.195208Z",
          "iopub.status.idle": "2023-01-10T10:07:06.048234Z",
          "shell.execute_reply": "2023-01-10T10:07:06.047080Z"
        },
        "papermill": {
          "duration": 7.876229,
          "end_time": "2023-01-10T10:07:06.051160",
          "exception": false,
          "start_time": "2023-01-10T10:06:58.174931",
          "status": "completed"
        },
        "tags": [],
        "id": "02774a32"
      },
      "outputs": [],
      "source": [
        "from sklearn.ensemble import RandomForestRegressor\n",
        "rfr = RandomForestRegressor(n_estimators=500, max_features=int(len(train.columns)*0.7))\n",
        "rfr.fit(X_train, y_train)\n",
        "y_pred_train_rfr = rfr.predict(X_train)\n",
        "y_pred_val_rfr = rfr.predict(X_val)"
      ]
    },
    {
      "cell_type": "markdown",
      "id": "59f68366",
      "metadata": {
        "papermill": {
          "duration": 0.018039,
          "end_time": "2023-01-10T10:07:06.087512",
          "exception": false,
          "start_time": "2023-01-10T10:07:06.069473",
          "status": "completed"
        },
        "tags": [],
        "id": "59f68366"
      },
      "source": [
        "# Evaluation"
      ]
    },
    {
      "cell_type": "code",
      "execution_count": null,
      "id": "5f9be2e7",
      "metadata": {
        "execution": {
          "iopub.execute_input": "2023-01-10T10:07:06.128344Z",
          "iopub.status.busy": "2023-01-10T10:07:06.127088Z",
          "iopub.status.idle": "2023-01-10T10:07:06.132637Z",
          "shell.execute_reply": "2023-01-10T10:07:06.131785Z"
        },
        "papermill": {
          "duration": 0.028471,
          "end_time": "2023-01-10T10:07:06.134946",
          "exception": false,
          "start_time": "2023-01-10T10:07:06.106475",
          "status": "completed"
        },
        "tags": [],
        "id": "5f9be2e7"
      },
      "outputs": [],
      "source": [
        "from sklearn.metrics import mean_squared_error\n",
        "import math"
      ]
    },
    {
      "cell_type": "markdown",
      "id": "cb6a7412",
      "metadata": {
        "papermill": {
          "duration": 0.01817,
          "end_time": "2023-01-10T10:07:06.171794",
          "exception": false,
          "start_time": "2023-01-10T10:07:06.153624",
          "status": "completed"
        },
        "tags": [],
        "id": "cb6a7412"
      },
      "source": [
        "### RMSE_Train"
      ]
    },
    {
      "cell_type": "code",
      "execution_count": null,
      "id": "1ef8aa94",
      "metadata": {
        "execution": {
          "iopub.execute_input": "2023-01-10T10:07:06.211035Z",
          "iopub.status.busy": "2023-01-10T10:07:06.210139Z",
          "iopub.status.idle": "2023-01-10T10:07:06.220830Z",
          "shell.execute_reply": "2023-01-10T10:07:06.219247Z"
        },
        "papermill": {
          "duration": 0.033684,
          "end_time": "2023-01-10T10:07:06.224051",
          "exception": false,
          "start_time": "2023-01-10T10:07:06.190367",
          "status": "completed"
        },
        "tags": [],
        "id": "1ef8aa94",
        "outputId": "c3072cbc-41f3-4966-abda-bdfab68c020d"
      },
      "outputs": [
        {
          "name": "stdout",
          "output_type": "stream",
          "text": [
            "Ridge Regression: 21777.719864704915\n",
            "Lasso Regression: 21406.25485995607\n",
            "Support Vector Machine Regression: 77824.86347394813\n",
            "Random Forest Regression: 11123.154165904918\n"
          ]
        }
      ],
      "source": [
        "print('Ridge Regression:', math.sqrt(mean_squared_error(y_train, y_pred_train_r)))\n",
        "print('Lasso Regression:', math.sqrt(mean_squared_error(y_train, y_pred_train_l)))\n",
        "print('Support Vector Machine Regression:', math.sqrt(mean_squared_error(y_train, y_pred_train_svr)))\n",
        "print('Random Forest Regression:', math.sqrt(mean_squared_error(y_train, y_pred_train_rfr)))"
      ]
    },
    {
      "cell_type": "markdown",
      "id": "91bc9c05",
      "metadata": {
        "papermill": {
          "duration": 0.018059,
          "end_time": "2023-01-10T10:07:06.261187",
          "exception": false,
          "start_time": "2023-01-10T10:07:06.243128",
          "status": "completed"
        },
        "tags": [],
        "id": "91bc9c05"
      },
      "source": [
        "### RMSE_Validation"
      ]
    },
    {
      "cell_type": "code",
      "execution_count": null,
      "id": "84aee18f",
      "metadata": {
        "execution": {
          "iopub.execute_input": "2023-01-10T10:07:06.302078Z",
          "iopub.status.busy": "2023-01-10T10:07:06.301427Z",
          "iopub.status.idle": "2023-01-10T10:07:06.309270Z",
          "shell.execute_reply": "2023-01-10T10:07:06.308307Z"
        },
        "papermill": {
          "duration": 0.033732,
          "end_time": "2023-01-10T10:07:06.313517",
          "exception": false,
          "start_time": "2023-01-10T10:07:06.279785",
          "status": "completed"
        },
        "tags": [],
        "id": "84aee18f",
        "outputId": "5b215259-cc5e-4531-bce1-5edef392a96c"
      },
      "outputs": [
        {
          "name": "stdout",
          "output_type": "stream",
          "text": [
            "Ridge Regression: 38361.607376978085\n",
            "Lasso Regression: 38082.73213627771\n",
            "Support Vector Machine Regression: 94329.36474310076\n",
            "Random Forest Regression: 37507.572469761966\n"
          ]
        }
      ],
      "source": [
        "print('Ridge Regression:', math.sqrt(mean_squared_error(y_val, y_pred_val_r)))\n",
        "print('Lasso Regression:', math.sqrt(mean_squared_error(y_val, y_pred_val_l)))\n",
        "print('Support Vector Machine Regression:', math.sqrt(mean_squared_error(y_val, y_pred_val_svr)))\n",
        "print('Random Forest Regression:', math.sqrt(mean_squared_error(y_val, y_pred_val_rfr)))"
      ]
    },
    {
      "cell_type": "markdown",
      "id": "79bc42ac",
      "metadata": {
        "papermill": {
          "duration": 0.018983,
          "end_time": "2023-01-10T10:07:06.352734",
          "exception": false,
          "start_time": "2023-01-10T10:07:06.333751",
          "status": "completed"
        },
        "tags": [],
        "id": "79bc42ac"
      },
      "source": [
        "### In terms of RMSE, Random Forest Regression Model is the best model among models."
      ]
    },
    {
      "cell_type": "markdown",
      "id": "ea523729",
      "metadata": {
        "papermill": {
          "duration": 0.018592,
          "end_time": "2023-01-10T10:07:06.391183",
          "exception": false,
          "start_time": "2023-01-10T10:07:06.372591",
          "status": "completed"
        },
        "tags": [],
        "id": "ea523729"
      },
      "source": [
        "# Deployment"
      ]
    },
    {
      "cell_type": "code",
      "execution_count": null,
      "id": "52863fdf",
      "metadata": {
        "execution": {
          "iopub.execute_input": "2023-01-10T10:07:06.431645Z",
          "iopub.status.busy": "2023-01-10T10:07:06.431179Z",
          "iopub.status.idle": "2023-01-10T10:07:06.663517Z",
          "shell.execute_reply": "2023-01-10T10:07:06.662508Z"
        },
        "papermill": {
          "duration": 0.255609,
          "end_time": "2023-01-10T10:07:06.666307",
          "exception": false,
          "start_time": "2023-01-10T10:07:06.410698",
          "status": "completed"
        },
        "tags": [],
        "id": "52863fdf"
      },
      "outputs": [],
      "source": [
        "import numpy as np\n",
        "y_pred_test_rfr = rfr.predict(X_test)\n",
        "output = pd.DataFrame({'Id': X_test.index, 'SalePrice': np.round(y_pred_test_rfr, 0)})\n",
        "output.to_csv('submission.csv', index=False)"
      ]
    },
    {
      "cell_type": "code",
      "execution_count": null,
      "id": "bed28557",
      "metadata": {
        "execution": {
          "iopub.execute_input": "2023-01-10T10:07:06.707106Z",
          "iopub.status.busy": "2023-01-10T10:07:06.706168Z",
          "iopub.status.idle": "2023-01-10T10:07:06.725148Z",
          "shell.execute_reply": "2023-01-10T10:07:06.724149Z"
        },
        "papermill": {
          "duration": 0.043339,
          "end_time": "2023-01-10T10:07:06.728350",
          "exception": false,
          "start_time": "2023-01-10T10:07:06.685011",
          "status": "completed"
        },
        "tags": [],
        "id": "bed28557",
        "outputId": "cbc9f937-a003-4638-cc86-da90464c1d72"
      },
      "outputs": [
        {
          "data": {
            "text/html": [
              "<div>\n",
              "<style scoped>\n",
              "    .dataframe tbody tr th:only-of-type {\n",
              "        vertical-align: middle;\n",
              "    }\n",
              "\n",
              "    .dataframe tbody tr th {\n",
              "        vertical-align: top;\n",
              "    }\n",
              "\n",
              "    .dataframe thead th {\n",
              "        text-align: right;\n",
              "    }\n",
              "</style>\n",
              "<table border=\"1\" class=\"dataframe\">\n",
              "  <thead>\n",
              "    <tr style=\"text-align: right;\">\n",
              "      <th></th>\n",
              "      <th>Id</th>\n",
              "      <th>SalePrice</th>\n",
              "    </tr>\n",
              "  </thead>\n",
              "  <tbody>\n",
              "    <tr>\n",
              "      <th>0</th>\n",
              "      <td>1461</td>\n",
              "      <td>136938.0</td>\n",
              "    </tr>\n",
              "    <tr>\n",
              "      <th>1</th>\n",
              "      <td>1462</td>\n",
              "      <td>152120.0</td>\n",
              "    </tr>\n",
              "    <tr>\n",
              "      <th>2</th>\n",
              "      <td>1463</td>\n",
              "      <td>170148.0</td>\n",
              "    </tr>\n",
              "    <tr>\n",
              "      <th>3</th>\n",
              "      <td>1464</td>\n",
              "      <td>181021.0</td>\n",
              "    </tr>\n",
              "    <tr>\n",
              "      <th>4</th>\n",
              "      <td>1465</td>\n",
              "      <td>196863.0</td>\n",
              "    </tr>\n",
              "    <tr>\n",
              "      <th>...</th>\n",
              "      <td>...</td>\n",
              "      <td>...</td>\n",
              "    </tr>\n",
              "    <tr>\n",
              "      <th>1454</th>\n",
              "      <td>2915</td>\n",
              "      <td>87246.0</td>\n",
              "    </tr>\n",
              "    <tr>\n",
              "      <th>1455</th>\n",
              "      <td>2916</td>\n",
              "      <td>86751.0</td>\n",
              "    </tr>\n",
              "    <tr>\n",
              "      <th>1456</th>\n",
              "      <td>2917</td>\n",
              "      <td>164182.0</td>\n",
              "    </tr>\n",
              "    <tr>\n",
              "      <th>1457</th>\n",
              "      <td>2918</td>\n",
              "      <td>112871.0</td>\n",
              "    </tr>\n",
              "    <tr>\n",
              "      <th>1458</th>\n",
              "      <td>2919</td>\n",
              "      <td>233357.0</td>\n",
              "    </tr>\n",
              "  </tbody>\n",
              "</table>\n",
              "<p>1459 rows × 2 columns</p>\n",
              "</div>"
            ],
            "text/plain": [
              "        Id  SalePrice\n",
              "0     1461   136938.0\n",
              "1     1462   152120.0\n",
              "2     1463   170148.0\n",
              "3     1464   181021.0\n",
              "4     1465   196863.0\n",
              "...    ...        ...\n",
              "1454  2915    87246.0\n",
              "1455  2916    86751.0\n",
              "1456  2917   164182.0\n",
              "1457  2918   112871.0\n",
              "1458  2919   233357.0\n",
              "\n",
              "[1459 rows x 2 columns]"
            ]
          },
          "execution_count": 40,
          "metadata": {},
          "output_type": "execute_result"
        }
      ],
      "source": [
        "pd.read_csv('submission.csv')"
      ]
    }
  ],
  "metadata": {
    "kernelspec": {
      "display_name": "Python 3",
      "language": "python",
      "name": "python3"
    },
    "language_info": {
      "codemirror_mode": {
        "name": "ipython",
        "version": 3
      },
      "file_extension": ".py",
      "mimetype": "text/x-python",
      "name": "python",
      "nbconvert_exporter": "python",
      "pygments_lexer": "ipython3",
      "version": "3.7.12"
    },
    "papermill": {
      "default_parameters": {},
      "duration": 26.370845,
      "end_time": "2023-01-10T10:07:07.572530",
      "environment_variables": {},
      "exception": null,
      "input_path": "__notebook__.ipynb",
      "output_path": "__notebook__.ipynb",
      "parameters": {},
      "start_time": "2023-01-10T10:06:41.201685",
      "version": "2.3.4"
    },
    "colab": {
      "provenance": [],
      "toc_visible": true
    }
  },
  "nbformat": 4,
  "nbformat_minor": 5
}