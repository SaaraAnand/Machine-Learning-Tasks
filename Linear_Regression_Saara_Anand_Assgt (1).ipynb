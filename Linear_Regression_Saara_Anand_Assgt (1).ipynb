{
  "cells": [
    {
      "cell_type": "markdown",
      "id": "PEqrCtOWUU6U",
      "metadata": {
        "id": "PEqrCtOWUU6U"
      },
      "source": [
        "# Name: Saara Anand\n",
        "# Registration Number: 21BCE8156\n",
        "# Assignment 1: House Price Prediction "
      ]
    },
    {
      "cell_type": "code",
      "execution_count": 1,
      "id": "236babe3",
      "metadata": {
        "_cell_guid": "b1076dfc-b9ad-4769-8c92-a6c4dae69d19",
        "_uuid": "8f2839f25d086af736a60e9eeb907d3b93b6e0e5",
        "execution": {
          "iopub.execute_input": "2023-01-21T15:10:37.056567Z",
          "iopub.status.busy": "2023-01-21T15:10:37.055358Z",
          "iopub.status.idle": "2023-01-21T15:10:37.068616Z",
          "shell.execute_reply": "2023-01-21T15:10:37.067741Z"
        },
        "id": "236babe3",
        "papermill": {
          "duration": 0.040798,
          "end_time": "2023-01-21T15:10:37.071146",
          "exception": false,
          "start_time": "2023-01-21T15:10:37.030348",
          "status": "completed"
        },
        "tags": []
      },
      "outputs": [],
      "source": [
        "\n",
        "import numpy as np \n",
        "import pandas as pd "
      ]
    },
    {
      "cell_type": "markdown",
      "id": "ebf76443",
      "metadata": {
        "id": "ebf76443",
        "papermill": {
          "duration": 0.018427,
          "end_time": "2023-01-21T15:10:37.110484",
          "exception": false,
          "start_time": "2023-01-21T15:10:37.092057",
          "status": "completed"
        },
        "tags": []
      },
      "source": [
        "# **Importing Libraries**"
      ]
    },
    {
      "cell_type": "code",
      "execution_count": 2,
      "id": "f7f6b268",
      "metadata": {
        "execution": {
          "iopub.execute_input": "2023-01-21T15:10:37.149571Z",
          "iopub.status.busy": "2023-01-21T15:10:37.149204Z",
          "iopub.status.idle": "2023-01-21T15:10:39.312712Z",
          "shell.execute_reply": "2023-01-21T15:10:39.311339Z"
        },
        "id": "f7f6b268",
        "papermill": {
          "duration": 2.186871,
          "end_time": "2023-01-21T15:10:39.315703",
          "exception": false,
          "start_time": "2023-01-21T15:10:37.128832",
          "status": "completed"
        },
        "tags": []
      },
      "outputs": [],
      "source": [
        "#Importing Libraries\n",
        "\n",
        "import matplotlib.pyplot as plt\n",
        "import seaborn as sns\n",
        "from plotly import graph_objs as go\n",
        "\n",
        "import plotly.express as px\n",
        "import warnings\n",
        "warnings.filterwarnings(\"ignore\")"
      ]
    },
    {
      "cell_type": "markdown",
      "id": "bb80f252",
      "metadata": {
        "id": "bb80f252",
        "papermill": {
          "duration": 0.017628,
          "end_time": "2023-01-21T15:10:39.351765",
          "exception": false,
          "start_time": "2023-01-21T15:10:39.334137",
          "status": "completed"
        },
        "tags": []
      },
      "source": [
        "# **Loading the Data**"
      ]
    },
    {
      "cell_type": "code",
      "execution_count": 3,
      "id": "24ba3d1c",
      "metadata": {
        "execution": {
          "iopub.execute_input": "2023-01-21T15:10:39.389010Z",
          "iopub.status.busy": "2023-01-21T15:10:39.388587Z",
          "iopub.status.idle": "2023-01-21T15:10:39.464315Z",
          "shell.execute_reply": "2023-01-21T15:10:39.463204Z"
        },
        "id": "24ba3d1c",
        "papermill": {
          "duration": 0.09799,
          "end_time": "2023-01-21T15:10:39.467308",
          "exception": false,
          "start_time": "2023-01-21T15:10:39.369318",
          "status": "completed"
        },
        "tags": []
      },
      "outputs": [
        {
          "ename": "FileNotFoundError",
          "evalue": "[Errno 2] No such file or directory: '/content/train.csv'",
          "output_type": "error",
          "traceback": [
            "\u001b[1;31m---------------------------------------------------------------------------\u001b[0m",
            "\u001b[1;31mFileNotFoundError\u001b[0m                         Traceback (most recent call last)",
            "Cell \u001b[1;32mIn[3], line 2\u001b[0m\n\u001b[0;32m      1\u001b[0m \u001b[39m#Reading the data\u001b[39;00m\n\u001b[1;32m----> 2\u001b[0m train_df \u001b[39m=\u001b[39m pd\u001b[39m.\u001b[39;49mread_csv(\u001b[39m\"\u001b[39;49m\u001b[39m/content/train.csv\u001b[39;49m\u001b[39m\"\u001b[39;49m)\n\u001b[0;32m      3\u001b[0m test_df \u001b[39m=\u001b[39m pd\u001b[39m.\u001b[39mread_csv(\u001b[39m\"\u001b[39m\u001b[39m/content/test.csv\u001b[39m\u001b[39m\"\u001b[39m)\n",
            "File \u001b[1;32mc:\\Users\\saara\\AppData\\Local\\Programs\\Python\\Python311\\Lib\\site-packages\\pandas\\util\\_decorators.py:211\u001b[0m, in \u001b[0;36mdeprecate_kwarg.<locals>._deprecate_kwarg.<locals>.wrapper\u001b[1;34m(*args, **kwargs)\u001b[0m\n\u001b[0;32m    209\u001b[0m     \u001b[39melse\u001b[39;00m:\n\u001b[0;32m    210\u001b[0m         kwargs[new_arg_name] \u001b[39m=\u001b[39m new_arg_value\n\u001b[1;32m--> 211\u001b[0m \u001b[39mreturn\u001b[39;00m func(\u001b[39m*\u001b[39;49margs, \u001b[39m*\u001b[39;49m\u001b[39m*\u001b[39;49mkwargs)\n",
            "File \u001b[1;32mc:\\Users\\saara\\AppData\\Local\\Programs\\Python\\Python311\\Lib\\site-packages\\pandas\\util\\_decorators.py:331\u001b[0m, in \u001b[0;36mdeprecate_nonkeyword_arguments.<locals>.decorate.<locals>.wrapper\u001b[1;34m(*args, **kwargs)\u001b[0m\n\u001b[0;32m    325\u001b[0m \u001b[39mif\u001b[39;00m \u001b[39mlen\u001b[39m(args) \u001b[39m>\u001b[39m num_allow_args:\n\u001b[0;32m    326\u001b[0m     warnings\u001b[39m.\u001b[39mwarn(\n\u001b[0;32m    327\u001b[0m         msg\u001b[39m.\u001b[39mformat(arguments\u001b[39m=\u001b[39m_format_argument_list(allow_args)),\n\u001b[0;32m    328\u001b[0m         \u001b[39mFutureWarning\u001b[39;00m,\n\u001b[0;32m    329\u001b[0m         stacklevel\u001b[39m=\u001b[39mfind_stack_level(),\n\u001b[0;32m    330\u001b[0m     )\n\u001b[1;32m--> 331\u001b[0m \u001b[39mreturn\u001b[39;00m func(\u001b[39m*\u001b[39;49margs, \u001b[39m*\u001b[39;49m\u001b[39m*\u001b[39;49mkwargs)\n",
            "File \u001b[1;32mc:\\Users\\saara\\AppData\\Local\\Programs\\Python\\Python311\\Lib\\site-packages\\pandas\\io\\parsers\\readers.py:950\u001b[0m, in \u001b[0;36mread_csv\u001b[1;34m(filepath_or_buffer, sep, delimiter, header, names, index_col, usecols, squeeze, prefix, mangle_dupe_cols, dtype, engine, converters, true_values, false_values, skipinitialspace, skiprows, skipfooter, nrows, na_values, keep_default_na, na_filter, verbose, skip_blank_lines, parse_dates, infer_datetime_format, keep_date_col, date_parser, dayfirst, cache_dates, iterator, chunksize, compression, thousands, decimal, lineterminator, quotechar, quoting, doublequote, escapechar, comment, encoding, encoding_errors, dialect, error_bad_lines, warn_bad_lines, on_bad_lines, delim_whitespace, low_memory, memory_map, float_precision, storage_options)\u001b[0m\n\u001b[0;32m    935\u001b[0m kwds_defaults \u001b[39m=\u001b[39m _refine_defaults_read(\n\u001b[0;32m    936\u001b[0m     dialect,\n\u001b[0;32m    937\u001b[0m     delimiter,\n\u001b[1;32m   (...)\u001b[0m\n\u001b[0;32m    946\u001b[0m     defaults\u001b[39m=\u001b[39m{\u001b[39m\"\u001b[39m\u001b[39mdelimiter\u001b[39m\u001b[39m\"\u001b[39m: \u001b[39m\"\u001b[39m\u001b[39m,\u001b[39m\u001b[39m\"\u001b[39m},\n\u001b[0;32m    947\u001b[0m )\n\u001b[0;32m    948\u001b[0m kwds\u001b[39m.\u001b[39mupdate(kwds_defaults)\n\u001b[1;32m--> 950\u001b[0m \u001b[39mreturn\u001b[39;00m _read(filepath_or_buffer, kwds)\n",
            "File \u001b[1;32mc:\\Users\\saara\\AppData\\Local\\Programs\\Python\\Python311\\Lib\\site-packages\\pandas\\io\\parsers\\readers.py:605\u001b[0m, in \u001b[0;36m_read\u001b[1;34m(filepath_or_buffer, kwds)\u001b[0m\n\u001b[0;32m    602\u001b[0m _validate_names(kwds\u001b[39m.\u001b[39mget(\u001b[39m\"\u001b[39m\u001b[39mnames\u001b[39m\u001b[39m\"\u001b[39m, \u001b[39mNone\u001b[39;00m))\n\u001b[0;32m    604\u001b[0m \u001b[39m# Create the parser.\u001b[39;00m\n\u001b[1;32m--> 605\u001b[0m parser \u001b[39m=\u001b[39m TextFileReader(filepath_or_buffer, \u001b[39m*\u001b[39;49m\u001b[39m*\u001b[39;49mkwds)\n\u001b[0;32m    607\u001b[0m \u001b[39mif\u001b[39;00m chunksize \u001b[39mor\u001b[39;00m iterator:\n\u001b[0;32m    608\u001b[0m     \u001b[39mreturn\u001b[39;00m parser\n",
            "File \u001b[1;32mc:\\Users\\saara\\AppData\\Local\\Programs\\Python\\Python311\\Lib\\site-packages\\pandas\\io\\parsers\\readers.py:1442\u001b[0m, in \u001b[0;36mTextFileReader.__init__\u001b[1;34m(self, f, engine, **kwds)\u001b[0m\n\u001b[0;32m   1439\u001b[0m     \u001b[39mself\u001b[39m\u001b[39m.\u001b[39moptions[\u001b[39m\"\u001b[39m\u001b[39mhas_index_names\u001b[39m\u001b[39m\"\u001b[39m] \u001b[39m=\u001b[39m kwds[\u001b[39m\"\u001b[39m\u001b[39mhas_index_names\u001b[39m\u001b[39m\"\u001b[39m]\n\u001b[0;32m   1441\u001b[0m \u001b[39mself\u001b[39m\u001b[39m.\u001b[39mhandles: IOHandles \u001b[39m|\u001b[39m \u001b[39mNone\u001b[39;00m \u001b[39m=\u001b[39m \u001b[39mNone\u001b[39;00m\n\u001b[1;32m-> 1442\u001b[0m \u001b[39mself\u001b[39m\u001b[39m.\u001b[39m_engine \u001b[39m=\u001b[39m \u001b[39mself\u001b[39;49m\u001b[39m.\u001b[39;49m_make_engine(f, \u001b[39mself\u001b[39;49m\u001b[39m.\u001b[39;49mengine)\n",
            "File \u001b[1;32mc:\\Users\\saara\\AppData\\Local\\Programs\\Python\\Python311\\Lib\\site-packages\\pandas\\io\\parsers\\readers.py:1735\u001b[0m, in \u001b[0;36mTextFileReader._make_engine\u001b[1;34m(self, f, engine)\u001b[0m\n\u001b[0;32m   1733\u001b[0m     \u001b[39mif\u001b[39;00m \u001b[39m\"\u001b[39m\u001b[39mb\u001b[39m\u001b[39m\"\u001b[39m \u001b[39mnot\u001b[39;00m \u001b[39min\u001b[39;00m mode:\n\u001b[0;32m   1734\u001b[0m         mode \u001b[39m+\u001b[39m\u001b[39m=\u001b[39m \u001b[39m\"\u001b[39m\u001b[39mb\u001b[39m\u001b[39m\"\u001b[39m\n\u001b[1;32m-> 1735\u001b[0m \u001b[39mself\u001b[39m\u001b[39m.\u001b[39mhandles \u001b[39m=\u001b[39m get_handle(\n\u001b[0;32m   1736\u001b[0m     f,\n\u001b[0;32m   1737\u001b[0m     mode,\n\u001b[0;32m   1738\u001b[0m     encoding\u001b[39m=\u001b[39;49m\u001b[39mself\u001b[39;49m\u001b[39m.\u001b[39;49moptions\u001b[39m.\u001b[39;49mget(\u001b[39m\"\u001b[39;49m\u001b[39mencoding\u001b[39;49m\u001b[39m\"\u001b[39;49m, \u001b[39mNone\u001b[39;49;00m),\n\u001b[0;32m   1739\u001b[0m     compression\u001b[39m=\u001b[39;49m\u001b[39mself\u001b[39;49m\u001b[39m.\u001b[39;49moptions\u001b[39m.\u001b[39;49mget(\u001b[39m\"\u001b[39;49m\u001b[39mcompression\u001b[39;49m\u001b[39m\"\u001b[39;49m, \u001b[39mNone\u001b[39;49;00m),\n\u001b[0;32m   1740\u001b[0m     memory_map\u001b[39m=\u001b[39;49m\u001b[39mself\u001b[39;49m\u001b[39m.\u001b[39;49moptions\u001b[39m.\u001b[39;49mget(\u001b[39m\"\u001b[39;49m\u001b[39mmemory_map\u001b[39;49m\u001b[39m\"\u001b[39;49m, \u001b[39mFalse\u001b[39;49;00m),\n\u001b[0;32m   1741\u001b[0m     is_text\u001b[39m=\u001b[39;49mis_text,\n\u001b[0;32m   1742\u001b[0m     errors\u001b[39m=\u001b[39;49m\u001b[39mself\u001b[39;49m\u001b[39m.\u001b[39;49moptions\u001b[39m.\u001b[39;49mget(\u001b[39m\"\u001b[39;49m\u001b[39mencoding_errors\u001b[39;49m\u001b[39m\"\u001b[39;49m, \u001b[39m\"\u001b[39;49m\u001b[39mstrict\u001b[39;49m\u001b[39m\"\u001b[39;49m),\n\u001b[0;32m   1743\u001b[0m     storage_options\u001b[39m=\u001b[39;49m\u001b[39mself\u001b[39;49m\u001b[39m.\u001b[39;49moptions\u001b[39m.\u001b[39;49mget(\u001b[39m\"\u001b[39;49m\u001b[39mstorage_options\u001b[39;49m\u001b[39m\"\u001b[39;49m, \u001b[39mNone\u001b[39;49;00m),\n\u001b[0;32m   1744\u001b[0m )\n\u001b[0;32m   1745\u001b[0m \u001b[39massert\u001b[39;00m \u001b[39mself\u001b[39m\u001b[39m.\u001b[39mhandles \u001b[39mis\u001b[39;00m \u001b[39mnot\u001b[39;00m \u001b[39mNone\u001b[39;00m\n\u001b[0;32m   1746\u001b[0m f \u001b[39m=\u001b[39m \u001b[39mself\u001b[39m\u001b[39m.\u001b[39mhandles\u001b[39m.\u001b[39mhandle\n",
            "File \u001b[1;32mc:\\Users\\saara\\AppData\\Local\\Programs\\Python\\Python311\\Lib\\site-packages\\pandas\\io\\common.py:856\u001b[0m, in \u001b[0;36mget_handle\u001b[1;34m(path_or_buf, mode, encoding, compression, memory_map, is_text, errors, storage_options)\u001b[0m\n\u001b[0;32m    851\u001b[0m \u001b[39melif\u001b[39;00m \u001b[39misinstance\u001b[39m(handle, \u001b[39mstr\u001b[39m):\n\u001b[0;32m    852\u001b[0m     \u001b[39m# Check whether the filename is to be opened in binary mode.\u001b[39;00m\n\u001b[0;32m    853\u001b[0m     \u001b[39m# Binary mode does not support 'encoding' and 'newline'.\u001b[39;00m\n\u001b[0;32m    854\u001b[0m     \u001b[39mif\u001b[39;00m ioargs\u001b[39m.\u001b[39mencoding \u001b[39mand\u001b[39;00m \u001b[39m\"\u001b[39m\u001b[39mb\u001b[39m\u001b[39m\"\u001b[39m \u001b[39mnot\u001b[39;00m \u001b[39min\u001b[39;00m ioargs\u001b[39m.\u001b[39mmode:\n\u001b[0;32m    855\u001b[0m         \u001b[39m# Encoding\u001b[39;00m\n\u001b[1;32m--> 856\u001b[0m         handle \u001b[39m=\u001b[39m \u001b[39mopen\u001b[39;49m(\n\u001b[0;32m    857\u001b[0m             handle,\n\u001b[0;32m    858\u001b[0m             ioargs\u001b[39m.\u001b[39;49mmode,\n\u001b[0;32m    859\u001b[0m             encoding\u001b[39m=\u001b[39;49mioargs\u001b[39m.\u001b[39;49mencoding,\n\u001b[0;32m    860\u001b[0m             errors\u001b[39m=\u001b[39;49merrors,\n\u001b[0;32m    861\u001b[0m             newline\u001b[39m=\u001b[39;49m\u001b[39m\"\u001b[39;49m\u001b[39m\"\u001b[39;49m,\n\u001b[0;32m    862\u001b[0m         )\n\u001b[0;32m    863\u001b[0m     \u001b[39melse\u001b[39;00m:\n\u001b[0;32m    864\u001b[0m         \u001b[39m# Binary mode\u001b[39;00m\n\u001b[0;32m    865\u001b[0m         handle \u001b[39m=\u001b[39m \u001b[39mopen\u001b[39m(handle, ioargs\u001b[39m.\u001b[39mmode)\n",
            "\u001b[1;31mFileNotFoundError\u001b[0m: [Errno 2] No such file or directory: '/content/train.csv'"
          ]
        }
      ],
      "source": [
        "#Reading the data\n",
        "train_df = pd.read_csv(\"/content/train.csv\")\n",
        "test_df = pd.read_csv(\"/content/test.csv\")"
      ]
    },
    {
      "cell_type": "code",
      "execution_count": null,
      "id": "b2e32eac",
      "metadata": {
        "colab": {
          "base_uri": "https://localhost:8080/",
          "height": 0
        },
        "execution": {
          "iopub.execute_input": "2023-01-21T15:10:39.505842Z",
          "iopub.status.busy": "2023-01-21T15:10:39.505174Z",
          "iopub.status.idle": "2023-01-21T15:10:39.510595Z",
          "shell.execute_reply": "2023-01-21T15:10:39.509582Z"
        },
        "id": "b2e32eac",
        "outputId": "fdcda4b7-145c-430e-938d-084fbd251496",
        "papermill": {
          "duration": 0.028303,
          "end_time": "2023-01-21T15:10:39.513949",
          "exception": false,
          "start_time": "2023-01-21T15:10:39.485646",
          "status": "completed"
        },
        "tags": []
      },
      "outputs": [
        {
          "name": "stdout",
          "output_type": "stream",
          "text": [
            "shape of train data:  (1460, 81)\n",
            "shape of test data:  (1459, 80)\n"
          ]
        }
      ],
      "source": [
        "print(\"shape of train data: \",train_df.shape)\n",
        "print(\"shape of test data: \",test_df.shape)"
      ]
    },
    {
      "cell_type": "code",
      "execution_count": null,
      "id": "d7d17322",
      "metadata": {
        "colab": {
          "base_uri": "https://localhost:8080/",
          "height": 299
        },
        "execution": {
          "iopub.execute_input": "2023-01-21T15:10:39.552846Z",
          "iopub.status.busy": "2023-01-21T15:10:39.552385Z",
          "iopub.status.idle": "2023-01-21T15:10:39.587553Z",
          "shell.execute_reply": "2023-01-21T15:10:39.586356Z"
        },
        "id": "d7d17322",
        "outputId": "988c8653-08a7-4aaa-e3a6-9176ed1d62ce",
        "papermill": {
          "duration": 0.057837,
          "end_time": "2023-01-21T15:10:39.590151",
          "exception": false,
          "start_time": "2023-01-21T15:10:39.532314",
          "status": "completed"
        },
        "tags": []
      },
      "outputs": [
        {
          "data": {
            "text/html": [
              "\n",
              "  <div id=\"df-828760c5-ca31-4d96-9370-b2006f444267\">\n",
              "    <div class=\"colab-df-container\">\n",
              "      <div>\n",
              "<style scoped>\n",
              "    .dataframe tbody tr th:only-of-type {\n",
              "        vertical-align: middle;\n",
              "    }\n",
              "\n",
              "    .dataframe tbody tr th {\n",
              "        vertical-align: top;\n",
              "    }\n",
              "\n",
              "    .dataframe thead th {\n",
              "        text-align: right;\n",
              "    }\n",
              "</style>\n",
              "<table border=\"1\" class=\"dataframe\">\n",
              "  <thead>\n",
              "    <tr style=\"text-align: right;\">\n",
              "      <th></th>\n",
              "      <th>Id</th>\n",
              "      <th>MSSubClass</th>\n",
              "      <th>MSZoning</th>\n",
              "      <th>LotFrontage</th>\n",
              "      <th>LotArea</th>\n",
              "      <th>Street</th>\n",
              "      <th>Alley</th>\n",
              "      <th>LotShape</th>\n",
              "      <th>LandContour</th>\n",
              "      <th>Utilities</th>\n",
              "      <th>...</th>\n",
              "      <th>PoolArea</th>\n",
              "      <th>PoolQC</th>\n",
              "      <th>Fence</th>\n",
              "      <th>MiscFeature</th>\n",
              "      <th>MiscVal</th>\n",
              "      <th>MoSold</th>\n",
              "      <th>YrSold</th>\n",
              "      <th>SaleType</th>\n",
              "      <th>SaleCondition</th>\n",
              "      <th>SalePrice</th>\n",
              "    </tr>\n",
              "  </thead>\n",
              "  <tbody>\n",
              "    <tr>\n",
              "      <th>0</th>\n",
              "      <td>1</td>\n",
              "      <td>60</td>\n",
              "      <td>RL</td>\n",
              "      <td>65.0</td>\n",
              "      <td>8450</td>\n",
              "      <td>Pave</td>\n",
              "      <td>NaN</td>\n",
              "      <td>Reg</td>\n",
              "      <td>Lvl</td>\n",
              "      <td>AllPub</td>\n",
              "      <td>...</td>\n",
              "      <td>0</td>\n",
              "      <td>NaN</td>\n",
              "      <td>NaN</td>\n",
              "      <td>NaN</td>\n",
              "      <td>0</td>\n",
              "      <td>2</td>\n",
              "      <td>2008</td>\n",
              "      <td>WD</td>\n",
              "      <td>Normal</td>\n",
              "      <td>208500</td>\n",
              "    </tr>\n",
              "    <tr>\n",
              "      <th>1</th>\n",
              "      <td>2</td>\n",
              "      <td>20</td>\n",
              "      <td>RL</td>\n",
              "      <td>80.0</td>\n",
              "      <td>9600</td>\n",
              "      <td>Pave</td>\n",
              "      <td>NaN</td>\n",
              "      <td>Reg</td>\n",
              "      <td>Lvl</td>\n",
              "      <td>AllPub</td>\n",
              "      <td>...</td>\n",
              "      <td>0</td>\n",
              "      <td>NaN</td>\n",
              "      <td>NaN</td>\n",
              "      <td>NaN</td>\n",
              "      <td>0</td>\n",
              "      <td>5</td>\n",
              "      <td>2007</td>\n",
              "      <td>WD</td>\n",
              "      <td>Normal</td>\n",
              "      <td>181500</td>\n",
              "    </tr>\n",
              "    <tr>\n",
              "      <th>2</th>\n",
              "      <td>3</td>\n",
              "      <td>60</td>\n",
              "      <td>RL</td>\n",
              "      <td>68.0</td>\n",
              "      <td>11250</td>\n",
              "      <td>Pave</td>\n",
              "      <td>NaN</td>\n",
              "      <td>IR1</td>\n",
              "      <td>Lvl</td>\n",
              "      <td>AllPub</td>\n",
              "      <td>...</td>\n",
              "      <td>0</td>\n",
              "      <td>NaN</td>\n",
              "      <td>NaN</td>\n",
              "      <td>NaN</td>\n",
              "      <td>0</td>\n",
              "      <td>9</td>\n",
              "      <td>2008</td>\n",
              "      <td>WD</td>\n",
              "      <td>Normal</td>\n",
              "      <td>223500</td>\n",
              "    </tr>\n",
              "    <tr>\n",
              "      <th>3</th>\n",
              "      <td>4</td>\n",
              "      <td>70</td>\n",
              "      <td>RL</td>\n",
              "      <td>60.0</td>\n",
              "      <td>9550</td>\n",
              "      <td>Pave</td>\n",
              "      <td>NaN</td>\n",
              "      <td>IR1</td>\n",
              "      <td>Lvl</td>\n",
              "      <td>AllPub</td>\n",
              "      <td>...</td>\n",
              "      <td>0</td>\n",
              "      <td>NaN</td>\n",
              "      <td>NaN</td>\n",
              "      <td>NaN</td>\n",
              "      <td>0</td>\n",
              "      <td>2</td>\n",
              "      <td>2006</td>\n",
              "      <td>WD</td>\n",
              "      <td>Abnorml</td>\n",
              "      <td>140000</td>\n",
              "    </tr>\n",
              "    <tr>\n",
              "      <th>4</th>\n",
              "      <td>5</td>\n",
              "      <td>60</td>\n",
              "      <td>RL</td>\n",
              "      <td>84.0</td>\n",
              "      <td>14260</td>\n",
              "      <td>Pave</td>\n",
              "      <td>NaN</td>\n",
              "      <td>IR1</td>\n",
              "      <td>Lvl</td>\n",
              "      <td>AllPub</td>\n",
              "      <td>...</td>\n",
              "      <td>0</td>\n",
              "      <td>NaN</td>\n",
              "      <td>NaN</td>\n",
              "      <td>NaN</td>\n",
              "      <td>0</td>\n",
              "      <td>12</td>\n",
              "      <td>2008</td>\n",
              "      <td>WD</td>\n",
              "      <td>Normal</td>\n",
              "      <td>250000</td>\n",
              "    </tr>\n",
              "  </tbody>\n",
              "</table>\n",
              "<p>5 rows × 81 columns</p>\n",
              "</div>\n",
              "      <button class=\"colab-df-convert\" onclick=\"convertToInteractive('df-828760c5-ca31-4d96-9370-b2006f444267')\"\n",
              "              title=\"Convert this dataframe to an interactive table.\"\n",
              "              style=\"display:none;\">\n",
              "        \n",
              "  <svg xmlns=\"http://www.w3.org/2000/svg\" height=\"24px\"viewBox=\"0 0 24 24\"\n",
              "       width=\"24px\">\n",
              "    <path d=\"M0 0h24v24H0V0z\" fill=\"none\"/>\n",
              "    <path d=\"M18.56 5.44l.94 2.06.94-2.06 2.06-.94-2.06-.94-.94-2.06-.94 2.06-2.06.94zm-11 1L8.5 8.5l.94-2.06 2.06-.94-2.06-.94L8.5 2.5l-.94 2.06-2.06.94zm10 10l.94 2.06.94-2.06 2.06-.94-2.06-.94-.94-2.06-.94 2.06-2.06.94z\"/><path d=\"M17.41 7.96l-1.37-1.37c-.4-.4-.92-.59-1.43-.59-.52 0-1.04.2-1.43.59L10.3 9.45l-7.72 7.72c-.78.78-.78 2.05 0 2.83L4 21.41c.39.39.9.59 1.41.59.51 0 1.02-.2 1.41-.59l7.78-7.78 2.81-2.81c.8-.78.8-2.07 0-2.86zM5.41 20L4 18.59l7.72-7.72 1.47 1.35L5.41 20z\"/>\n",
              "  </svg>\n",
              "      </button>\n",
              "      \n",
              "  <style>\n",
              "    .colab-df-container {\n",
              "      display:flex;\n",
              "      flex-wrap:wrap;\n",
              "      gap: 12px;\n",
              "    }\n",
              "\n",
              "    .colab-df-convert {\n",
              "      background-color: #E8F0FE;\n",
              "      border: none;\n",
              "      border-radius: 50%;\n",
              "      cursor: pointer;\n",
              "      display: none;\n",
              "      fill: #1967D2;\n",
              "      height: 32px;\n",
              "      padding: 0 0 0 0;\n",
              "      width: 32px;\n",
              "    }\n",
              "\n",
              "    .colab-df-convert:hover {\n",
              "      background-color: #E2EBFA;\n",
              "      box-shadow: 0px 1px 2px rgba(60, 64, 67, 0.3), 0px 1px 3px 1px rgba(60, 64, 67, 0.15);\n",
              "      fill: #174EA6;\n",
              "    }\n",
              "\n",
              "    [theme=dark] .colab-df-convert {\n",
              "      background-color: #3B4455;\n",
              "      fill: #D2E3FC;\n",
              "    }\n",
              "\n",
              "    [theme=dark] .colab-df-convert:hover {\n",
              "      background-color: #434B5C;\n",
              "      box-shadow: 0px 1px 3px 1px rgba(0, 0, 0, 0.15);\n",
              "      filter: drop-shadow(0px 1px 2px rgba(0, 0, 0, 0.3));\n",
              "      fill: #FFFFFF;\n",
              "    }\n",
              "  </style>\n",
              "\n",
              "      <script>\n",
              "        const buttonEl =\n",
              "          document.querySelector('#df-828760c5-ca31-4d96-9370-b2006f444267 button.colab-df-convert');\n",
              "        buttonEl.style.display =\n",
              "          google.colab.kernel.accessAllowed ? 'block' : 'none';\n",
              "\n",
              "        async function convertToInteractive(key) {\n",
              "          const element = document.querySelector('#df-828760c5-ca31-4d96-9370-b2006f444267');\n",
              "          const dataTable =\n",
              "            await google.colab.kernel.invokeFunction('convertToInteractive',\n",
              "                                                     [key], {});\n",
              "          if (!dataTable) return;\n",
              "\n",
              "          const docLinkHtml = 'Like what you see? Visit the ' +\n",
              "            '<a target=\"_blank\" href=https://colab.research.google.com/notebooks/data_table.ipynb>data table notebook</a>'\n",
              "            + ' to learn more about interactive tables.';\n",
              "          element.innerHTML = '';\n",
              "          dataTable['output_type'] = 'display_data';\n",
              "          await google.colab.output.renderOutput(dataTable, element);\n",
              "          const docLink = document.createElement('div');\n",
              "          docLink.innerHTML = docLinkHtml;\n",
              "          element.appendChild(docLink);\n",
              "        }\n",
              "      </script>\n",
              "    </div>\n",
              "  </div>\n",
              "  "
            ],
            "text/plain": [
              "   Id  MSSubClass MSZoning  LotFrontage  LotArea Street Alley LotShape  \\\n",
              "0   1          60       RL         65.0     8450   Pave   NaN      Reg   \n",
              "1   2          20       RL         80.0     9600   Pave   NaN      Reg   \n",
              "2   3          60       RL         68.0    11250   Pave   NaN      IR1   \n",
              "3   4          70       RL         60.0     9550   Pave   NaN      IR1   \n",
              "4   5          60       RL         84.0    14260   Pave   NaN      IR1   \n",
              "\n",
              "  LandContour Utilities  ... PoolArea PoolQC Fence MiscFeature MiscVal MoSold  \\\n",
              "0         Lvl    AllPub  ...        0    NaN   NaN         NaN       0      2   \n",
              "1         Lvl    AllPub  ...        0    NaN   NaN         NaN       0      5   \n",
              "2         Lvl    AllPub  ...        0    NaN   NaN         NaN       0      9   \n",
              "3         Lvl    AllPub  ...        0    NaN   NaN         NaN       0      2   \n",
              "4         Lvl    AllPub  ...        0    NaN   NaN         NaN       0     12   \n",
              "\n",
              "  YrSold  SaleType  SaleCondition  SalePrice  \n",
              "0   2008        WD         Normal     208500  \n",
              "1   2007        WD         Normal     181500  \n",
              "2   2008        WD         Normal     223500  \n",
              "3   2006        WD        Abnorml     140000  \n",
              "4   2008        WD         Normal     250000  \n",
              "\n",
              "[5 rows x 81 columns]"
            ]
          },
          "execution_count": 146,
          "metadata": {},
          "output_type": "execute_result"
        }
      ],
      "source": [
        "train_df.head()"
      ]
    },
    {
      "cell_type": "code",
      "execution_count": null,
      "id": "0110f51c",
      "metadata": {
        "colab": {
          "base_uri": "https://localhost:8080/",
          "height": 299
        },
        "execution": {
          "iopub.execute_input": "2023-01-21T15:10:39.630742Z",
          "iopub.status.busy": "2023-01-21T15:10:39.630139Z",
          "iopub.status.idle": "2023-01-21T15:10:39.652257Z",
          "shell.execute_reply": "2023-01-21T15:10:39.651417Z"
        },
        "id": "0110f51c",
        "outputId": "099ed637-9da4-434d-910c-1fb450c818f2",
        "papermill": {
          "duration": 0.044507,
          "end_time": "2023-01-21T15:10:39.654302",
          "exception": false,
          "start_time": "2023-01-21T15:10:39.609795",
          "status": "completed"
        },
        "tags": []
      },
      "outputs": [
        {
          "data": {
            "text/html": [
              "\n",
              "  <div id=\"df-9e1a9aff-df82-4515-ab9c-2f742f7ee548\">\n",
              "    <div class=\"colab-df-container\">\n",
              "      <div>\n",
              "<style scoped>\n",
              "    .dataframe tbody tr th:only-of-type {\n",
              "        vertical-align: middle;\n",
              "    }\n",
              "\n",
              "    .dataframe tbody tr th {\n",
              "        vertical-align: top;\n",
              "    }\n",
              "\n",
              "    .dataframe thead th {\n",
              "        text-align: right;\n",
              "    }\n",
              "</style>\n",
              "<table border=\"1\" class=\"dataframe\">\n",
              "  <thead>\n",
              "    <tr style=\"text-align: right;\">\n",
              "      <th></th>\n",
              "      <th>Id</th>\n",
              "      <th>MSSubClass</th>\n",
              "      <th>MSZoning</th>\n",
              "      <th>LotFrontage</th>\n",
              "      <th>LotArea</th>\n",
              "      <th>Street</th>\n",
              "      <th>Alley</th>\n",
              "      <th>LotShape</th>\n",
              "      <th>LandContour</th>\n",
              "      <th>Utilities</th>\n",
              "      <th>...</th>\n",
              "      <th>ScreenPorch</th>\n",
              "      <th>PoolArea</th>\n",
              "      <th>PoolQC</th>\n",
              "      <th>Fence</th>\n",
              "      <th>MiscFeature</th>\n",
              "      <th>MiscVal</th>\n",
              "      <th>MoSold</th>\n",
              "      <th>YrSold</th>\n",
              "      <th>SaleType</th>\n",
              "      <th>SaleCondition</th>\n",
              "    </tr>\n",
              "  </thead>\n",
              "  <tbody>\n",
              "    <tr>\n",
              "      <th>0</th>\n",
              "      <td>1461</td>\n",
              "      <td>20</td>\n",
              "      <td>RH</td>\n",
              "      <td>80.0</td>\n",
              "      <td>11622</td>\n",
              "      <td>Pave</td>\n",
              "      <td>NaN</td>\n",
              "      <td>Reg</td>\n",
              "      <td>Lvl</td>\n",
              "      <td>AllPub</td>\n",
              "      <td>...</td>\n",
              "      <td>120</td>\n",
              "      <td>0</td>\n",
              "      <td>NaN</td>\n",
              "      <td>MnPrv</td>\n",
              "      <td>NaN</td>\n",
              "      <td>0</td>\n",
              "      <td>6</td>\n",
              "      <td>2010</td>\n",
              "      <td>WD</td>\n",
              "      <td>Normal</td>\n",
              "    </tr>\n",
              "    <tr>\n",
              "      <th>1</th>\n",
              "      <td>1462</td>\n",
              "      <td>20</td>\n",
              "      <td>RL</td>\n",
              "      <td>81.0</td>\n",
              "      <td>14267</td>\n",
              "      <td>Pave</td>\n",
              "      <td>NaN</td>\n",
              "      <td>IR1</td>\n",
              "      <td>Lvl</td>\n",
              "      <td>AllPub</td>\n",
              "      <td>...</td>\n",
              "      <td>0</td>\n",
              "      <td>0</td>\n",
              "      <td>NaN</td>\n",
              "      <td>NaN</td>\n",
              "      <td>Gar2</td>\n",
              "      <td>12500</td>\n",
              "      <td>6</td>\n",
              "      <td>2010</td>\n",
              "      <td>WD</td>\n",
              "      <td>Normal</td>\n",
              "    </tr>\n",
              "    <tr>\n",
              "      <th>2</th>\n",
              "      <td>1463</td>\n",
              "      <td>60</td>\n",
              "      <td>RL</td>\n",
              "      <td>74.0</td>\n",
              "      <td>13830</td>\n",
              "      <td>Pave</td>\n",
              "      <td>NaN</td>\n",
              "      <td>IR1</td>\n",
              "      <td>Lvl</td>\n",
              "      <td>AllPub</td>\n",
              "      <td>...</td>\n",
              "      <td>0</td>\n",
              "      <td>0</td>\n",
              "      <td>NaN</td>\n",
              "      <td>MnPrv</td>\n",
              "      <td>NaN</td>\n",
              "      <td>0</td>\n",
              "      <td>3</td>\n",
              "      <td>2010</td>\n",
              "      <td>WD</td>\n",
              "      <td>Normal</td>\n",
              "    </tr>\n",
              "    <tr>\n",
              "      <th>3</th>\n",
              "      <td>1464</td>\n",
              "      <td>60</td>\n",
              "      <td>RL</td>\n",
              "      <td>78.0</td>\n",
              "      <td>9978</td>\n",
              "      <td>Pave</td>\n",
              "      <td>NaN</td>\n",
              "      <td>IR1</td>\n",
              "      <td>Lvl</td>\n",
              "      <td>AllPub</td>\n",
              "      <td>...</td>\n",
              "      <td>0</td>\n",
              "      <td>0</td>\n",
              "      <td>NaN</td>\n",
              "      <td>NaN</td>\n",
              "      <td>NaN</td>\n",
              "      <td>0</td>\n",
              "      <td>6</td>\n",
              "      <td>2010</td>\n",
              "      <td>WD</td>\n",
              "      <td>Normal</td>\n",
              "    </tr>\n",
              "    <tr>\n",
              "      <th>4</th>\n",
              "      <td>1465</td>\n",
              "      <td>120</td>\n",
              "      <td>RL</td>\n",
              "      <td>43.0</td>\n",
              "      <td>5005</td>\n",
              "      <td>Pave</td>\n",
              "      <td>NaN</td>\n",
              "      <td>IR1</td>\n",
              "      <td>HLS</td>\n",
              "      <td>AllPub</td>\n",
              "      <td>...</td>\n",
              "      <td>144</td>\n",
              "      <td>0</td>\n",
              "      <td>NaN</td>\n",
              "      <td>NaN</td>\n",
              "      <td>NaN</td>\n",
              "      <td>0</td>\n",
              "      <td>1</td>\n",
              "      <td>2010</td>\n",
              "      <td>WD</td>\n",
              "      <td>Normal</td>\n",
              "    </tr>\n",
              "  </tbody>\n",
              "</table>\n",
              "<p>5 rows × 80 columns</p>\n",
              "</div>\n",
              "      <button class=\"colab-df-convert\" onclick=\"convertToInteractive('df-9e1a9aff-df82-4515-ab9c-2f742f7ee548')\"\n",
              "              title=\"Convert this dataframe to an interactive table.\"\n",
              "              style=\"display:none;\">\n",
              "        \n",
              "  <svg xmlns=\"http://www.w3.org/2000/svg\" height=\"24px\"viewBox=\"0 0 24 24\"\n",
              "       width=\"24px\">\n",
              "    <path d=\"M0 0h24v24H0V0z\" fill=\"none\"/>\n",
              "    <path d=\"M18.56 5.44l.94 2.06.94-2.06 2.06-.94-2.06-.94-.94-2.06-.94 2.06-2.06.94zm-11 1L8.5 8.5l.94-2.06 2.06-.94-2.06-.94L8.5 2.5l-.94 2.06-2.06.94zm10 10l.94 2.06.94-2.06 2.06-.94-2.06-.94-.94-2.06-.94 2.06-2.06.94z\"/><path d=\"M17.41 7.96l-1.37-1.37c-.4-.4-.92-.59-1.43-.59-.52 0-1.04.2-1.43.59L10.3 9.45l-7.72 7.72c-.78.78-.78 2.05 0 2.83L4 21.41c.39.39.9.59 1.41.59.51 0 1.02-.2 1.41-.59l7.78-7.78 2.81-2.81c.8-.78.8-2.07 0-2.86zM5.41 20L4 18.59l7.72-7.72 1.47 1.35L5.41 20z\"/>\n",
              "  </svg>\n",
              "      </button>\n",
              "      \n",
              "  <style>\n",
              "    .colab-df-container {\n",
              "      display:flex;\n",
              "      flex-wrap:wrap;\n",
              "      gap: 12px;\n",
              "    }\n",
              "\n",
              "    .colab-df-convert {\n",
              "      background-color: #E8F0FE;\n",
              "      border: none;\n",
              "      border-radius: 50%;\n",
              "      cursor: pointer;\n",
              "      display: none;\n",
              "      fill: #1967D2;\n",
              "      height: 32px;\n",
              "      padding: 0 0 0 0;\n",
              "      width: 32px;\n",
              "    }\n",
              "\n",
              "    .colab-df-convert:hover {\n",
              "      background-color: #E2EBFA;\n",
              "      box-shadow: 0px 1px 2px rgba(60, 64, 67, 0.3), 0px 1px 3px 1px rgba(60, 64, 67, 0.15);\n",
              "      fill: #174EA6;\n",
              "    }\n",
              "\n",
              "    [theme=dark] .colab-df-convert {\n",
              "      background-color: #3B4455;\n",
              "      fill: #D2E3FC;\n",
              "    }\n",
              "\n",
              "    [theme=dark] .colab-df-convert:hover {\n",
              "      background-color: #434B5C;\n",
              "      box-shadow: 0px 1px 3px 1px rgba(0, 0, 0, 0.15);\n",
              "      filter: drop-shadow(0px 1px 2px rgba(0, 0, 0, 0.3));\n",
              "      fill: #FFFFFF;\n",
              "    }\n",
              "  </style>\n",
              "\n",
              "      <script>\n",
              "        const buttonEl =\n",
              "          document.querySelector('#df-9e1a9aff-df82-4515-ab9c-2f742f7ee548 button.colab-df-convert');\n",
              "        buttonEl.style.display =\n",
              "          google.colab.kernel.accessAllowed ? 'block' : 'none';\n",
              "\n",
              "        async function convertToInteractive(key) {\n",
              "          const element = document.querySelector('#df-9e1a9aff-df82-4515-ab9c-2f742f7ee548');\n",
              "          const dataTable =\n",
              "            await google.colab.kernel.invokeFunction('convertToInteractive',\n",
              "                                                     [key], {});\n",
              "          if (!dataTable) return;\n",
              "\n",
              "          const docLinkHtml = 'Like what you see? Visit the ' +\n",
              "            '<a target=\"_blank\" href=https://colab.research.google.com/notebooks/data_table.ipynb>data table notebook</a>'\n",
              "            + ' to learn more about interactive tables.';\n",
              "          element.innerHTML = '';\n",
              "          dataTable['output_type'] = 'display_data';\n",
              "          await google.colab.output.renderOutput(dataTable, element);\n",
              "          const docLink = document.createElement('div');\n",
              "          docLink.innerHTML = docLinkHtml;\n",
              "          element.appendChild(docLink);\n",
              "        }\n",
              "      </script>\n",
              "    </div>\n",
              "  </div>\n",
              "  "
            ],
            "text/plain": [
              "     Id  MSSubClass MSZoning  LotFrontage  LotArea Street Alley LotShape  \\\n",
              "0  1461          20       RH         80.0    11622   Pave   NaN      Reg   \n",
              "1  1462          20       RL         81.0    14267   Pave   NaN      IR1   \n",
              "2  1463          60       RL         74.0    13830   Pave   NaN      IR1   \n",
              "3  1464          60       RL         78.0     9978   Pave   NaN      IR1   \n",
              "4  1465         120       RL         43.0     5005   Pave   NaN      IR1   \n",
              "\n",
              "  LandContour Utilities  ... ScreenPorch PoolArea PoolQC  Fence MiscFeature  \\\n",
              "0         Lvl    AllPub  ...         120        0    NaN  MnPrv         NaN   \n",
              "1         Lvl    AllPub  ...           0        0    NaN    NaN        Gar2   \n",
              "2         Lvl    AllPub  ...           0        0    NaN  MnPrv         NaN   \n",
              "3         Lvl    AllPub  ...           0        0    NaN    NaN         NaN   \n",
              "4         HLS    AllPub  ...         144        0    NaN    NaN         NaN   \n",
              "\n",
              "  MiscVal MoSold  YrSold  SaleType  SaleCondition  \n",
              "0       0      6    2010        WD         Normal  \n",
              "1   12500      6    2010        WD         Normal  \n",
              "2       0      3    2010        WD         Normal  \n",
              "3       0      6    2010        WD         Normal  \n",
              "4       0      1    2010        WD         Normal  \n",
              "\n",
              "[5 rows x 80 columns]"
            ]
          },
          "execution_count": 147,
          "metadata": {},
          "output_type": "execute_result"
        }
      ],
      "source": [
        "test_df.head()"
      ]
    },
    {
      "cell_type": "markdown",
      "id": "9805bce3",
      "metadata": {
        "id": "9805bce3",
        "papermill": {
          "duration": 0.018634,
          "end_time": "2023-01-21T15:10:39.692598",
          "exception": false,
          "start_time": "2023-01-21T15:10:39.673964",
          "status": "completed"
        },
        "tags": []
      },
      "source": [
        "# **HANDLING THE MISSING VALUES**"
      ]
    },
    {
      "cell_type": "code",
      "execution_count": null,
      "id": "ad0b6b49",
      "metadata": {
        "colab": {
          "base_uri": "https://localhost:8080/",
          "height": 0
        },
        "execution": {
          "iopub.execute_input": "2023-01-21T15:10:39.733255Z",
          "iopub.status.busy": "2023-01-21T15:10:39.732385Z",
          "iopub.status.idle": "2023-01-21T15:10:39.748055Z",
          "shell.execute_reply": "2023-01-21T15:10:39.746285Z"
        },
        "id": "ad0b6b49",
        "outputId": "2bfe14ea-6ebe-4122-c8f8-1f4ac6b1fad7",
        "papermill": {
          "duration": 0.038688,
          "end_time": "2023-01-21T15:10:39.750442",
          "exception": false,
          "start_time": "2023-01-21T15:10:39.711754",
          "status": "completed"
        },
        "tags": []
      },
      "outputs": [
        {
          "name": "stdout",
          "output_type": "stream",
          "text": [
            "Columns having categorical data:\n"
          ]
        },
        {
          "data": {
            "text/plain": [
              "['MSZoning',\n",
              " 'Street',\n",
              " 'Alley',\n",
              " 'LotShape',\n",
              " 'LandContour',\n",
              " 'Utilities',\n",
              " 'LotConfig',\n",
              " 'LandSlope',\n",
              " 'Neighborhood',\n",
              " 'Condition1',\n",
              " 'Condition2',\n",
              " 'BldgType',\n",
              " 'HouseStyle',\n",
              " 'RoofStyle',\n",
              " 'RoofMatl',\n",
              " 'Exterior1st',\n",
              " 'Exterior2nd',\n",
              " 'MasVnrType',\n",
              " 'ExterQual',\n",
              " 'ExterCond',\n",
              " 'Foundation',\n",
              " 'BsmtQual',\n",
              " 'BsmtCond',\n",
              " 'BsmtExposure',\n",
              " 'BsmtFinType1',\n",
              " 'BsmtFinType2',\n",
              " 'Heating',\n",
              " 'HeatingQC',\n",
              " 'CentralAir',\n",
              " 'Electrical',\n",
              " 'KitchenQual',\n",
              " 'Functional',\n",
              " 'FireplaceQu',\n",
              " 'GarageType',\n",
              " 'GarageFinish',\n",
              " 'GarageQual',\n",
              " 'GarageCond',\n",
              " 'PavedDrive',\n",
              " 'PoolQC',\n",
              " 'Fence',\n",
              " 'MiscFeature',\n",
              " 'SaleType',\n",
              " 'SaleCondition']"
            ]
          },
          "execution_count": 148,
          "metadata": {},
          "output_type": "execute_result"
        }
      ],
      "source": [
        "print(\"Columns having categorical data:\")\n",
        "category = list(train_df.select_dtypes(include = [object]).columns)\n",
        "category"
      ]
    },
    {
      "cell_type": "code",
      "execution_count": null,
      "id": "15ff2034",
      "metadata": {
        "colab": {
          "base_uri": "https://localhost:8080/",
          "height": 0
        },
        "execution": {
          "iopub.execute_input": "2023-01-21T15:10:39.791653Z",
          "iopub.status.busy": "2023-01-21T15:10:39.791224Z",
          "iopub.status.idle": "2023-01-21T15:10:39.800981Z",
          "shell.execute_reply": "2023-01-21T15:10:39.799843Z"
        },
        "id": "15ff2034",
        "outputId": "676d21ae-3a4d-4d91-a776-400c1ee9c40f",
        "papermill": {
          "duration": 0.03308,
          "end_time": "2023-01-21T15:10:39.803016",
          "exception": false,
          "start_time": "2023-01-21T15:10:39.769936",
          "status": "completed"
        },
        "tags": []
      },
      "outputs": [
        {
          "name": "stdout",
          "output_type": "stream",
          "text": [
            "Columns having numerical data:\n"
          ]
        },
        {
          "data": {
            "text/plain": [
              "['Id',\n",
              " 'MSSubClass',\n",
              " 'LotFrontage',\n",
              " 'LotArea',\n",
              " 'OverallQual',\n",
              " 'OverallCond',\n",
              " 'YearBuilt',\n",
              " 'YearRemodAdd',\n",
              " 'MasVnrArea',\n",
              " 'BsmtFinSF1',\n",
              " 'BsmtFinSF2',\n",
              " 'BsmtUnfSF',\n",
              " 'TotalBsmtSF',\n",
              " '1stFlrSF',\n",
              " '2ndFlrSF',\n",
              " 'LowQualFinSF',\n",
              " 'GrLivArea',\n",
              " 'BsmtFullBath',\n",
              " 'BsmtHalfBath',\n",
              " 'FullBath',\n",
              " 'HalfBath',\n",
              " 'BedroomAbvGr',\n",
              " 'KitchenAbvGr',\n",
              " 'TotRmsAbvGrd',\n",
              " 'Fireplaces',\n",
              " 'GarageYrBlt',\n",
              " 'GarageCars',\n",
              " 'GarageArea',\n",
              " 'WoodDeckSF',\n",
              " 'OpenPorchSF',\n",
              " 'EnclosedPorch',\n",
              " '3SsnPorch',\n",
              " 'ScreenPorch',\n",
              " 'PoolArea',\n",
              " 'MiscVal',\n",
              " 'MoSold',\n",
              " 'YrSold',\n",
              " 'SalePrice']"
            ]
          },
          "execution_count": 149,
          "metadata": {},
          "output_type": "execute_result"
        }
      ],
      "source": [
        "print(\"Columns having numerical data:\")\n",
        "num = list(train_df.select_dtypes(include = [int,float]).columns)\n",
        "num"
      ]
    },
    {
      "cell_type": "code",
      "execution_count": null,
      "id": "06a31213",
      "metadata": {
        "colab": {
          "base_uri": "https://localhost:8080/",
          "height": 0
        },
        "execution": {
          "iopub.execute_input": "2023-01-21T15:10:39.844024Z",
          "iopub.status.busy": "2023-01-21T15:10:39.842838Z",
          "iopub.status.idle": "2023-01-21T15:10:39.869031Z",
          "shell.execute_reply": "2023-01-21T15:10:39.867500Z"
        },
        "id": "06a31213",
        "outputId": "f4b56f27-9345-437f-80ca-611bb6e0c656",
        "papermill": {
          "duration": 0.049903,
          "end_time": "2023-01-21T15:10:39.872392",
          "exception": false,
          "start_time": "2023-01-21T15:10:39.822489",
          "status": "completed"
        },
        "tags": []
      },
      "outputs": [
        {
          "name": "stdout",
          "output_type": "stream",
          "text": [
            "<class 'pandas.core.frame.DataFrame'>\n",
            "RangeIndex: 1460 entries, 0 to 1459\n",
            "Data columns (total 81 columns):\n",
            " #   Column         Non-Null Count  Dtype  \n",
            "---  ------         --------------  -----  \n",
            " 0   Id             1460 non-null   int64  \n",
            " 1   MSSubClass     1460 non-null   int64  \n",
            " 2   MSZoning       1460 non-null   object \n",
            " 3   LotFrontage    1201 non-null   float64\n",
            " 4   LotArea        1460 non-null   int64  \n",
            " 5   Street         1460 non-null   object \n",
            " 6   Alley          91 non-null     object \n",
            " 7   LotShape       1460 non-null   object \n",
            " 8   LandContour    1460 non-null   object \n",
            " 9   Utilities      1460 non-null   object \n",
            " 10  LotConfig      1460 non-null   object \n",
            " 11  LandSlope      1460 non-null   object \n",
            " 12  Neighborhood   1460 non-null   object \n",
            " 13  Condition1     1460 non-null   object \n",
            " 14  Condition2     1460 non-null   object \n",
            " 15  BldgType       1460 non-null   object \n",
            " 16  HouseStyle     1460 non-null   object \n",
            " 17  OverallQual    1460 non-null   int64  \n",
            " 18  OverallCond    1460 non-null   int64  \n",
            " 19  YearBuilt      1460 non-null   int64  \n",
            " 20  YearRemodAdd   1460 non-null   int64  \n",
            " 21  RoofStyle      1460 non-null   object \n",
            " 22  RoofMatl       1460 non-null   object \n",
            " 23  Exterior1st    1460 non-null   object \n",
            " 24  Exterior2nd    1460 non-null   object \n",
            " 25  MasVnrType     1452 non-null   object \n",
            " 26  MasVnrArea     1452 non-null   float64\n",
            " 27  ExterQual      1460 non-null   object \n",
            " 28  ExterCond      1460 non-null   object \n",
            " 29  Foundation     1460 non-null   object \n",
            " 30  BsmtQual       1423 non-null   object \n",
            " 31  BsmtCond       1423 non-null   object \n",
            " 32  BsmtExposure   1422 non-null   object \n",
            " 33  BsmtFinType1   1423 non-null   object \n",
            " 34  BsmtFinSF1     1460 non-null   int64  \n",
            " 35  BsmtFinType2   1422 non-null   object \n",
            " 36  BsmtFinSF2     1460 non-null   int64  \n",
            " 37  BsmtUnfSF      1460 non-null   int64  \n",
            " 38  TotalBsmtSF    1460 non-null   int64  \n",
            " 39  Heating        1460 non-null   object \n",
            " 40  HeatingQC      1460 non-null   object \n",
            " 41  CentralAir     1460 non-null   object \n",
            " 42  Electrical     1459 non-null   object \n",
            " 43  1stFlrSF       1460 non-null   int64  \n",
            " 44  2ndFlrSF       1460 non-null   int64  \n",
            " 45  LowQualFinSF   1460 non-null   int64  \n",
            " 46  GrLivArea      1460 non-null   int64  \n",
            " 47  BsmtFullBath   1460 non-null   int64  \n",
            " 48  BsmtHalfBath   1460 non-null   int64  \n",
            " 49  FullBath       1460 non-null   int64  \n",
            " 50  HalfBath       1460 non-null   int64  \n",
            " 51  BedroomAbvGr   1460 non-null   int64  \n",
            " 52  KitchenAbvGr   1460 non-null   int64  \n",
            " 53  KitchenQual    1460 non-null   object \n",
            " 54  TotRmsAbvGrd   1460 non-null   int64  \n",
            " 55  Functional     1460 non-null   object \n",
            " 56  Fireplaces     1460 non-null   int64  \n",
            " 57  FireplaceQu    770 non-null    object \n",
            " 58  GarageType     1379 non-null   object \n",
            " 59  GarageYrBlt    1379 non-null   float64\n",
            " 60  GarageFinish   1379 non-null   object \n",
            " 61  GarageCars     1460 non-null   int64  \n",
            " 62  GarageArea     1460 non-null   int64  \n",
            " 63  GarageQual     1379 non-null   object \n",
            " 64  GarageCond     1379 non-null   object \n",
            " 65  PavedDrive     1460 non-null   object \n",
            " 66  WoodDeckSF     1460 non-null   int64  \n",
            " 67  OpenPorchSF    1460 non-null   int64  \n",
            " 68  EnclosedPorch  1460 non-null   int64  \n",
            " 69  3SsnPorch      1460 non-null   int64  \n",
            " 70  ScreenPorch    1460 non-null   int64  \n",
            " 71  PoolArea       1460 non-null   int64  \n",
            " 72  PoolQC         7 non-null      object \n",
            " 73  Fence          281 non-null    object \n",
            " 74  MiscFeature    54 non-null     object \n",
            " 75  MiscVal        1460 non-null   int64  \n",
            " 76  MoSold         1460 non-null   int64  \n",
            " 77  YrSold         1460 non-null   int64  \n",
            " 78  SaleType       1460 non-null   object \n",
            " 79  SaleCondition  1460 non-null   object \n",
            " 80  SalePrice      1460 non-null   int64  \n",
            "dtypes: float64(3), int64(35), object(43)\n",
            "memory usage: 924.0+ KB\n"
          ]
        }
      ],
      "source": [
        "train_df.info()"
      ]
    },
    {
      "cell_type": "code",
      "execution_count": null,
      "id": "73cc546b",
      "metadata": {
        "colab": {
          "base_uri": "https://localhost:8080/",
          "height": 0
        },
        "execution": {
          "iopub.execute_input": "2023-01-21T15:10:39.914755Z",
          "iopub.status.busy": "2023-01-21T15:10:39.914031Z",
          "iopub.status.idle": "2023-01-21T15:10:39.933760Z",
          "shell.execute_reply": "2023-01-21T15:10:39.932758Z"
        },
        "id": "73cc546b",
        "outputId": "17c00188-d3c0-4e0e-8763-d7ef4a274228",
        "papermill": {
          "duration": 0.043212,
          "end_time": "2023-01-21T15:10:39.936573",
          "exception": false,
          "start_time": "2023-01-21T15:10:39.893361",
          "status": "completed"
        },
        "tags": []
      },
      "outputs": [
        {
          "name": "stdout",
          "output_type": "stream",
          "text": [
            "<class 'pandas.core.frame.DataFrame'>\n",
            "RangeIndex: 1459 entries, 0 to 1458\n",
            "Data columns (total 80 columns):\n",
            " #   Column         Non-Null Count  Dtype  \n",
            "---  ------         --------------  -----  \n",
            " 0   Id             1459 non-null   int64  \n",
            " 1   MSSubClass     1459 non-null   int64  \n",
            " 2   MSZoning       1455 non-null   object \n",
            " 3   LotFrontage    1232 non-null   float64\n",
            " 4   LotArea        1459 non-null   int64  \n",
            " 5   Street         1459 non-null   object \n",
            " 6   Alley          107 non-null    object \n",
            " 7   LotShape       1459 non-null   object \n",
            " 8   LandContour    1459 non-null   object \n",
            " 9   Utilities      1457 non-null   object \n",
            " 10  LotConfig      1459 non-null   object \n",
            " 11  LandSlope      1459 non-null   object \n",
            " 12  Neighborhood   1459 non-null   object \n",
            " 13  Condition1     1459 non-null   object \n",
            " 14  Condition2     1459 non-null   object \n",
            " 15  BldgType       1459 non-null   object \n",
            " 16  HouseStyle     1459 non-null   object \n",
            " 17  OverallQual    1459 non-null   int64  \n",
            " 18  OverallCond    1459 non-null   int64  \n",
            " 19  YearBuilt      1459 non-null   int64  \n",
            " 20  YearRemodAdd   1459 non-null   int64  \n",
            " 21  RoofStyle      1459 non-null   object \n",
            " 22  RoofMatl       1459 non-null   object \n",
            " 23  Exterior1st    1458 non-null   object \n",
            " 24  Exterior2nd    1458 non-null   object \n",
            " 25  MasVnrType     1443 non-null   object \n",
            " 26  MasVnrArea     1444 non-null   float64\n",
            " 27  ExterQual      1459 non-null   object \n",
            " 28  ExterCond      1459 non-null   object \n",
            " 29  Foundation     1459 non-null   object \n",
            " 30  BsmtQual       1415 non-null   object \n",
            " 31  BsmtCond       1414 non-null   object \n",
            " 32  BsmtExposure   1415 non-null   object \n",
            " 33  BsmtFinType1   1417 non-null   object \n",
            " 34  BsmtFinSF1     1458 non-null   float64\n",
            " 35  BsmtFinType2   1417 non-null   object \n",
            " 36  BsmtFinSF2     1458 non-null   float64\n",
            " 37  BsmtUnfSF      1458 non-null   float64\n",
            " 38  TotalBsmtSF    1458 non-null   float64\n",
            " 39  Heating        1459 non-null   object \n",
            " 40  HeatingQC      1459 non-null   object \n",
            " 41  CentralAir     1459 non-null   object \n",
            " 42  Electrical     1459 non-null   object \n",
            " 43  1stFlrSF       1459 non-null   int64  \n",
            " 44  2ndFlrSF       1459 non-null   int64  \n",
            " 45  LowQualFinSF   1459 non-null   int64  \n",
            " 46  GrLivArea      1459 non-null   int64  \n",
            " 47  BsmtFullBath   1457 non-null   float64\n",
            " 48  BsmtHalfBath   1457 non-null   float64\n",
            " 49  FullBath       1459 non-null   int64  \n",
            " 50  HalfBath       1459 non-null   int64  \n",
            " 51  BedroomAbvGr   1459 non-null   int64  \n",
            " 52  KitchenAbvGr   1459 non-null   int64  \n",
            " 53  KitchenQual    1458 non-null   object \n",
            " 54  TotRmsAbvGrd   1459 non-null   int64  \n",
            " 55  Functional     1457 non-null   object \n",
            " 56  Fireplaces     1459 non-null   int64  \n",
            " 57  FireplaceQu    729 non-null    object \n",
            " 58  GarageType     1383 non-null   object \n",
            " 59  GarageYrBlt    1381 non-null   float64\n",
            " 60  GarageFinish   1381 non-null   object \n",
            " 61  GarageCars     1458 non-null   float64\n",
            " 62  GarageArea     1458 non-null   float64\n",
            " 63  GarageQual     1381 non-null   object \n",
            " 64  GarageCond     1381 non-null   object \n",
            " 65  PavedDrive     1459 non-null   object \n",
            " 66  WoodDeckSF     1459 non-null   int64  \n",
            " 67  OpenPorchSF    1459 non-null   int64  \n",
            " 68  EnclosedPorch  1459 non-null   int64  \n",
            " 69  3SsnPorch      1459 non-null   int64  \n",
            " 70  ScreenPorch    1459 non-null   int64  \n",
            " 71  PoolArea       1459 non-null   int64  \n",
            " 72  PoolQC         3 non-null      object \n",
            " 73  Fence          290 non-null    object \n",
            " 74  MiscFeature    51 non-null     object \n",
            " 75  MiscVal        1459 non-null   int64  \n",
            " 76  MoSold         1459 non-null   int64  \n",
            " 77  YrSold         1459 non-null   int64  \n",
            " 78  SaleType       1458 non-null   object \n",
            " 79  SaleCondition  1459 non-null   object \n",
            "dtypes: float64(11), int64(26), object(43)\n",
            "memory usage: 912.0+ KB\n"
          ]
        }
      ],
      "source": [
        "test_df.info()"
      ]
    },
    {
      "cell_type": "code",
      "execution_count": null,
      "id": "hwcodhmdV4Wb",
      "metadata": {
        "colab": {
          "base_uri": "https://localhost:8080/",
          "height": 265
        },
        "id": "hwcodhmdV4Wb",
        "outputId": "ec096622-7b28-4a8f-b3c9-6e563988736b"
      },
      "outputs": [
        {
          "data": {
            "image/png": "[encoded data removed]",
            "text/plain": [
              "<Figure size 432x288 with 1 Axes>"
            ]
          },
          "metadata": {
            "needs_background": "light"
          },
          "output_type": "display_data"
        }
      ],
      "source": [
        "x = train_df[\"LotArea\"]\n",
        "y = train_df[\"SalePrice\"]\n",
        "\n",
        "import matplotlib.pyplot as plt\n",
        "\n",
        "plt.scatter(x, y)\n",
        "plt.show()"
      ]
    },
    {
      "cell_type": "code",
      "execution_count": null,
      "id": "9ijli_-5NdWa",
      "metadata": {
        "colab": {
          "base_uri": "https://localhost:8080/",
          "height": 265
        },
        "id": "9ijli_-5NdWa",
        "outputId": "ee8fb2ee-1fb7-4d08-ee43-76797653297f"
      },
      "outputs": [
        {
          "data": {
            "image/png": "[encoded data removed]",
            "text/plain": [
              "<Figure size 432x288 with 1 Axes>"
            ]
          },
          "metadata": {
            "needs_background": "light"
          },
          "output_type": "display_data"
        }
      ],
      "source": [
        "x = train_df[\"LotFrontage\"]\n",
        "y = train_df[\"SalePrice\"]\n",
        "\n",
        "import matplotlib.pyplot as plt\n",
        "\n",
        "plt.scatter(x, y)\n",
        "plt.show()"
      ]
    },
    {
      "cell_type": "code",
      "execution_count": null,
      "id": "gKlp9AtwNp6X",
      "metadata": {
        "colab": {
          "base_uri": "https://localhost:8080/",
          "height": 265
        },
        "id": "gKlp9AtwNp6X",
        "outputId": "e0a991fe-8ebf-4727-9aa9-ad28425e1dfc"
      },
      "outputs": [
        {
          "data": {
            "image/png": "[encoded data removed]",
            "text/plain": [
              "<Figure size 432x288 with 1 Axes>"
            ]
          },
          "metadata": {
            "needs_background": "light"
          },
          "output_type": "display_data"
        }
      ],
      "source": [
        "x = train_df[\"OverallQual\"]\n",
        "y = train_df[\"SalePrice\"]\n",
        "\n",
        "import matplotlib.pyplot as plt\n",
        "\n",
        "plt.scatter(x, y)\n",
        "plt.show()"
      ]
    },
    {
      "cell_type": "code",
      "execution_count": null,
      "id": "Y9iyI6BjNvNq",
      "metadata": {
        "colab": {
          "base_uri": "https://localhost:8080/",
          "height": 265
        },
        "id": "Y9iyI6BjNvNq",
        "outputId": "7c6fec53-0246-4c63-f678-924fcb5af867"
      },
      "outputs": [
        {
          "data": {
            "image/png": "[encoded data removed]",
            "text/plain": [
              "<Figure size 432x288 with 1 Axes>"
            ]
          },
          "metadata": {
            "needs_background": "light"
          },
          "output_type": "display_data"
        }
      ],
      "source": [
        "x = train_df[\"OverallCond\"]\n",
        "y = train_df[\"SalePrice\"]\n",
        "\n",
        "import matplotlib.pyplot as plt\n",
        "\n",
        "plt.scatter(x, y)\n",
        "plt.show()"
      ]
    },
    {
      "cell_type": "code",
      "execution_count": null,
      "id": "7cE7QrOXH5Yl",
      "metadata": {
        "colab": {
          "base_uri": "https://localhost:8080/",
          "height": 265
        },
        "id": "7cE7QrOXH5Yl",
        "outputId": "8c3421b3-9349-440a-db4f-c9b89f1eb8f7"
      },
      "outputs": [
        {
          "data": {
            "image/png": "[encoded data removed]",
            "text/plain": [
              "<Figure size 432x288 with 1 Axes>"
            ]
          },
          "metadata": {
            "needs_background": "light"
          },
          "output_type": "display_data"
        }
      ],
      "source": [
        "x = train_df[\"YearBuilt\"]\n",
        "y = train_df[\"SalePrice\"]\n",
        "\n",
        "import matplotlib.pyplot as plt\n",
        "\n",
        "plt.scatter(x, y)\n",
        "plt.show()"
      ]
    },
    {
      "cell_type": "code",
      "execution_count": null,
      "id": "cX9WWxWGN7-3",
      "metadata": {
        "colab": {
          "base_uri": "https://localhost:8080/",
          "height": 265
        },
        "id": "cX9WWxWGN7-3",
        "outputId": "2720ffda-8647-49b4-a324-2d31232f0ed0"
      },
      "outputs": [
        {
          "data": {
            "image/png": "[encoded data removed]",
            "text/plain": [
              "<Figure size 432x288 with 1 Axes>"
            ]
          },
          "metadata": {
            "needs_background": "light"
          },
          "output_type": "display_data"
        }
      ],
      "source": [
        "x = train_df[\"YrSold\"]\n",
        "y = train_df[\"SalePrice\"]\n",
        "\n",
        "import matplotlib.pyplot as plt\n",
        "\n",
        "plt.scatter(x, y)\n",
        "plt.show()"
      ]
    },
    {
      "cell_type": "code",
      "execution_count": null,
      "id": "c250fa48",
      "metadata": {
        "colab": {
          "base_uri": "https://localhost:8080/",
          "height": 393
        },
        "execution": {
          "iopub.execute_input": "2023-01-21T15:10:39.979027Z",
          "iopub.status.busy": "2023-01-21T15:10:39.978123Z",
          "iopub.status.idle": "2023-01-21T15:10:40.083086Z",
          "shell.execute_reply": "2023-01-21T15:10:40.081953Z"
        },
        "id": "c250fa48",
        "outputId": "fef20a1b-8254-4e04-b1d0-0b4d208e8e07",
        "papermill": {
          "duration": 0.128624,
          "end_time": "2023-01-21T15:10:40.085473",
          "exception": false,
          "start_time": "2023-01-21T15:10:39.956849",
          "status": "completed"
        },
        "tags": []
      },
      "outputs": [
        {
          "data": {
            "text/html": [
              "\n",
              "  <div id=\"df-5b4f38c3-4595-476b-9bfd-7db8aaf332a8\">\n",
              "    <div class=\"colab-df-container\">\n",
              "      <div>\n",
              "<style scoped>\n",
              "    .dataframe tbody tr th:only-of-type {\n",
              "        vertical-align: middle;\n",
              "    }\n",
              "\n",
              "    .dataframe tbody tr th {\n",
              "        vertical-align: top;\n",
              "    }\n",
              "\n",
              "    .dataframe thead th {\n",
              "        text-align: right;\n",
              "    }\n",
              "</style>\n",
              "<table border=\"1\" class=\"dataframe\">\n",
              "  <thead>\n",
              "    <tr style=\"text-align: right;\">\n",
              "      <th></th>\n",
              "      <th>Id</th>\n",
              "      <th>MSSubClass</th>\n",
              "      <th>LotFrontage</th>\n",
              "      <th>LotArea</th>\n",
              "      <th>OverallQual</th>\n",
              "      <th>OverallCond</th>\n",
              "      <th>YearBuilt</th>\n",
              "      <th>YearRemodAdd</th>\n",
              "      <th>MasVnrArea</th>\n",
              "      <th>BsmtFinSF1</th>\n",
              "      <th>...</th>\n",
              "      <th>WoodDeckSF</th>\n",
              "      <th>OpenPorchSF</th>\n",
              "      <th>EnclosedPorch</th>\n",
              "      <th>3SsnPorch</th>\n",
              "      <th>ScreenPorch</th>\n",
              "      <th>PoolArea</th>\n",
              "      <th>MiscVal</th>\n",
              "      <th>MoSold</th>\n",
              "      <th>YrSold</th>\n",
              "      <th>SalePrice</th>\n",
              "    </tr>\n",
              "  </thead>\n",
              "  <tbody>\n",
              "    <tr>\n",
              "      <th>count</th>\n",
              "      <td>1460.000000</td>\n",
              "      <td>1460.000000</td>\n",
              "      <td>1201.000000</td>\n",
              "      <td>1460.000000</td>\n",
              "      <td>1460.000000</td>\n",
              "      <td>1460.000000</td>\n",
              "      <td>1460.000000</td>\n",
              "      <td>1460.000000</td>\n",
              "      <td>1452.000000</td>\n",
              "      <td>1460.000000</td>\n",
              "      <td>...</td>\n",
              "      <td>1460.000000</td>\n",
              "      <td>1460.000000</td>\n",
              "      <td>1460.000000</td>\n",
              "      <td>1460.000000</td>\n",
              "      <td>1460.000000</td>\n",
              "      <td>1460.000000</td>\n",
              "      <td>1460.000000</td>\n",
              "      <td>1460.000000</td>\n",
              "      <td>1460.000000</td>\n",
              "      <td>1460.000000</td>\n",
              "    </tr>\n",
              "    <tr>\n",
              "      <th>mean</th>\n",
              "      <td>730.500000</td>\n",
              "      <td>56.897260</td>\n",
              "      <td>70.049958</td>\n",
              "      <td>10516.828082</td>\n",
              "      <td>6.099315</td>\n",
              "      <td>5.575342</td>\n",
              "      <td>1971.267808</td>\n",
              "      <td>1984.865753</td>\n",
              "      <td>103.685262</td>\n",
              "      <td>443.639726</td>\n",
              "      <td>...</td>\n",
              "      <td>94.244521</td>\n",
              "      <td>46.660274</td>\n",
              "      <td>21.954110</td>\n",
              "      <td>3.409589</td>\n",
              "      <td>15.060959</td>\n",
              "      <td>2.758904</td>\n",
              "      <td>43.489041</td>\n",
              "      <td>6.321918</td>\n",
              "      <td>2007.815753</td>\n",
              "      <td>180921.195890</td>\n",
              "    </tr>\n",
              "    <tr>\n",
              "      <th>std</th>\n",
              "      <td>421.610009</td>\n",
              "      <td>42.300571</td>\n",
              "      <td>24.284752</td>\n",
              "      <td>9981.264932</td>\n",
              "      <td>1.382997</td>\n",
              "      <td>1.112799</td>\n",
              "      <td>30.202904</td>\n",
              "      <td>20.645407</td>\n",
              "      <td>181.066207</td>\n",
              "      <td>456.098091</td>\n",
              "      <td>...</td>\n",
              "      <td>125.338794</td>\n",
              "      <td>66.256028</td>\n",
              "      <td>61.119149</td>\n",
              "      <td>29.317331</td>\n",
              "      <td>55.757415</td>\n",
              "      <td>40.177307</td>\n",
              "      <td>496.123024</td>\n",
              "      <td>2.703626</td>\n",
              "      <td>1.328095</td>\n",
              "      <td>79442.502883</td>\n",
              "    </tr>\n",
              "    <tr>\n",
              "      <th>min</th>\n",
              "      <td>1.000000</td>\n",
              "      <td>20.000000</td>\n",
              "      <td>21.000000</td>\n",
              "      <td>1300.000000</td>\n",
              "      <td>1.000000</td>\n",
              "      <td>1.000000</td>\n",
              "      <td>1872.000000</td>\n",
              "      <td>1950.000000</td>\n",
              "      <td>0.000000</td>\n",
              "      <td>0.000000</td>\n",
              "      <td>...</td>\n",
              "      <td>0.000000</td>\n",
              "      <td>0.000000</td>\n",
              "      <td>0.000000</td>\n",
              "      <td>0.000000</td>\n",
              "      <td>0.000000</td>\n",
              "      <td>0.000000</td>\n",
              "      <td>0.000000</td>\n",
              "      <td>1.000000</td>\n",
              "      <td>2006.000000</td>\n",
              "      <td>34900.000000</td>\n",
              "    </tr>\n",
              "    <tr>\n",
              "      <th>25%</th>\n",
              "      <td>365.750000</td>\n",
              "      <td>20.000000</td>\n",
              "      <td>59.000000</td>\n",
              "      <td>7553.500000</td>\n",
              "      <td>5.000000</td>\n",
              "      <td>5.000000</td>\n",
              "      <td>1954.000000</td>\n",
              "      <td>1967.000000</td>\n",
              "      <td>0.000000</td>\n",
              "      <td>0.000000</td>\n",
              "      <td>...</td>\n",
              "      <td>0.000000</td>\n",
              "      <td>0.000000</td>\n",
              "      <td>0.000000</td>\n",
              "      <td>0.000000</td>\n",
              "      <td>0.000000</td>\n",
              "      <td>0.000000</td>\n",
              "      <td>0.000000</td>\n",
              "      <td>5.000000</td>\n",
              "      <td>2007.000000</td>\n",
              "      <td>129975.000000</td>\n",
              "    </tr>\n",
              "    <tr>\n",
              "      <th>50%</th>\n",
              "      <td>730.500000</td>\n",
              "      <td>50.000000</td>\n",
              "      <td>69.000000</td>\n",
              "      <td>9478.500000</td>\n",
              "      <td>6.000000</td>\n",
              "      <td>5.000000</td>\n",
              "      <td>1973.000000</td>\n",
              "      <td>1994.000000</td>\n",
              "      <td>0.000000</td>\n",
              "      <td>383.500000</td>\n",
              "      <td>...</td>\n",
              "      <td>0.000000</td>\n",
              "      <td>25.000000</td>\n",
              "      <td>0.000000</td>\n",
              "      <td>0.000000</td>\n",
              "      <td>0.000000</td>\n",
              "      <td>0.000000</td>\n",
              "      <td>0.000000</td>\n",
              "      <td>6.000000</td>\n",
              "      <td>2008.000000</td>\n",
              "      <td>163000.000000</td>\n",
              "    </tr>\n",
              "    <tr>\n",
              "      <th>75%</th>\n",
              "      <td>1095.250000</td>\n",
              "      <td>70.000000</td>\n",
              "      <td>80.000000</td>\n",
              "      <td>11601.500000</td>\n",
              "      <td>7.000000</td>\n",
              "      <td>6.000000</td>\n",
              "      <td>2000.000000</td>\n",
              "      <td>2004.000000</td>\n",
              "      <td>166.000000</td>\n",
              "      <td>712.250000</td>\n",
              "      <td>...</td>\n",
              "      <td>168.000000</td>\n",
              "      <td>68.000000</td>\n",
              "      <td>0.000000</td>\n",
              "      <td>0.000000</td>\n",
              "      <td>0.000000</td>\n",
              "      <td>0.000000</td>\n",
              "      <td>0.000000</td>\n",
              "      <td>8.000000</td>\n",
              "      <td>2009.000000</td>\n",
              "      <td>214000.000000</td>\n",
              "    </tr>\n",
              "    <tr>\n",
              "      <th>max</th>\n",
              "      <td>1460.000000</td>\n",
              "      <td>190.000000</td>\n",
              "      <td>313.000000</td>\n",
              "      <td>215245.000000</td>\n",
              "      <td>10.000000</td>\n",
              "      <td>9.000000</td>\n",
              "      <td>2010.000000</td>\n",
              "      <td>2010.000000</td>\n",
              "      <td>1600.000000</td>\n",
              "      <td>5644.000000</td>\n",
              "      <td>...</td>\n",
              "      <td>857.000000</td>\n",
              "      <td>547.000000</td>\n",
              "      <td>552.000000</td>\n",
              "      <td>508.000000</td>\n",
              "      <td>480.000000</td>\n",
              "      <td>738.000000</td>\n",
              "      <td>15500.000000</td>\n",
              "      <td>12.000000</td>\n",
              "      <td>2010.000000</td>\n",
              "      <td>755000.000000</td>\n",
              "    </tr>\n",
              "  </tbody>\n",
              "</table>\n",
              "<p>8 rows × 38 columns</p>\n",
              "</div>\n",
              "      <button class=\"colab-df-convert\" onclick=\"convertToInteractive('df-5b4f38c3-4595-476b-9bfd-7db8aaf332a8')\"\n",
              "              title=\"Convert this dataframe to an interactive table.\"\n",
              "              style=\"display:none;\">\n",
              "        \n",
              "  <svg xmlns=\"http://www.w3.org/2000/svg\" height=\"24px\"viewBox=\"0 0 24 24\"\n",
              "       width=\"24px\">\n",
              "    <path d=\"M0 0h24v24H0V0z\" fill=\"none\"/>\n",
              "    <path d=\"M18.56 5.44l.94 2.06.94-2.06 2.06-.94-2.06-.94-.94-2.06-.94 2.06-2.06.94zm-11 1L8.5 8.5l.94-2.06 2.06-.94-2.06-.94L8.5 2.5l-.94 2.06-2.06.94zm10 10l.94 2.06.94-2.06 2.06-.94-2.06-.94-.94-2.06-.94 2.06-2.06.94z\"/><path d=\"M17.41 7.96l-1.37-1.37c-.4-.4-.92-.59-1.43-.59-.52 0-1.04.2-1.43.59L10.3 9.45l-7.72 7.72c-.78.78-.78 2.05 0 2.83L4 21.41c.39.39.9.59 1.41.59.51 0 1.02-.2 1.41-.59l7.78-7.78 2.81-2.81c.8-.78.8-2.07 0-2.86zM5.41 20L4 18.59l7.72-7.72 1.47 1.35L5.41 20z\"/>\n",
              "  </svg>\n",
              "      </button>\n",
              "      \n",
              "  <style>\n",
              "    .colab-df-container {\n",
              "      display:flex;\n",
              "      flex-wrap:wrap;\n",
              "      gap: 12px;\n",
              "    }\n",
              "\n",
              "    .colab-df-convert {\n",
              "      background-color: #E8F0FE;\n",
              "      border: none;\n",
              "      border-radius: 50%;\n",
              "      cursor: pointer;\n",
              "      display: none;\n",
              "      fill: #1967D2;\n",
              "      height: 32px;\n",
              "      padding: 0 0 0 0;\n",
              "      width: 32px;\n",
              "    }\n",
              "\n",
              "    .colab-df-convert:hover {\n",
              "      background-color: #E2EBFA;\n",
              "      box-shadow: 0px 1px 2px rgba(60, 64, 67, 0.3), 0px 1px 3px 1px rgba(60, 64, 67, 0.15);\n",
              "      fill: #174EA6;\n",
              "    }\n",
              "\n",
              "    [theme=dark] .colab-df-convert {\n",
              "      background-color: #3B4455;\n",
              "      fill: #D2E3FC;\n",
              "    }\n",
              "\n",
              "    [theme=dark] .colab-df-convert:hover {\n",
              "      background-color: #434B5C;\n",
              "      box-shadow: 0px 1px 3px 1px rgba(0, 0, 0, 0.15);\n",
              "      filter: drop-shadow(0px 1px 2px rgba(0, 0, 0, 0.3));\n",
              "      fill: #FFFFFF;\n",
              "    }\n",
              "  </style>\n",
              "\n",
              "      <script>\n",
              "        const buttonEl =\n",
              "          document.querySelector('#df-5b4f38c3-4595-476b-9bfd-7db8aaf332a8 button.colab-df-convert');\n",
              "        buttonEl.style.display =\n",
              "          google.colab.kernel.accessAllowed ? 'block' : 'none';\n",
              "\n",
              "        async function convertToInteractive(key) {\n",
              "          const element = document.querySelector('#df-5b4f38c3-4595-476b-9bfd-7db8aaf332a8');\n",
              "          const dataTable =\n",
              "            await google.colab.kernel.invokeFunction('convertToInteractive',\n",
              "                                                     [key], {});\n",
              "          if (!dataTable) return;\n",
              "\n",
              "          const docLinkHtml = 'Like what you see? Visit the ' +\n",
              "            '<a target=\"_blank\" href=https://colab.research.google.com/notebooks/data_table.ipynb>data table notebook</a>'\n",
              "            + ' to learn more about interactive tables.';\n",
              "          element.innerHTML = '';\n",
              "          dataTable['output_type'] = 'display_data';\n",
              "          await google.colab.output.renderOutput(dataTable, element);\n",
              "          const docLink = document.createElement('div');\n",
              "          docLink.innerHTML = docLinkHtml;\n",
              "          element.appendChild(docLink);\n",
              "        }\n",
              "      </script>\n",
              "    </div>\n",
              "  </div>\n",
              "  "
            ],
            "text/plain": [
              "                Id   MSSubClass  LotFrontage        LotArea  OverallQual  \\\n",
              "count  1460.000000  1460.000000  1201.000000    1460.000000  1460.000000   \n",
              "mean    730.500000    56.897260    70.049958   10516.828082     6.099315   \n",
              "std     421.610009    42.300571    24.284752    9981.264932     1.382997   \n",
              "min       1.000000    20.000000    21.000000    1300.000000     1.000000   \n",
              "25%     365.750000    20.000000    59.000000    7553.500000     5.000000   \n",
              "50%     730.500000    50.000000    69.000000    9478.500000     6.000000   \n",
              "75%    1095.250000    70.000000    80.000000   11601.500000     7.000000   \n",
              "max    1460.000000   190.000000   313.000000  215245.000000    10.000000   \n",
              "\n",
              "       OverallCond    YearBuilt  YearRemodAdd   MasVnrArea   BsmtFinSF1  ...  \\\n",
              "count  1460.000000  1460.000000   1460.000000  1452.000000  1460.000000  ...   \n",
              "mean      5.575342  1971.267808   1984.865753   103.685262   443.639726  ...   \n",
              "std       1.112799    30.202904     20.645407   181.066207   456.098091  ...   \n",
              "min       1.000000  1872.000000   1950.000000     0.000000     0.000000  ...   \n",
              "25%       5.000000  1954.000000   1967.000000     0.000000     0.000000  ...   \n",
              "50%       5.000000  1973.000000   1994.000000     0.000000   383.500000  ...   \n",
              "75%       6.000000  2000.000000   2004.000000   166.000000   712.250000  ...   \n",
              "max       9.000000  2010.000000   2010.000000  1600.000000  5644.000000  ...   \n",
              "\n",
              "        WoodDeckSF  OpenPorchSF  EnclosedPorch    3SsnPorch  ScreenPorch  \\\n",
              "count  1460.000000  1460.000000    1460.000000  1460.000000  1460.000000   \n",
              "mean     94.244521    46.660274      21.954110     3.409589    15.060959   \n",
              "std     125.338794    66.256028      61.119149    29.317331    55.757415   \n",
              "min       0.000000     0.000000       0.000000     0.000000     0.000000   \n",
              "25%       0.000000     0.000000       0.000000     0.000000     0.000000   \n",
              "50%       0.000000    25.000000       0.000000     0.000000     0.000000   \n",
              "75%     168.000000    68.000000       0.000000     0.000000     0.000000   \n",
              "max     857.000000   547.000000     552.000000   508.000000   480.000000   \n",
              "\n",
              "          PoolArea       MiscVal       MoSold       YrSold      SalePrice  \n",
              "count  1460.000000   1460.000000  1460.000000  1460.000000    1460.000000  \n",
              "mean      2.758904     43.489041     6.321918  2007.815753  180921.195890  \n",
              "std      40.177307    496.123024     2.703626     1.328095   79442.502883  \n",
              "min       0.000000      0.000000     1.000000  2006.000000   34900.000000  \n",
              "25%       0.000000      0.000000     5.000000  2007.000000  129975.000000  \n",
              "50%       0.000000      0.000000     6.000000  2008.000000  163000.000000  \n",
              "75%       0.000000      0.000000     8.000000  2009.000000  214000.000000  \n",
              "max     738.000000  15500.000000    12.000000  2010.000000  755000.000000  \n",
              "\n",
              "[8 rows x 38 columns]"
            ]
          },
          "execution_count": 158,
          "metadata": {},
          "output_type": "execute_result"
        }
      ],
      "source": [
        "train_df.describe()"
      ]
    },
    {
      "cell_type": "markdown",
      "id": "b6c29f52",
      "metadata": {
        "id": "b6c29f52",
        "papermill": {
          "duration": 0.019702,
          "end_time": "2023-01-21T15:10:40.125470",
          "exception": false,
          "start_time": "2023-01-21T15:10:40.105768",
          "status": "completed"
        },
        "tags": []
      },
      "source": [
        "**Replacing null values in numerical columns with the mean value of that column.**"
      ]
    },
    {
      "cell_type": "code",
      "execution_count": null,
      "id": "46388828",
      "metadata": {
        "execution": {
          "iopub.execute_input": "2023-01-21T15:10:40.167424Z",
          "iopub.status.busy": "2023-01-21T15:10:40.166969Z",
          "iopub.status.idle": "2023-01-21T15:10:40.174464Z",
          "shell.execute_reply": "2023-01-21T15:10:40.173100Z"
        },
        "id": "46388828",
        "papermill": {
          "duration": 0.031071,
          "end_time": "2023-01-21T15:10:40.176701",
          "exception": false,
          "start_time": "2023-01-21T15:10:40.145630",
          "status": "completed"
        },
        "tags": []
      },
      "outputs": [],
      "source": [
        "train_df['LotFrontage'].fillna(test_df['LotFrontage'].mean(),inplace = True)\n",
        "train_df['MasVnrArea'].fillna(test_df['MasVnrArea'].mean(),inplace = True)"
      ]
    },
    {
      "cell_type": "code",
      "execution_count": null,
      "id": "8f3b1ca2",
      "metadata": {
        "execution": {
          "iopub.execute_input": "2023-01-21T15:10:40.218334Z",
          "iopub.status.busy": "2023-01-21T15:10:40.217906Z",
          "iopub.status.idle": "2023-01-21T15:10:40.225744Z",
          "shell.execute_reply": "2023-01-21T15:10:40.224559Z"
        },
        "id": "8f3b1ca2",
        "papermill": {
          "duration": 0.031126,
          "end_time": "2023-01-21T15:10:40.227823",
          "exception": false,
          "start_time": "2023-01-21T15:10:40.196697",
          "status": "completed"
        },
        "tags": []
      },
      "outputs": [],
      "source": [
        "test_df['LotFrontage'].fillna(test_df['LotFrontage'].mean(),inplace = True)\n",
        "test_df['MasVnrArea'].fillna(test_df['MasVnrArea'].mean(),inplace = True)"
      ]
    },
    {
      "cell_type": "markdown",
      "id": "f4fc8fc6",
      "metadata": {
        "id": "f4fc8fc6",
        "papermill": {
          "duration": 0.019669,
          "end_time": "2023-01-21T15:10:40.267657",
          "exception": false,
          "start_time": "2023-01-21T15:10:40.247988",
          "status": "completed"
        },
        "tags": []
      },
      "source": [
        "**Filling null values in categorical columns with the highest frequency data.**"
      ]
    },
    {
      "cell_type": "code",
      "execution_count": null,
      "id": "b7063c87",
      "metadata": {
        "colab": {
          "base_uri": "https://localhost:8080/",
          "height": 0
        },
        "execution": {
          "iopub.execute_input": "2023-01-21T15:10:40.308801Z",
          "iopub.status.busy": "2023-01-21T15:10:40.308406Z",
          "iopub.status.idle": "2023-01-21T15:10:40.316444Z",
          "shell.execute_reply": "2023-01-21T15:10:40.315394Z"
        },
        "id": "b7063c87",
        "outputId": "9603c84f-fd44-4dbe-fad4-423d155182c0",
        "papermill": {
          "duration": 0.030917,
          "end_time": "2023-01-21T15:10:40.318450",
          "exception": false,
          "start_time": "2023-01-21T15:10:40.287533",
          "status": "completed"
        },
        "tags": []
      },
      "outputs": [
        {
          "data": {
            "text/plain": [
              "None       864\n",
              "BrkFace    445\n",
              "Stone      128\n",
              "BrkCmn      15\n",
              "Name: MasVnrType, dtype: int64"
            ]
          },
          "execution_count": 161,
          "metadata": {},
          "output_type": "execute_result"
        }
      ],
      "source": [
        "train_df['MasVnrType'].value_counts()"
      ]
    },
    {
      "cell_type": "code",
      "execution_count": null,
      "id": "9d3d9817",
      "metadata": {
        "colab": {
          "base_uri": "https://localhost:8080/",
          "height": 0
        },
        "execution": {
          "iopub.execute_input": "2023-01-21T15:10:40.361215Z",
          "iopub.status.busy": "2023-01-21T15:10:40.360778Z",
          "iopub.status.idle": "2023-01-21T15:10:40.369187Z",
          "shell.execute_reply": "2023-01-21T15:10:40.368374Z"
        },
        "id": "9d3d9817",
        "outputId": "6dfbb71a-d1c2-4d8e-b406-ea176fb6c3a3",
        "papermill": {
          "duration": 0.032768,
          "end_time": "2023-01-21T15:10:40.371165",
          "exception": false,
          "start_time": "2023-01-21T15:10:40.338397",
          "status": "completed"
        },
        "tags": []
      },
      "outputs": [
        {
          "data": {
            "text/plain": [
              "None       878\n",
              "BrkFace    434\n",
              "Stone      121\n",
              "BrkCmn      10\n",
              "Name: MasVnrType, dtype: int64"
            ]
          },
          "execution_count": 162,
          "metadata": {},
          "output_type": "execute_result"
        }
      ],
      "source": [
        "test_df['MasVnrType'].value_counts()"
      ]
    },
    {
      "cell_type": "code",
      "execution_count": null,
      "id": "79a88947",
      "metadata": {
        "execution": {
          "iopub.execute_input": "2023-01-21T15:10:40.412976Z",
          "iopub.status.busy": "2023-01-21T15:10:40.412540Z",
          "iopub.status.idle": "2023-01-21T15:10:40.418548Z",
          "shell.execute_reply": "2023-01-21T15:10:40.417773Z"
        },
        "id": "79a88947",
        "papermill": {
          "duration": 0.029081,
          "end_time": "2023-01-21T15:10:40.420382",
          "exception": false,
          "start_time": "2023-01-21T15:10:40.391301",
          "status": "completed"
        },
        "tags": []
      },
      "outputs": [],
      "source": [
        "train_df['MasVnrType'].fillna('None',inplace = True)\n",
        "test_df['MasVnrType'].fillna('None',inplace = True)"
      ]
    },
    {
      "cell_type": "code",
      "execution_count": null,
      "id": "bc6a9721",
      "metadata": {
        "colab": {
          "base_uri": "https://localhost:8080/",
          "height": 0
        },
        "execution": {
          "iopub.execute_input": "2023-01-21T15:10:40.462305Z",
          "iopub.status.busy": "2023-01-21T15:10:40.461526Z",
          "iopub.status.idle": "2023-01-21T15:10:40.470804Z",
          "shell.execute_reply": "2023-01-21T15:10:40.469722Z"
        },
        "id": "bc6a9721",
        "outputId": "75afd9fb-3b14-4f98-e91f-7c07299fae85",
        "papermill": {
          "duration": 0.032931,
          "end_time": "2023-01-21T15:10:40.473163",
          "exception": false,
          "start_time": "2023-01-21T15:10:40.440232",
          "status": "completed"
        },
        "tags": []
      },
      "outputs": [
        {
          "data": {
            "text/plain": [
              "TA    649\n",
              "Gd    618\n",
              "Ex    121\n",
              "Fa     35\n",
              "Name: BsmtQual, dtype: int64"
            ]
          },
          "execution_count": 164,
          "metadata": {},
          "output_type": "execute_result"
        }
      ],
      "source": [
        "train_df['BsmtQual'].value_counts()"
      ]
    },
    {
      "cell_type": "code",
      "execution_count": null,
      "id": "9f51a40d",
      "metadata": {
        "colab": {
          "base_uri": "https://localhost:8080/",
          "height": 0
        },
        "execution": {
          "iopub.execute_input": "2023-01-21T15:10:40.516583Z",
          "iopub.status.busy": "2023-01-21T15:10:40.516171Z",
          "iopub.status.idle": "2023-01-21T15:10:40.523986Z",
          "shell.execute_reply": "2023-01-21T15:10:40.523142Z"
        },
        "id": "9f51a40d",
        "outputId": "78504c60-3eeb-412e-ce17-7599ddd4d2b5",
        "papermill": {
          "duration": 0.03236,
          "end_time": "2023-01-21T15:10:40.526055",
          "exception": false,
          "start_time": "2023-01-21T15:10:40.493695",
          "status": "completed"
        },
        "tags": []
      },
      "outputs": [
        {
          "data": {
            "text/plain": [
              "TA    634\n",
              "Gd    591\n",
              "Ex    137\n",
              "Fa     53\n",
              "Name: BsmtQual, dtype: int64"
            ]
          },
          "execution_count": 165,
          "metadata": {},
          "output_type": "execute_result"
        }
      ],
      "source": [
        "test_df['BsmtQual'].value_counts()"
      ]
    },
    {
      "cell_type": "code",
      "execution_count": null,
      "id": "4f8c6496",
      "metadata": {
        "execution": {
          "iopub.execute_input": "2023-01-21T15:10:40.568853Z",
          "iopub.status.busy": "2023-01-21T15:10:40.568425Z",
          "iopub.status.idle": "2023-01-21T15:10:40.574681Z",
          "shell.execute_reply": "2023-01-21T15:10:40.573832Z"
        },
        "id": "4f8c6496",
        "papermill": {
          "duration": 0.030351,
          "end_time": "2023-01-21T15:10:40.576898",
          "exception": false,
          "start_time": "2023-01-21T15:10:40.546547",
          "status": "completed"
        },
        "tags": []
      },
      "outputs": [],
      "source": [
        "train_df['BsmtQual'].fillna('TA',inplace = True)\n",
        "test_df['BsmtQual'].fillna('TA',inplace = True)"
      ]
    },
    {
      "cell_type": "code",
      "execution_count": null,
      "id": "ee8b1961",
      "metadata": {
        "colab": {
          "base_uri": "https://localhost:8080/",
          "height": 0
        },
        "execution": {
          "iopub.execute_input": "2023-01-21T15:10:40.621283Z",
          "iopub.status.busy": "2023-01-21T15:10:40.620289Z",
          "iopub.status.idle": "2023-01-21T15:10:40.627789Z",
          "shell.execute_reply": "2023-01-21T15:10:40.627017Z"
        },
        "id": "ee8b1961",
        "outputId": "59e720b4-483d-4fc8-a90f-12e8fa53a7bf",
        "papermill": {
          "duration": 0.031774,
          "end_time": "2023-01-21T15:10:40.629935",
          "exception": false,
          "start_time": "2023-01-21T15:10:40.598161",
          "status": "completed"
        },
        "tags": []
      },
      "outputs": [
        {
          "data": {
            "text/plain": [
              "TA    1311\n",
              "Gd      65\n",
              "Fa      45\n",
              "Po       2\n",
              "Name: BsmtCond, dtype: int64"
            ]
          },
          "execution_count": 167,
          "metadata": {},
          "output_type": "execute_result"
        }
      ],
      "source": [
        "train_df['BsmtCond'].value_counts()"
      ]
    },
    {
      "cell_type": "code",
      "execution_count": null,
      "id": "27385e71",
      "metadata": {
        "colab": {
          "base_uri": "https://localhost:8080/",
          "height": 0
        },
        "execution": {
          "iopub.execute_input": "2023-01-21T15:10:40.672906Z",
          "iopub.status.busy": "2023-01-21T15:10:40.672476Z",
          "iopub.status.idle": "2023-01-21T15:10:40.681086Z",
          "shell.execute_reply": "2023-01-21T15:10:40.679956Z"
        },
        "id": "27385e71",
        "outputId": "53ee2311-c3ef-4186-cc6f-ff6db49b53f1",
        "papermill": {
          "duration": 0.032824,
          "end_time": "2023-01-21T15:10:40.683321",
          "exception": false,
          "start_time": "2023-01-21T15:10:40.650497",
          "status": "completed"
        },
        "tags": []
      },
      "outputs": [
        {
          "data": {
            "text/plain": [
              "TA    1311\n",
              "Gd      65\n",
              "Fa      45\n",
              "Po       2\n",
              "Name: BsmtCond, dtype: int64"
            ]
          },
          "execution_count": 168,
          "metadata": {},
          "output_type": "execute_result"
        }
      ],
      "source": [
        "train_df['BsmtCond'].value_counts()"
      ]
    },
    {
      "cell_type": "code",
      "execution_count": null,
      "id": "0aef7c70",
      "metadata": {
        "execution": {
          "iopub.execute_input": "2023-01-21T15:10:40.727205Z",
          "iopub.status.busy": "2023-01-21T15:10:40.726105Z",
          "iopub.status.idle": "2023-01-21T15:10:40.732388Z",
          "shell.execute_reply": "2023-01-21T15:10:40.731398Z"
        },
        "id": "0aef7c70",
        "papermill": {
          "duration": 0.030222,
          "end_time": "2023-01-21T15:10:40.734363",
          "exception": false,
          "start_time": "2023-01-21T15:10:40.704141",
          "status": "completed"
        },
        "tags": []
      },
      "outputs": [],
      "source": [
        "train_df['BsmtCond'].fillna('TA',inplace = True)\n",
        "test_df['BsmtCond'].fillna('3',inplace = True)"
      ]
    },
    {
      "cell_type": "code",
      "execution_count": null,
      "id": "0e3ad754",
      "metadata": {
        "colab": {
          "base_uri": "https://localhost:8080/",
          "height": 0
        },
        "execution": {
          "iopub.execute_input": "2023-01-21T15:10:40.778796Z",
          "iopub.status.busy": "2023-01-21T15:10:40.777465Z",
          "iopub.status.idle": "2023-01-21T15:10:40.785566Z",
          "shell.execute_reply": "2023-01-21T15:10:40.784739Z"
        },
        "id": "0e3ad754",
        "outputId": "484807f5-269d-4e0c-b179-d88cb3acf917",
        "papermill": {
          "duration": 0.03283,
          "end_time": "2023-01-21T15:10:40.788093",
          "exception": false,
          "start_time": "2023-01-21T15:10:40.755263",
          "status": "completed"
        },
        "tags": []
      },
      "outputs": [
        {
          "data": {
            "text/plain": [
              "No    953\n",
              "Av    221\n",
              "Gd    134\n",
              "Mn    114\n",
              "Name: BsmtExposure, dtype: int64"
            ]
          },
          "execution_count": 170,
          "metadata": {},
          "output_type": "execute_result"
        }
      ],
      "source": [
        "train_df['BsmtExposure'].value_counts()"
      ]
    },
    {
      "cell_type": "code",
      "execution_count": null,
      "id": "93b8d9aa",
      "metadata": {
        "colab": {
          "base_uri": "https://localhost:8080/",
          "height": 0
        },
        "execution": {
          "iopub.execute_input": "2023-01-21T15:10:40.831594Z",
          "iopub.status.busy": "2023-01-21T15:10:40.830919Z",
          "iopub.status.idle": "2023-01-21T15:10:40.837923Z",
          "shell.execute_reply": "2023-01-21T15:10:40.837231Z"
        },
        "id": "93b8d9aa",
        "outputId": "a8915482-6f4f-4258-9c02-27eca9e287a5",
        "papermill": {
          "duration": 0.03072,
          "end_time": "2023-01-21T15:10:40.839811",
          "exception": false,
          "start_time": "2023-01-21T15:10:40.809091",
          "status": "completed"
        },
        "tags": []
      },
      "outputs": [
        {
          "data": {
            "text/plain": [
              "No    951\n",
              "Av    197\n",
              "Gd    142\n",
              "Mn    125\n",
              "Name: BsmtExposure, dtype: int64"
            ]
          },
          "execution_count": 171,
          "metadata": {},
          "output_type": "execute_result"
        }
      ],
      "source": [
        "test_df['BsmtExposure'].value_counts()"
      ]
    },
    {
      "cell_type": "code",
      "execution_count": null,
      "id": "4b532248",
      "metadata": {
        "execution": {
          "iopub.execute_input": "2023-01-21T15:10:40.883440Z",
          "iopub.status.busy": "2023-01-21T15:10:40.882540Z",
          "iopub.status.idle": "2023-01-21T15:10:40.888302Z",
          "shell.execute_reply": "2023-01-21T15:10:40.887435Z"
        },
        "id": "4b532248",
        "papermill": {
          "duration": 0.029882,
          "end_time": "2023-01-21T15:10:40.890426",
          "exception": false,
          "start_time": "2023-01-21T15:10:40.860544",
          "status": "completed"
        },
        "tags": []
      },
      "outputs": [],
      "source": [
        "train_df['BsmtExposure'].fillna('No',inplace = True)\n",
        "test_df['BsmtExposure'].fillna('No',inplace = True)"
      ]
    },
    {
      "cell_type": "code",
      "execution_count": null,
      "id": "e9214d71",
      "metadata": {
        "colab": {
          "base_uri": "https://localhost:8080/",
          "height": 0
        },
        "execution": {
          "iopub.execute_input": "2023-01-21T15:10:40.935451Z",
          "iopub.status.busy": "2023-01-21T15:10:40.935074Z",
          "iopub.status.idle": "2023-01-21T15:10:40.944371Z",
          "shell.execute_reply": "2023-01-21T15:10:40.943151Z"
        },
        "id": "e9214d71",
        "outputId": "ba7b6491-7a15-477f-fdc6-2228494d2b6f",
        "papermill": {
          "duration": 0.034235,
          "end_time": "2023-01-21T15:10:40.946666",
          "exception": false,
          "start_time": "2023-01-21T15:10:40.912431",
          "status": "completed"
        },
        "tags": []
      },
      "outputs": [
        {
          "data": {
            "text/plain": [
              "Unf    430\n",
              "GLQ    418\n",
              "ALQ    220\n",
              "BLQ    148\n",
              "Rec    133\n",
              "LwQ     74\n",
              "Name: BsmtFinType1, dtype: int64"
            ]
          },
          "execution_count": 173,
          "metadata": {},
          "output_type": "execute_result"
        }
      ],
      "source": [
        "train_df['BsmtFinType1'].value_counts()"
      ]
    },
    {
      "cell_type": "code",
      "execution_count": null,
      "id": "35e1c4d5",
      "metadata": {
        "colab": {
          "base_uri": "https://localhost:8080/",
          "height": 0
        },
        "execution": {
          "iopub.execute_input": "2023-01-21T15:10:40.991396Z",
          "iopub.status.busy": "2023-01-21T15:10:40.991010Z",
          "iopub.status.idle": "2023-01-21T15:10:40.999788Z",
          "shell.execute_reply": "2023-01-21T15:10:40.998591Z"
        },
        "id": "35e1c4d5",
        "outputId": "20eae623-b90a-4c7e-b0e9-5ed21e9e3718",
        "papermill": {
          "duration": 0.034116,
          "end_time": "2023-01-21T15:10:41.002350",
          "exception": false,
          "start_time": "2023-01-21T15:10:40.968234",
          "status": "completed"
        },
        "tags": []
      },
      "outputs": [
        {
          "data": {
            "text/plain": [
              "GLQ    431\n",
              "Unf    421\n",
              "ALQ    209\n",
              "Rec    155\n",
              "BLQ    121\n",
              "LwQ     80\n",
              "Name: BsmtFinType1, dtype: int64"
            ]
          },
          "execution_count": 174,
          "metadata": {},
          "output_type": "execute_result"
        }
      ],
      "source": [
        "test_df['BsmtFinType1'].value_counts()"
      ]
    },
    {
      "cell_type": "code",
      "execution_count": null,
      "id": "388c7854",
      "metadata": {
        "execution": {
          "iopub.execute_input": "2023-01-21T15:10:41.048191Z",
          "iopub.status.busy": "2023-01-21T15:10:41.047737Z",
          "iopub.status.idle": "2023-01-21T15:10:41.054118Z",
          "shell.execute_reply": "2023-01-21T15:10:41.052920Z"
        },
        "id": "388c7854",
        "papermill": {
          "duration": 0.031483,
          "end_time": "2023-01-21T15:10:41.056241",
          "exception": false,
          "start_time": "2023-01-21T15:10:41.024758",
          "status": "completed"
        },
        "tags": []
      },
      "outputs": [],
      "source": [
        "train_df['BsmtFinType1'].fillna('Unf',inplace = True)\n",
        "test_df['BsmtFinType1'].fillna('Unf',inplace = True)"
      ]
    },
    {
      "cell_type": "code",
      "execution_count": null,
      "id": "1ff56966",
      "metadata": {
        "colab": {
          "base_uri": "https://localhost:8080/",
          "height": 0
        },
        "execution": {
          "iopub.execute_input": "2023-01-21T15:10:41.101006Z",
          "iopub.status.busy": "2023-01-21T15:10:41.100311Z",
          "iopub.status.idle": "2023-01-21T15:10:41.107605Z",
          "shell.execute_reply": "2023-01-21T15:10:41.106756Z"
        },
        "id": "1ff56966",
        "outputId": "ab29acab-722f-4eca-fdeb-1fd111487a3c",
        "papermill": {
          "duration": 0.031986,
          "end_time": "2023-01-21T15:10:41.109690",
          "exception": false,
          "start_time": "2023-01-21T15:10:41.077704",
          "status": "completed"
        },
        "tags": []
      },
      "outputs": [
        {
          "data": {
            "text/plain": [
              "Unf    1256\n",
              "Rec      54\n",
              "LwQ      46\n",
              "BLQ      33\n",
              "ALQ      19\n",
              "GLQ      14\n",
              "Name: BsmtFinType2, dtype: int64"
            ]
          },
          "execution_count": 176,
          "metadata": {},
          "output_type": "execute_result"
        }
      ],
      "source": [
        "train_df['BsmtFinType2'].value_counts()"
      ]
    },
    {
      "cell_type": "code",
      "execution_count": null,
      "id": "a9127493",
      "metadata": {
        "colab": {
          "base_uri": "https://localhost:8080/",
          "height": 0
        },
        "execution": {
          "iopub.execute_input": "2023-01-21T15:10:41.154666Z",
          "iopub.status.busy": "2023-01-21T15:10:41.154061Z",
          "iopub.status.idle": "2023-01-21T15:10:41.161316Z",
          "shell.execute_reply": "2023-01-21T15:10:41.160299Z"
        },
        "id": "a9127493",
        "outputId": "86e9d10a-11e5-4243-80d6-fbf1be0baa66",
        "papermill": {
          "duration": 0.032216,
          "end_time": "2023-01-21T15:10:41.163378",
          "exception": false,
          "start_time": "2023-01-21T15:10:41.131162",
          "status": "completed"
        },
        "tags": []
      },
      "outputs": [
        {
          "data": {
            "text/plain": [
              "Unf    1237\n",
              "Rec      51\n",
              "LwQ      41\n",
              "BLQ      35\n",
              "ALQ      33\n",
              "GLQ      20\n",
              "Name: BsmtFinType2, dtype: int64"
            ]
          },
          "execution_count": 177,
          "metadata": {},
          "output_type": "execute_result"
        }
      ],
      "source": [
        "test_df['BsmtFinType2'].value_counts()"
      ]
    },
    {
      "cell_type": "code",
      "execution_count": null,
      "id": "1c608e76",
      "metadata": {
        "execution": {
          "iopub.execute_input": "2023-01-21T15:10:41.207943Z",
          "iopub.status.busy": "2023-01-21T15:10:41.207256Z",
          "iopub.status.idle": "2023-01-21T15:10:41.213155Z",
          "shell.execute_reply": "2023-01-21T15:10:41.212145Z"
        },
        "id": "1c608e76",
        "papermill": {
          "duration": 0.030876,
          "end_time": "2023-01-21T15:10:41.215434",
          "exception": false,
          "start_time": "2023-01-21T15:10:41.184558",
          "status": "completed"
        },
        "tags": []
      },
      "outputs": [],
      "source": [
        "train_df['BsmtFinType2'].fillna('Unf',inplace = True)\n",
        "test_df['BsmtFinType2'].fillna('Unf',inplace = True)"
      ]
    },
    {
      "cell_type": "code",
      "execution_count": null,
      "id": "094c6284",
      "metadata": {
        "colab": {
          "base_uri": "https://localhost:8080/",
          "height": 0
        },
        "execution": {
          "iopub.execute_input": "2023-01-21T15:10:41.260356Z",
          "iopub.status.busy": "2023-01-21T15:10:41.259954Z",
          "iopub.status.idle": "2023-01-21T15:10:41.268477Z",
          "shell.execute_reply": "2023-01-21T15:10:41.267287Z"
        },
        "id": "094c6284",
        "outputId": "87af7a4a-d4b3-443e-9248-6fe7376cdc16",
        "papermill": {
          "duration": 0.033724,
          "end_time": "2023-01-21T15:10:41.270712",
          "exception": false,
          "start_time": "2023-01-21T15:10:41.236988",
          "status": "completed"
        },
        "tags": []
      },
      "outputs": [
        {
          "data": {
            "text/plain": [
              "SBrkr    1334\n",
              "FuseA      94\n",
              "FuseF      27\n",
              "FuseP       3\n",
              "Mix         1\n",
              "Name: Electrical, dtype: int64"
            ]
          },
          "execution_count": 179,
          "metadata": {},
          "output_type": "execute_result"
        }
      ],
      "source": [
        "train_df['Electrical'].value_counts()"
      ]
    },
    {
      "cell_type": "code",
      "execution_count": null,
      "id": "60a4fc22",
      "metadata": {
        "execution": {
          "iopub.execute_input": "2023-01-21T15:10:41.316033Z",
          "iopub.status.busy": "2023-01-21T15:10:41.315580Z",
          "iopub.status.idle": "2023-01-21T15:10:41.321405Z",
          "shell.execute_reply": "2023-01-21T15:10:41.320421Z"
        },
        "id": "60a4fc22",
        "papermill": {
          "duration": 0.031096,
          "end_time": "2023-01-21T15:10:41.323565",
          "exception": false,
          "start_time": "2023-01-21T15:10:41.292469",
          "status": "completed"
        },
        "tags": []
      },
      "outputs": [],
      "source": [
        "train_df['Electrical'].fillna('SBrkr',inplace = True)"
      ]
    },
    {
      "cell_type": "code",
      "execution_count": null,
      "id": "6f21bdac",
      "metadata": {
        "colab": {
          "base_uri": "https://localhost:8080/",
          "height": 0
        },
        "execution": {
          "iopub.execute_input": "2023-01-21T15:10:41.368828Z",
          "iopub.status.busy": "2023-01-21T15:10:41.367777Z",
          "iopub.status.idle": "2023-01-21T15:10:41.376383Z",
          "shell.execute_reply": "2023-01-21T15:10:41.375425Z"
        },
        "id": "6f21bdac",
        "outputId": "0fe08ec4-552a-4051-c317-267f1b19c2d4",
        "papermill": {
          "duration": 0.033403,
          "end_time": "2023-01-21T15:10:41.378394",
          "exception": false,
          "start_time": "2023-01-21T15:10:41.344991",
          "status": "completed"
        },
        "tags": []
      },
      "outputs": [
        {
          "data": {
            "text/plain": [
              "Attchd     870\n",
              "Detchd     387\n",
              "BuiltIn     88\n",
              "Basment     19\n",
              "CarPort      9\n",
              "2Types       6\n",
              "Name: GarageType, dtype: int64"
            ]
          },
          "execution_count": 181,
          "metadata": {},
          "output_type": "execute_result"
        }
      ],
      "source": [
        "train_df['GarageType'].value_counts()"
      ]
    },
    {
      "cell_type": "code",
      "execution_count": null,
      "id": "66abd2a4",
      "metadata": {
        "colab": {
          "base_uri": "https://localhost:8080/",
          "height": 0
        },
        "execution": {
          "iopub.execute_input": "2023-01-21T15:10:41.423948Z",
          "iopub.status.busy": "2023-01-21T15:10:41.422849Z",
          "iopub.status.idle": "2023-01-21T15:10:41.431679Z",
          "shell.execute_reply": "2023-01-21T15:10:41.430784Z"
        },
        "id": "66abd2a4",
        "outputId": "1fce39a5-9dff-408a-d706-9ff6f786b544",
        "papermill": {
          "duration": 0.033861,
          "end_time": "2023-01-21T15:10:41.433864",
          "exception": false,
          "start_time": "2023-01-21T15:10:41.400003",
          "status": "completed"
        },
        "tags": []
      },
      "outputs": [
        {
          "data": {
            "text/plain": [
              "Attchd     853\n",
              "Detchd     392\n",
              "BuiltIn     98\n",
              "Basment     17\n",
              "2Types      17\n",
              "CarPort      6\n",
              "Name: GarageType, dtype: int64"
            ]
          },
          "execution_count": 182,
          "metadata": {},
          "output_type": "execute_result"
        }
      ],
      "source": [
        "test_df['GarageType'].value_counts()"
      ]
    },
    {
      "cell_type": "code",
      "execution_count": null,
      "id": "8f3089f3",
      "metadata": {
        "execution": {
          "iopub.execute_input": "2023-01-21T15:10:41.480172Z",
          "iopub.status.busy": "2023-01-21T15:10:41.479304Z",
          "iopub.status.idle": "2023-01-21T15:10:41.485848Z",
          "shell.execute_reply": "2023-01-21T15:10:41.485037Z"
        },
        "id": "8f3089f3",
        "papermill": {
          "duration": 0.03163,
          "end_time": "2023-01-21T15:10:41.487996",
          "exception": false,
          "start_time": "2023-01-21T15:10:41.456366",
          "status": "completed"
        },
        "tags": []
      },
      "outputs": [],
      "source": [
        "train_df['GarageType'].fillna('Attchd',inplace = True)\n",
        "test_df['GarageType'].fillna('Attchd',inplace = True)"
      ]
    },
    {
      "cell_type": "code",
      "execution_count": null,
      "id": "1c791f9e",
      "metadata": {
        "colab": {
          "base_uri": "https://localhost:8080/",
          "height": 0
        },
        "execution": {
          "iopub.execute_input": "2023-01-21T15:10:41.533344Z",
          "iopub.status.busy": "2023-01-21T15:10:41.532907Z",
          "iopub.status.idle": "2023-01-21T15:10:41.541699Z",
          "shell.execute_reply": "2023-01-21T15:10:41.540553Z"
        },
        "id": "1c791f9e",
        "outputId": "c096cd97-8a24-41c1-e096-2563576e641a",
        "papermill": {
          "duration": 0.034275,
          "end_time": "2023-01-21T15:10:41.544068",
          "exception": false,
          "start_time": "2023-01-21T15:10:41.509793",
          "status": "completed"
        },
        "tags": []
      },
      "outputs": [
        {
          "data": {
            "text/plain": [
              "Unf    605\n",
              "RFn    422\n",
              "Fin    352\n",
              "Name: GarageFinish, dtype: int64"
            ]
          },
          "execution_count": 184,
          "metadata": {},
          "output_type": "execute_result"
        }
      ],
      "source": [
        "train_df['GarageFinish'].value_counts()"
      ]
    },
    {
      "cell_type": "code",
      "execution_count": null,
      "id": "077f87d1",
      "metadata": {
        "colab": {
          "base_uri": "https://localhost:8080/",
          "height": 0
        },
        "execution": {
          "iopub.execute_input": "2023-01-21T15:10:41.590083Z",
          "iopub.status.busy": "2023-01-21T15:10:41.589223Z",
          "iopub.status.idle": "2023-01-21T15:10:41.596671Z",
          "shell.execute_reply": "2023-01-21T15:10:41.595954Z"
        },
        "id": "077f87d1",
        "outputId": "4f8fe7d8-23b3-4c76-ce0a-9f60cf81f966",
        "papermill": {
          "duration": 0.032465,
          "end_time": "2023-01-21T15:10:41.598702",
          "exception": false,
          "start_time": "2023-01-21T15:10:41.566237",
          "status": "completed"
        },
        "tags": []
      },
      "outputs": [
        {
          "data": {
            "text/plain": [
              "Unf    625\n",
              "RFn    389\n",
              "Fin    367\n",
              "Name: GarageFinish, dtype: int64"
            ]
          },
          "execution_count": 185,
          "metadata": {},
          "output_type": "execute_result"
        }
      ],
      "source": [
        "test_df['GarageFinish'].value_counts()"
      ]
    },
    {
      "cell_type": "code",
      "execution_count": null,
      "id": "4f758719",
      "metadata": {
        "execution": {
          "iopub.execute_input": "2023-01-21T15:10:41.645374Z",
          "iopub.status.busy": "2023-01-21T15:10:41.644946Z",
          "iopub.status.idle": "2023-01-21T15:10:41.651521Z",
          "shell.execute_reply": "2023-01-21T15:10:41.650585Z"
        },
        "id": "4f758719",
        "papermill": {
          "duration": 0.032912,
          "end_time": "2023-01-21T15:10:41.653850",
          "exception": false,
          "start_time": "2023-01-21T15:10:41.620938",
          "status": "completed"
        },
        "tags": []
      },
      "outputs": [],
      "source": [
        "train_df['GarageFinish'].fillna('Unf',inplace = True)\n",
        "test_df['GarageFinish'].fillna('Unf',inplace = True)"
      ]
    },
    {
      "cell_type": "code",
      "execution_count": null,
      "id": "3d3a29bc",
      "metadata": {
        "colab": {
          "base_uri": "https://localhost:8080/",
          "height": 0
        },
        "execution": {
          "iopub.execute_input": "2023-01-21T15:10:41.700187Z",
          "iopub.status.busy": "2023-01-21T15:10:41.699792Z",
          "iopub.status.idle": "2023-01-21T15:10:41.707749Z",
          "shell.execute_reply": "2023-01-21T15:10:41.706692Z"
        },
        "id": "3d3a29bc",
        "outputId": "99169437-41d6-4d1a-ce56-0bc8b60c9c6e",
        "papermill": {
          "duration": 0.033885,
          "end_time": "2023-01-21T15:10:41.709796",
          "exception": false,
          "start_time": "2023-01-21T15:10:41.675911",
          "status": "completed"
        },
        "tags": []
      },
      "outputs": [
        {
          "data": {
            "text/plain": [
              "TA    1311\n",
              "Fa      48\n",
              "Gd      14\n",
              "Ex       3\n",
              "Po       3\n",
              "Name: GarageQual, dtype: int64"
            ]
          },
          "execution_count": 187,
          "metadata": {},
          "output_type": "execute_result"
        }
      ],
      "source": [
        "train_df['GarageQual'].value_counts()"
      ]
    },
    {
      "cell_type": "code",
      "execution_count": null,
      "id": "2f0e92f5",
      "metadata": {
        "colab": {
          "base_uri": "https://localhost:8080/",
          "height": 0
        },
        "execution": {
          "iopub.execute_input": "2023-01-21T15:10:41.755486Z",
          "iopub.status.busy": "2023-01-21T15:10:41.754372Z",
          "iopub.status.idle": "2023-01-21T15:10:41.763145Z",
          "shell.execute_reply": "2023-01-21T15:10:41.762097Z"
        },
        "id": "2f0e92f5",
        "outputId": "d5619d85-fcd3-4ed7-dc3e-7c4a364e1668",
        "papermill": {
          "duration": 0.034047,
          "end_time": "2023-01-21T15:10:41.765270",
          "exception": false,
          "start_time": "2023-01-21T15:10:41.731223",
          "status": "completed"
        },
        "tags": []
      },
      "outputs": [
        {
          "data": {
            "text/plain": [
              "TA    1293\n",
              "Fa      76\n",
              "Gd      10\n",
              "Po       2\n",
              "Name: GarageQual, dtype: int64"
            ]
          },
          "execution_count": 188,
          "metadata": {},
          "output_type": "execute_result"
        }
      ],
      "source": [
        "test_df['GarageQual'].value_counts()"
      ]
    },
    {
      "cell_type": "code",
      "execution_count": null,
      "id": "86284fc5",
      "metadata": {
        "execution": {
          "iopub.execute_input": "2023-01-21T15:10:41.811289Z",
          "iopub.status.busy": "2023-01-21T15:10:41.810846Z",
          "iopub.status.idle": "2023-01-21T15:10:41.817534Z",
          "shell.execute_reply": "2023-01-21T15:10:41.816474Z"
        },
        "id": "86284fc5",
        "papermill": {
          "duration": 0.032002,
          "end_time": "2023-01-21T15:10:41.819946",
          "exception": false,
          "start_time": "2023-01-21T15:10:41.787944",
          "status": "completed"
        },
        "tags": []
      },
      "outputs": [],
      "source": [
        "train_df['GarageQual'].fillna('TA',inplace = True)\n",
        "test_df['GarageQual'].fillna('TA',inplace = True)"
      ]
    },
    {
      "cell_type": "code",
      "execution_count": null,
      "id": "c6207c7e",
      "metadata": {
        "colab": {
          "base_uri": "https://localhost:8080/",
          "height": 0
        },
        "execution": {
          "iopub.execute_input": "2023-01-21T15:10:41.866341Z",
          "iopub.status.busy": "2023-01-21T15:10:41.865953Z",
          "iopub.status.idle": "2023-01-21T15:10:41.873670Z",
          "shell.execute_reply": "2023-01-21T15:10:41.872819Z"
        },
        "id": "c6207c7e",
        "outputId": "1dedf714-ec80-489c-e3d8-43a3fb1ee626",
        "papermill": {
          "duration": 0.033763,
          "end_time": "2023-01-21T15:10:41.875604",
          "exception": false,
          "start_time": "2023-01-21T15:10:41.841841",
          "status": "completed"
        },
        "tags": []
      },
      "outputs": [
        {
          "data": {
            "text/plain": [
              "TA    1326\n",
              "Fa      35\n",
              "Gd       9\n",
              "Po       7\n",
              "Ex       2\n",
              "Name: GarageCond, dtype: int64"
            ]
          },
          "execution_count": 190,
          "metadata": {},
          "output_type": "execute_result"
        }
      ],
      "source": [
        "train_df['GarageCond'].value_counts()"
      ]
    },
    {
      "cell_type": "code",
      "execution_count": null,
      "id": "7b50f85d",
      "metadata": {
        "colab": {
          "base_uri": "https://localhost:8080/",
          "height": 0
        },
        "execution": {
          "iopub.execute_input": "2023-01-21T15:10:41.923350Z",
          "iopub.status.busy": "2023-01-21T15:10:41.922970Z",
          "iopub.status.idle": "2023-01-21T15:10:41.931670Z",
          "shell.execute_reply": "2023-01-21T15:10:41.930561Z"
        },
        "id": "7b50f85d",
        "outputId": "15380ab6-de9c-4fbb-c4cd-5de488e748ec",
        "papermill": {
          "duration": 0.035153,
          "end_time": "2023-01-21T15:10:41.933980",
          "exception": false,
          "start_time": "2023-01-21T15:10:41.898827",
          "status": "completed"
        },
        "tags": []
      },
      "outputs": [
        {
          "data": {
            "text/plain": [
              "TA    1328\n",
              "Fa      39\n",
              "Po       7\n",
              "Gd       6\n",
              "Ex       1\n",
              "Name: GarageCond, dtype: int64"
            ]
          },
          "execution_count": 191,
          "metadata": {},
          "output_type": "execute_result"
        }
      ],
      "source": [
        "test_df['GarageCond'].value_counts()"
      ]
    },
    {
      "cell_type": "code",
      "execution_count": null,
      "id": "4d816646",
      "metadata": {
        "execution": {
          "iopub.execute_input": "2023-01-21T15:10:41.981198Z",
          "iopub.status.busy": "2023-01-21T15:10:41.980739Z",
          "iopub.status.idle": "2023-01-21T15:10:41.987251Z",
          "shell.execute_reply": "2023-01-21T15:10:41.986172Z"
        },
        "id": "4d816646",
        "papermill": {
          "duration": 0.032434,
          "end_time": "2023-01-21T15:10:41.989353",
          "exception": false,
          "start_time": "2023-01-21T15:10:41.956919",
          "status": "completed"
        },
        "tags": []
      },
      "outputs": [],
      "source": [
        "train_df['GarageCond'].fillna('TA',inplace = True)\n",
        "test_df['GarageCond'].fillna('TA',inplace = True)"
      ]
    },
    {
      "cell_type": "code",
      "execution_count": null,
      "id": "8866f52f",
      "metadata": {
        "colab": {
          "base_uri": "https://localhost:8080/",
          "height": 0
        },
        "execution": {
          "iopub.execute_input": "2023-01-21T15:10:42.035867Z",
          "iopub.status.busy": "2023-01-21T15:10:42.034952Z",
          "iopub.status.idle": "2023-01-21T15:10:42.045625Z",
          "shell.execute_reply": "2023-01-21T15:10:42.044942Z"
        },
        "id": "8866f52f",
        "outputId": "54ecea52-66e9-4855-97b4-65ad97478cf8",
        "papermill": {
          "duration": 0.036049,
          "end_time": "2023-01-21T15:10:42.047572",
          "exception": false,
          "start_time": "2023-01-21T15:10:42.011523",
          "status": "completed"
        },
        "tags": []
      },
      "outputs": [
        {
          "data": {
            "text/plain": [
              "2005.0    65\n",
              "2006.0    59\n",
              "2004.0    53\n",
              "2003.0    50\n",
              "2007.0    49\n",
              "          ..\n",
              "1927.0     1\n",
              "1900.0     1\n",
              "1906.0     1\n",
              "1908.0     1\n",
              "1933.0     1\n",
              "Name: GarageYrBlt, Length: 97, dtype: int64"
            ]
          },
          "execution_count": 193,
          "metadata": {},
          "output_type": "execute_result"
        }
      ],
      "source": [
        "train_df['GarageYrBlt'].value_counts()"
      ]
    },
    {
      "cell_type": "code",
      "execution_count": null,
      "id": "78e0dd76",
      "metadata": {
        "colab": {
          "base_uri": "https://localhost:8080/",
          "height": 0
        },
        "execution": {
          "iopub.execute_input": "2023-01-21T15:10:42.097564Z",
          "iopub.status.busy": "2023-01-21T15:10:42.096921Z",
          "iopub.status.idle": "2023-01-21T15:10:42.104657Z",
          "shell.execute_reply": "2023-01-21T15:10:42.103923Z"
        },
        "id": "78e0dd76",
        "outputId": "4ebdf803-2418-4c4c-da33-fe095a744f4d",
        "papermill": {
          "duration": 0.036872,
          "end_time": "2023-01-21T15:10:42.106556",
          "exception": false,
          "start_time": "2023-01-21T15:10:42.069684",
          "status": "completed"
        },
        "tags": []
      },
      "outputs": [
        {
          "data": {
            "text/plain": [
              "2005.0    77\n",
              "2007.0    66\n",
              "2006.0    56\n",
              "2004.0    46\n",
              "2003.0    42\n",
              "          ..\n",
              "1918.0     1\n",
              "1895.0     1\n",
              "1932.0     1\n",
              "1916.0     1\n",
              "1919.0     1\n",
              "Name: GarageYrBlt, Length: 97, dtype: int64"
            ]
          },
          "execution_count": 194,
          "metadata": {},
          "output_type": "execute_result"
        }
      ],
      "source": [
        "test_df['GarageYrBlt'].value_counts()"
      ]
    },
    {
      "cell_type": "code",
      "execution_count": null,
      "id": "ae02ab17",
      "metadata": {
        "execution": {
          "iopub.execute_input": "2023-01-21T15:10:42.153385Z",
          "iopub.status.busy": "2023-01-21T15:10:42.152488Z",
          "iopub.status.idle": "2023-01-21T15:10:42.158992Z",
          "shell.execute_reply": "2023-01-21T15:10:42.158228Z"
        },
        "id": "ae02ab17",
        "papermill": {
          "duration": 0.032322,
          "end_time": "2023-01-21T15:10:42.161091",
          "exception": false,
          "start_time": "2023-01-21T15:10:42.128769",
          "status": "completed"
        },
        "tags": []
      },
      "outputs": [],
      "source": [
        "train_df['GarageYrBlt'].fillna('2005',inplace = True)\n",
        "test_df['GarageYrBlt'].fillna('2005',inplace = True)"
      ]
    },
    {
      "cell_type": "code",
      "execution_count": null,
      "id": "8be5aca4",
      "metadata": {
        "colab": {
          "base_uri": "https://localhost:8080/",
          "height": 0
        },
        "execution": {
          "iopub.execute_input": "2023-01-21T15:10:42.208382Z",
          "iopub.status.busy": "2023-01-21T15:10:42.207528Z",
          "iopub.status.idle": "2023-01-21T15:10:42.219235Z",
          "shell.execute_reply": "2023-01-21T15:10:42.218319Z"
        },
        "id": "8be5aca4",
        "outputId": "ab74881a-f082-4522-fc40-197b75fed813",
        "papermill": {
          "duration": 0.03769,
          "end_time": "2023-01-21T15:10:42.221423",
          "exception": false,
          "start_time": "2023-01-21T15:10:42.183733",
          "status": "completed"
        },
        "tags": []
      },
      "outputs": [
        {
          "data": {
            "text/plain": [
              "Alley          93.767123\n",
              "PoolQC         99.520548\n",
              "Fence          80.753425\n",
              "MiscFeature    96.301370\n",
              "dtype: float64"
            ]
          },
          "execution_count": 196,
          "metadata": {},
          "output_type": "execute_result"
        }
      ],
      "source": [
        "## Percentage of missing values in Alley,PoolQC,Fence,MiscFeature\n",
        " \n",
        "d1=train_df[['Alley','PoolQC','Fence','MiscFeature']]\n",
        "a=d1.isnull().sum()/len(d1)*100\n",
        "a"
      ]
    },
    {
      "cell_type": "markdown",
      "id": "aec9d1a5",
      "metadata": {
        "id": "aec9d1a5",
        "papermill": {
          "duration": 0.023946,
          "end_time": "2023-01-21T15:10:42.267919",
          "exception": false,
          "start_time": "2023-01-21T15:10:42.243973",
          "status": "completed"
        },
        "tags": []
      },
      "source": [
        "More than 80% of the data are missing in Alley,PoolQC,Fence,MiscFeature. Hence, removing those columns."
      ]
    },
    {
      "cell_type": "code",
      "execution_count": null,
      "id": "668be7a7",
      "metadata": {
        "colab": {
          "base_uri": "https://localhost:8080/",
          "height": 487
        },
        "execution": {
          "iopub.execute_input": "2023-01-21T15:10:42.316595Z",
          "iopub.status.busy": "2023-01-21T15:10:42.316182Z",
          "iopub.status.idle": "2023-01-21T15:10:42.350656Z",
          "shell.execute_reply": "2023-01-21T15:10:42.349835Z"
        },
        "id": "668be7a7",
        "outputId": "554518dd-258f-4aa8-8854-7fd4cd3064cb",
        "papermill": {
          "duration": 0.061332,
          "end_time": "2023-01-21T15:10:42.352868",
          "exception": false,
          "start_time": "2023-01-21T15:10:42.291536",
          "status": "completed"
        },
        "tags": []
      },
      "outputs": [
        {
          "data": {
            "text/html": [
              "\n",
              "  <div id=\"df-20c8e216-0eaa-4515-b5ed-061e792da680\">\n",
              "    <div class=\"colab-df-container\">\n",
              "      <div>\n",
              "<style scoped>\n",
              "    .dataframe tbody tr th:only-of-type {\n",
              "        vertical-align: middle;\n",
              "    }\n",
              "\n",
              "    .dataframe tbody tr th {\n",
              "        vertical-align: top;\n",
              "    }\n",
              "\n",
              "    .dataframe thead th {\n",
              "        text-align: right;\n",
              "    }\n",
              "</style>\n",
              "<table border=\"1\" class=\"dataframe\">\n",
              "  <thead>\n",
              "    <tr style=\"text-align: right;\">\n",
              "      <th></th>\n",
              "      <th>Id</th>\n",
              "      <th>MSSubClass</th>\n",
              "      <th>MSZoning</th>\n",
              "      <th>LotFrontage</th>\n",
              "      <th>LotArea</th>\n",
              "      <th>Street</th>\n",
              "      <th>LotShape</th>\n",
              "      <th>LandContour</th>\n",
              "      <th>Utilities</th>\n",
              "      <th>LotConfig</th>\n",
              "      <th>...</th>\n",
              "      <th>EnclosedPorch</th>\n",
              "      <th>3SsnPorch</th>\n",
              "      <th>ScreenPorch</th>\n",
              "      <th>PoolArea</th>\n",
              "      <th>MiscVal</th>\n",
              "      <th>MoSold</th>\n",
              "      <th>YrSold</th>\n",
              "      <th>SaleType</th>\n",
              "      <th>SaleCondition</th>\n",
              "      <th>SalePrice</th>\n",
              "    </tr>\n",
              "  </thead>\n",
              "  <tbody>\n",
              "    <tr>\n",
              "      <th>0</th>\n",
              "      <td>1</td>\n",
              "      <td>60</td>\n",
              "      <td>RL</td>\n",
              "      <td>65.0</td>\n",
              "      <td>8450</td>\n",
              "      <td>Pave</td>\n",
              "      <td>Reg</td>\n",
              "      <td>Lvl</td>\n",
              "      <td>AllPub</td>\n",
              "      <td>Inside</td>\n",
              "      <td>...</td>\n",
              "      <td>0</td>\n",
              "      <td>0</td>\n",
              "      <td>0</td>\n",
              "      <td>0</td>\n",
              "      <td>0</td>\n",
              "      <td>2</td>\n",
              "      <td>2008</td>\n",
              "      <td>WD</td>\n",
              "      <td>Normal</td>\n",
              "      <td>208500</td>\n",
              "    </tr>\n",
              "    <tr>\n",
              "      <th>1</th>\n",
              "      <td>2</td>\n",
              "      <td>20</td>\n",
              "      <td>RL</td>\n",
              "      <td>80.0</td>\n",
              "      <td>9600</td>\n",
              "      <td>Pave</td>\n",
              "      <td>Reg</td>\n",
              "      <td>Lvl</td>\n",
              "      <td>AllPub</td>\n",
              "      <td>FR2</td>\n",
              "      <td>...</td>\n",
              "      <td>0</td>\n",
              "      <td>0</td>\n",
              "      <td>0</td>\n",
              "      <td>0</td>\n",
              "      <td>0</td>\n",
              "      <td>5</td>\n",
              "      <td>2007</td>\n",
              "      <td>WD</td>\n",
              "      <td>Normal</td>\n",
              "      <td>181500</td>\n",
              "    </tr>\n",
              "    <tr>\n",
              "      <th>2</th>\n",
              "      <td>3</td>\n",
              "      <td>60</td>\n",
              "      <td>RL</td>\n",
              "      <td>68.0</td>\n",
              "      <td>11250</td>\n",
              "      <td>Pave</td>\n",
              "      <td>IR1</td>\n",
              "      <td>Lvl</td>\n",
              "      <td>AllPub</td>\n",
              "      <td>Inside</td>\n",
              "      <td>...</td>\n",
              "      <td>0</td>\n",
              "      <td>0</td>\n",
              "      <td>0</td>\n",
              "      <td>0</td>\n",
              "      <td>0</td>\n",
              "      <td>9</td>\n",
              "      <td>2008</td>\n",
              "      <td>WD</td>\n",
              "      <td>Normal</td>\n",
              "      <td>223500</td>\n",
              "    </tr>\n",
              "    <tr>\n",
              "      <th>3</th>\n",
              "      <td>4</td>\n",
              "      <td>70</td>\n",
              "      <td>RL</td>\n",
              "      <td>60.0</td>\n",
              "      <td>9550</td>\n",
              "      <td>Pave</td>\n",
              "      <td>IR1</td>\n",
              "      <td>Lvl</td>\n",
              "      <td>AllPub</td>\n",
              "      <td>Corner</td>\n",
              "      <td>...</td>\n",
              "      <td>272</td>\n",
              "      <td>0</td>\n",
              "      <td>0</td>\n",
              "      <td>0</td>\n",
              "      <td>0</td>\n",
              "      <td>2</td>\n",
              "      <td>2006</td>\n",
              "      <td>WD</td>\n",
              "      <td>Abnorml</td>\n",
              "      <td>140000</td>\n",
              "    </tr>\n",
              "    <tr>\n",
              "      <th>4</th>\n",
              "      <td>5</td>\n",
              "      <td>60</td>\n",
              "      <td>RL</td>\n",
              "      <td>84.0</td>\n",
              "      <td>14260</td>\n",
              "      <td>Pave</td>\n",
              "      <td>IR1</td>\n",
              "      <td>Lvl</td>\n",
              "      <td>AllPub</td>\n",
              "      <td>FR2</td>\n",
              "      <td>...</td>\n",
              "      <td>0</td>\n",
              "      <td>0</td>\n",
              "      <td>0</td>\n",
              "      <td>0</td>\n",
              "      <td>0</td>\n",
              "      <td>12</td>\n",
              "      <td>2008</td>\n",
              "      <td>WD</td>\n",
              "      <td>Normal</td>\n",
              "      <td>250000</td>\n",
              "    </tr>\n",
              "    <tr>\n",
              "      <th>...</th>\n",
              "      <td>...</td>\n",
              "      <td>...</td>\n",
              "      <td>...</td>\n",
              "      <td>...</td>\n",
              "      <td>...</td>\n",
              "      <td>...</td>\n",
              "      <td>...</td>\n",
              "      <td>...</td>\n",
              "      <td>...</td>\n",
              "      <td>...</td>\n",
              "      <td>...</td>\n",
              "      <td>...</td>\n",
              "      <td>...</td>\n",
              "      <td>...</td>\n",
              "      <td>...</td>\n",
              "      <td>...</td>\n",
              "      <td>...</td>\n",
              "      <td>...</td>\n",
              "      <td>...</td>\n",
              "      <td>...</td>\n",
              "      <td>...</td>\n",
              "    </tr>\n",
              "    <tr>\n",
              "      <th>1455</th>\n",
              "      <td>1456</td>\n",
              "      <td>60</td>\n",
              "      <td>RL</td>\n",
              "      <td>62.0</td>\n",
              "      <td>7917</td>\n",
              "      <td>Pave</td>\n",
              "      <td>Reg</td>\n",
              "      <td>Lvl</td>\n",
              "      <td>AllPub</td>\n",
              "      <td>Inside</td>\n",
              "      <td>...</td>\n",
              "      <td>0</td>\n",
              "      <td>0</td>\n",
              "      <td>0</td>\n",
              "      <td>0</td>\n",
              "      <td>0</td>\n",
              "      <td>8</td>\n",
              "      <td>2007</td>\n",
              "      <td>WD</td>\n",
              "      <td>Normal</td>\n",
              "      <td>175000</td>\n",
              "    </tr>\n",
              "    <tr>\n",
              "      <th>1456</th>\n",
              "      <td>1457</td>\n",
              "      <td>20</td>\n",
              "      <td>RL</td>\n",
              "      <td>85.0</td>\n",
              "      <td>13175</td>\n",
              "      <td>Pave</td>\n",
              "      <td>Reg</td>\n",
              "      <td>Lvl</td>\n",
              "      <td>AllPub</td>\n",
              "      <td>Inside</td>\n",
              "      <td>...</td>\n",
              "      <td>0</td>\n",
              "      <td>0</td>\n",
              "      <td>0</td>\n",
              "      <td>0</td>\n",
              "      <td>0</td>\n",
              "      <td>2</td>\n",
              "      <td>2010</td>\n",
              "      <td>WD</td>\n",
              "      <td>Normal</td>\n",
              "      <td>210000</td>\n",
              "    </tr>\n",
              "    <tr>\n",
              "      <th>1457</th>\n",
              "      <td>1458</td>\n",
              "      <td>70</td>\n",
              "      <td>RL</td>\n",
              "      <td>66.0</td>\n",
              "      <td>9042</td>\n",
              "      <td>Pave</td>\n",
              "      <td>Reg</td>\n",
              "      <td>Lvl</td>\n",
              "      <td>AllPub</td>\n",
              "      <td>Inside</td>\n",
              "      <td>...</td>\n",
              "      <td>0</td>\n",
              "      <td>0</td>\n",
              "      <td>0</td>\n",
              "      <td>0</td>\n",
              "      <td>2500</td>\n",
              "      <td>5</td>\n",
              "      <td>2010</td>\n",
              "      <td>WD</td>\n",
              "      <td>Normal</td>\n",
              "      <td>266500</td>\n",
              "    </tr>\n",
              "    <tr>\n",
              "      <th>1458</th>\n",
              "      <td>1459</td>\n",
              "      <td>20</td>\n",
              "      <td>RL</td>\n",
              "      <td>68.0</td>\n",
              "      <td>9717</td>\n",
              "      <td>Pave</td>\n",
              "      <td>Reg</td>\n",
              "      <td>Lvl</td>\n",
              "      <td>AllPub</td>\n",
              "      <td>Inside</td>\n",
              "      <td>...</td>\n",
              "      <td>112</td>\n",
              "      <td>0</td>\n",
              "      <td>0</td>\n",
              "      <td>0</td>\n",
              "      <td>0</td>\n",
              "      <td>4</td>\n",
              "      <td>2010</td>\n",
              "      <td>WD</td>\n",
              "      <td>Normal</td>\n",
              "      <td>142125</td>\n",
              "    </tr>\n",
              "    <tr>\n",
              "      <th>1459</th>\n",
              "      <td>1460</td>\n",
              "      <td>20</td>\n",
              "      <td>RL</td>\n",
              "      <td>75.0</td>\n",
              "      <td>9937</td>\n",
              "      <td>Pave</td>\n",
              "      <td>Reg</td>\n",
              "      <td>Lvl</td>\n",
              "      <td>AllPub</td>\n",
              "      <td>Inside</td>\n",
              "      <td>...</td>\n",
              "      <td>0</td>\n",
              "      <td>0</td>\n",
              "      <td>0</td>\n",
              "      <td>0</td>\n",
              "      <td>0</td>\n",
              "      <td>6</td>\n",
              "      <td>2008</td>\n",
              "      <td>WD</td>\n",
              "      <td>Normal</td>\n",
              "      <td>147500</td>\n",
              "    </tr>\n",
              "  </tbody>\n",
              "</table>\n",
              "<p>1460 rows × 76 columns</p>\n",
              "</div>\n",
              "      <button class=\"colab-df-convert\" onclick=\"convertToInteractive('df-20c8e216-0eaa-4515-b5ed-061e792da680')\"\n",
              "              title=\"Convert this dataframe to an interactive table.\"\n",
              "              style=\"display:none;\">\n",
              "        \n",
              "  <svg xmlns=\"http://www.w3.org/2000/svg\" height=\"24px\"viewBox=\"0 0 24 24\"\n",
              "       width=\"24px\">\n",
              "    <path d=\"M0 0h24v24H0V0z\" fill=\"none\"/>\n",
              "    <path d=\"M18.56 5.44l.94 2.06.94-2.06 2.06-.94-2.06-.94-.94-2.06-.94 2.06-2.06.94zm-11 1L8.5 8.5l.94-2.06 2.06-.94-2.06-.94L8.5 2.5l-.94 2.06-2.06.94zm10 10l.94 2.06.94-2.06 2.06-.94-2.06-.94-.94-2.06-.94 2.06-2.06.94z\"/><path d=\"M17.41 7.96l-1.37-1.37c-.4-.4-.92-.59-1.43-.59-.52 0-1.04.2-1.43.59L10.3 9.45l-7.72 7.72c-.78.78-.78 2.05 0 2.83L4 21.41c.39.39.9.59 1.41.59.51 0 1.02-.2 1.41-.59l7.78-7.78 2.81-2.81c.8-.78.8-2.07 0-2.86zM5.41 20L4 18.59l7.72-7.72 1.47 1.35L5.41 20z\"/>\n",
              "  </svg>\n",
              "      </button>\n",
              "      \n",
              "  <style>\n",
              "    .colab-df-container {\n",
              "      display:flex;\n",
              "      flex-wrap:wrap;\n",
              "      gap: 12px;\n",
              "    }\n",
              "\n",
              "    .colab-df-convert {\n",
              "      background-color: #E8F0FE;\n",
              "      border: none;\n",
              "      border-radius: 50%;\n",
              "      cursor: pointer;\n",
              "      display: none;\n",
              "      fill: #1967D2;\n",
              "      height: 32px;\n",
              "      padding: 0 0 0 0;\n",
              "      width: 32px;\n",
              "    }\n",
              "\n",
              "    .colab-df-convert:hover {\n",
              "      background-color: #E2EBFA;\n",
              "      box-shadow: 0px 1px 2px rgba(60, 64, 67, 0.3), 0px 1px 3px 1px rgba(60, 64, 67, 0.15);\n",
              "      fill: #174EA6;\n",
              "    }\n",
              "\n",
              "    [theme=dark] .colab-df-convert {\n",
              "      background-color: #3B4455;\n",
              "      fill: #D2E3FC;\n",
              "    }\n",
              "\n",
              "    [theme=dark] .colab-df-convert:hover {\n",
              "      background-color: #434B5C;\n",
              "      box-shadow: 0px 1px 3px 1px rgba(0, 0, 0, 0.15);\n",
              "      filter: drop-shadow(0px 1px 2px rgba(0, 0, 0, 0.3));\n",
              "      fill: #FFFFFF;\n",
              "    }\n",
              "  </style>\n",
              "\n",
              "      <script>\n",
              "        const buttonEl =\n",
              "          document.querySelector('#df-20c8e216-0eaa-4515-b5ed-061e792da680 button.colab-df-convert');\n",
              "        buttonEl.style.display =\n",
              "          google.colab.kernel.accessAllowed ? 'block' : 'none';\n",
              "\n",
              "        async function convertToInteractive(key) {\n",
              "          const element = document.querySelector('#df-20c8e216-0eaa-4515-b5ed-061e792da680');\n",
              "          const dataTable =\n",
              "            await google.colab.kernel.invokeFunction('convertToInteractive',\n",
              "                                                     [key], {});\n",
              "          if (!dataTable) return;\n",
              "\n",
              "          const docLinkHtml = 'Like what you see? Visit the ' +\n",
              "            '<a target=\"_blank\" href=https://colab.research.google.com/notebooks/data_table.ipynb>data table notebook</a>'\n",
              "            + ' to learn more about interactive tables.';\n",
              "          element.innerHTML = '';\n",
              "          dataTable['output_type'] = 'display_data';\n",
              "          await google.colab.output.renderOutput(dataTable, element);\n",
              "          const docLink = document.createElement('div');\n",
              "          docLink.innerHTML = docLinkHtml;\n",
              "          element.appendChild(docLink);\n",
              "        }\n",
              "      </script>\n",
              "    </div>\n",
              "  </div>\n",
              "  "
            ],
            "text/plain": [
              "        Id  MSSubClass MSZoning  LotFrontage  LotArea Street LotShape  \\\n",
              "0        1          60       RL         65.0     8450   Pave      Reg   \n",
              "1        2          20       RL         80.0     9600   Pave      Reg   \n",
              "2        3          60       RL         68.0    11250   Pave      IR1   \n",
              "3        4          70       RL         60.0     9550   Pave      IR1   \n",
              "4        5          60       RL         84.0    14260   Pave      IR1   \n",
              "...    ...         ...      ...          ...      ...    ...      ...   \n",
              "1455  1456          60       RL         62.0     7917   Pave      Reg   \n",
              "1456  1457          20       RL         85.0    13175   Pave      Reg   \n",
              "1457  1458          70       RL         66.0     9042   Pave      Reg   \n",
              "1458  1459          20       RL         68.0     9717   Pave      Reg   \n",
              "1459  1460          20       RL         75.0     9937   Pave      Reg   \n",
              "\n",
              "     LandContour Utilities LotConfig  ... EnclosedPorch 3SsnPorch ScreenPorch  \\\n",
              "0            Lvl    AllPub    Inside  ...             0         0           0   \n",
              "1            Lvl    AllPub       FR2  ...             0         0           0   \n",
              "2            Lvl    AllPub    Inside  ...             0         0           0   \n",
              "3            Lvl    AllPub    Corner  ...           272         0           0   \n",
              "4            Lvl    AllPub       FR2  ...             0         0           0   \n",
              "...          ...       ...       ...  ...           ...       ...         ...   \n",
              "1455         Lvl    AllPub    Inside  ...             0         0           0   \n",
              "1456         Lvl    AllPub    Inside  ...             0         0           0   \n",
              "1457         Lvl    AllPub    Inside  ...             0         0           0   \n",
              "1458         Lvl    AllPub    Inside  ...           112         0           0   \n",
              "1459         Lvl    AllPub    Inside  ...             0         0           0   \n",
              "\n",
              "     PoolArea MiscVal MoSold  YrSold  SaleType  SaleCondition  SalePrice  \n",
              "0           0       0      2    2008        WD         Normal     208500  \n",
              "1           0       0      5    2007        WD         Normal     181500  \n",
              "2           0       0      9    2008        WD         Normal     223500  \n",
              "3           0       0      2    2006        WD        Abnorml     140000  \n",
              "4           0       0     12    2008        WD         Normal     250000  \n",
              "...       ...     ...    ...     ...       ...            ...        ...  \n",
              "1455        0       0      8    2007        WD         Normal     175000  \n",
              "1456        0       0      2    2010        WD         Normal     210000  \n",
              "1457        0    2500      5    2010        WD         Normal     266500  \n",
              "1458        0       0      4    2010        WD         Normal     142125  \n",
              "1459        0       0      6    2008        WD         Normal     147500  \n",
              "\n",
              "[1460 rows x 76 columns]"
            ]
          },
          "execution_count": 197,
          "metadata": {},
          "output_type": "execute_result"
        }
      ],
      "source": [
        "#Removing the columns having null value\n",
        "train_df.dropna(axis = 1)"
      ]
    },
    {
      "cell_type": "code",
      "execution_count": null,
      "id": "1b419bbd",
      "metadata": {
        "colab": {
          "base_uri": "https://localhost:8080/",
          "height": 0
        },
        "execution": {
          "iopub.execute_input": "2023-01-21T15:10:42.401776Z",
          "iopub.status.busy": "2023-01-21T15:10:42.400653Z",
          "iopub.status.idle": "2023-01-21T15:10:42.406248Z",
          "shell.execute_reply": "2023-01-21T15:10:42.405413Z"
        },
        "id": "1b419bbd",
        "outputId": "c66704ea-9f7d-47e4-b1f7-4419c110482c",
        "papermill": {
          "duration": 0.032174,
          "end_time": "2023-01-21T15:10:42.408500",
          "exception": false,
          "start_time": "2023-01-21T15:10:42.376326",
          "status": "completed"
        },
        "tags": []
      },
      "outputs": [
        {
          "name": "stdout",
          "output_type": "stream",
          "text": [
            "shape of train data:  (1460, 81)\n",
            "shape of test data:  (1459, 80)\n"
          ]
        }
      ],
      "source": [
        "print(\"shape of train data: \",train_df.shape)\n",
        "print(\"shape of test data: \",test_df.shape)"
      ]
    },
    {
      "cell_type": "code",
      "execution_count": null,
      "id": "7ee0d809",
      "metadata": {
        "colab": {
          "base_uri": "https://localhost:8080/",
          "height": 0
        },
        "execution": {
          "iopub.execute_input": "2023-01-21T15:10:42.455770Z",
          "iopub.status.busy": "2023-01-21T15:10:42.455364Z",
          "iopub.status.idle": "2023-01-21T15:10:42.475843Z",
          "shell.execute_reply": "2023-01-21T15:10:42.474427Z"
        },
        "id": "7ee0d809",
        "outputId": "c0f9e5cd-dd4f-44de-ad1d-c23b9b364d62",
        "papermill": {
          "duration": 0.048299,
          "end_time": "2023-01-21T15:10:42.479729",
          "exception": false,
          "start_time": "2023-01-21T15:10:42.431430",
          "status": "completed"
        },
        "tags": []
      },
      "outputs": [
        {
          "name": "stdout",
          "output_type": "stream",
          "text": [
            "<class 'pandas.core.frame.DataFrame'>\n",
            "RangeIndex: 1460 entries, 0 to 1459\n",
            "Data columns (total 81 columns):\n",
            " #   Column         Non-Null Count  Dtype  \n",
            "---  ------         --------------  -----  \n",
            " 0   Id             1460 non-null   int64  \n",
            " 1   MSSubClass     1460 non-null   int64  \n",
            " 2   MSZoning       1460 non-null   object \n",
            " 3   LotFrontage    1460 non-null   float64\n",
            " 4   LotArea        1460 non-null   int64  \n",
            " 5   Street         1460 non-null   object \n",
            " 6   Alley          91 non-null     object \n",
            " 7   LotShape       1460 non-null   object \n",
            " 8   LandContour    1460 non-null   object \n",
            " 9   Utilities      1460 non-null   object \n",
            " 10  LotConfig      1460 non-null   object \n",
            " 11  LandSlope      1460 non-null   object \n",
            " 12  Neighborhood   1460 non-null   object \n",
            " 13  Condition1     1460 non-null   object \n",
            " 14  Condition2     1460 non-null   object \n",
            " 15  BldgType       1460 non-null   object \n",
            " 16  HouseStyle     1460 non-null   object \n",
            " 17  OverallQual    1460 non-null   int64  \n",
            " 18  OverallCond    1460 non-null   int64  \n",
            " 19  YearBuilt      1460 non-null   int64  \n",
            " 20  YearRemodAdd   1460 non-null   int64  \n",
            " 21  RoofStyle      1460 non-null   object \n",
            " 22  RoofMatl       1460 non-null   object \n",
            " 23  Exterior1st    1460 non-null   object \n",
            " 24  Exterior2nd    1460 non-null   object \n",
            " 25  MasVnrType     1460 non-null   object \n",
            " 26  MasVnrArea     1460 non-null   float64\n",
            " 27  ExterQual      1460 non-null   object \n",
            " 28  ExterCond      1460 non-null   object \n",
            " 29  Foundation     1460 non-null   object \n",
            " 30  BsmtQual       1460 non-null   object \n",
            " 31  BsmtCond       1460 non-null   object \n",
            " 32  BsmtExposure   1460 non-null   object \n",
            " 33  BsmtFinType1   1460 non-null   object \n",
            " 34  BsmtFinSF1     1460 non-null   int64  \n",
            " 35  BsmtFinType2   1460 non-null   object \n",
            " 36  BsmtFinSF2     1460 non-null   int64  \n",
            " 37  BsmtUnfSF      1460 non-null   int64  \n",
            " 38  TotalBsmtSF    1460 non-null   int64  \n",
            " 39  Heating        1460 non-null   object \n",
            " 40  HeatingQC      1460 non-null   object \n",
            " 41  CentralAir     1460 non-null   object \n",
            " 42  Electrical     1460 non-null   object \n",
            " 43  1stFlrSF       1460 non-null   int64  \n",
            " 44  2ndFlrSF       1460 non-null   int64  \n",
            " 45  LowQualFinSF   1460 non-null   int64  \n",
            " 46  GrLivArea      1460 non-null   int64  \n",
            " 47  BsmtFullBath   1460 non-null   int64  \n",
            " 48  BsmtHalfBath   1460 non-null   int64  \n",
            " 49  FullBath       1460 non-null   int64  \n",
            " 50  HalfBath       1460 non-null   int64  \n",
            " 51  BedroomAbvGr   1460 non-null   int64  \n",
            " 52  KitchenAbvGr   1460 non-null   int64  \n",
            " 53  KitchenQual    1460 non-null   object \n",
            " 54  TotRmsAbvGrd   1460 non-null   int64  \n",
            " 55  Functional     1460 non-null   object \n",
            " 56  Fireplaces     1460 non-null   int64  \n",
            " 57  FireplaceQu    770 non-null    object \n",
            " 58  GarageType     1460 non-null   object \n",
            " 59  GarageYrBlt    1460 non-null   object \n",
            " 60  GarageFinish   1460 non-null   object \n",
            " 61  GarageCars     1460 non-null   int64  \n",
            " 62  GarageArea     1460 non-null   int64  \n",
            " 63  GarageQual     1460 non-null   object \n",
            " 64  GarageCond     1460 non-null   object \n",
            " 65  PavedDrive     1460 non-null   object \n",
            " 66  WoodDeckSF     1460 non-null   int64  \n",
            " 67  OpenPorchSF    1460 non-null   int64  \n",
            " 68  EnclosedPorch  1460 non-null   int64  \n",
            " 69  3SsnPorch      1460 non-null   int64  \n",
            " 70  ScreenPorch    1460 non-null   int64  \n",
            " 71  PoolArea       1460 non-null   int64  \n",
            " 72  PoolQC         7 non-null      object \n",
            " 73  Fence          281 non-null    object \n",
            " 74  MiscFeature    54 non-null     object \n",
            " 75  MiscVal        1460 non-null   int64  \n",
            " 76  MoSold         1460 non-null   int64  \n",
            " 77  YrSold         1460 non-null   int64  \n",
            " 78  SaleType       1460 non-null   object \n",
            " 79  SaleCondition  1460 non-null   object \n",
            " 80  SalePrice      1460 non-null   int64  \n",
            "dtypes: float64(2), int64(35), object(44)\n",
            "memory usage: 924.0+ KB\n"
          ]
        }
      ],
      "source": [
        "train_df.info()"
      ]
    },
    {
      "cell_type": "markdown",
      "id": "2fe9f7de",
      "metadata": {
        "id": "2fe9f7de",
        "papermill": {
          "duration": 0.022862,
          "end_time": "2023-01-21T15:10:42.526254",
          "exception": false,
          "start_time": "2023-01-21T15:10:42.503392",
          "status": "completed"
        },
        "tags": []
      },
      "source": [
        "**Showing zero null values in all the columns.**"
      ]
    },
    {
      "cell_type": "markdown",
      "id": "e9ad6007",
      "metadata": {
        "id": "e9ad6007",
        "papermill": {
          "duration": 0.030028,
          "end_time": "2023-01-21T15:10:50.373522",
          "exception": false,
          "start_time": "2023-01-21T15:10:50.343494",
          "status": "completed"
        },
        "tags": []
      },
      "source": [
        "# **MODELLING**"
      ]
    },
    {
      "cell_type": "markdown",
      "id": "c261972b",
      "metadata": {
        "id": "c261972b",
        "papermill": {
          "duration": 0.030084,
          "end_time": "2023-01-21T15:10:50.433772",
          "exception": false,
          "start_time": "2023-01-21T15:10:50.403688",
          "status": "completed"
        },
        "tags": []
      },
      "source": [
        "Applying the **label encoding** on categorical data"
      ]
    },
    {
      "cell_type": "code",
      "execution_count": null,
      "id": "8ab54a11",
      "metadata": {
        "execution": {
          "iopub.execute_input": "2023-01-21T15:10:50.496598Z",
          "iopub.status.busy": "2023-01-21T15:10:50.496191Z",
          "iopub.status.idle": "2023-01-21T15:10:50.507286Z",
          "shell.execute_reply": "2023-01-21T15:10:50.506315Z"
        },
        "id": "8ab54a11",
        "papermill": {
          "duration": 0.045387,
          "end_time": "2023-01-21T15:10:50.509666",
          "exception": false,
          "start_time": "2023-01-21T15:10:50.464279",
          "status": "completed"
        },
        "tags": []
      },
      "outputs": [],
      "source": [
        "test_df = test_df.drop(['Alley','PoolQC','Fence','MiscFeature'],axis = 1)\n",
        "train_df = train_df.drop(['Alley','PoolQC','Fence','MiscFeature'],axis = 1)"
      ]
    },
    {
      "cell_type": "code",
      "execution_count": null,
      "id": "c6db995d",
      "metadata": {
        "colab": {
          "base_uri": "https://localhost:8080/",
          "height": 0
        },
        "execution": {
          "iopub.execute_input": "2023-01-21T15:10:50.572973Z",
          "iopub.status.busy": "2023-01-21T15:10:50.572318Z",
          "iopub.status.idle": "2023-01-21T15:10:50.579673Z",
          "shell.execute_reply": "2023-01-21T15:10:50.578175Z"
        },
        "id": "c6db995d",
        "outputId": "0f86fb64-601b-46ba-952e-96475af0635c",
        "papermill": {
          "duration": 0.041418,
          "end_time": "2023-01-21T15:10:50.581875",
          "exception": false,
          "start_time": "2023-01-21T15:10:50.540457",
          "status": "completed"
        },
        "tags": []
      },
      "outputs": [
        {
          "name": "stdout",
          "output_type": "stream",
          "text": [
            "shape of test data:  (1459, 75)\n"
          ]
        }
      ],
      "source": [
        "test_x = test_df.drop(['Id'],axis = 1)\n",
        "print(\"shape of test data: \",test_x.shape)"
      ]
    },
    {
      "cell_type": "code",
      "execution_count": null,
      "id": "4bf42cc6",
      "metadata": {
        "execution": {
          "iopub.execute_input": "2023-01-21T15:10:50.645112Z",
          "iopub.status.busy": "2023-01-21T15:10:50.644699Z",
          "iopub.status.idle": "2023-01-21T15:10:50.654662Z",
          "shell.execute_reply": "2023-01-21T15:10:50.653482Z"
        },
        "id": "4bf42cc6",
        "papermill": {
          "duration": 0.043558,
          "end_time": "2023-01-21T15:10:50.656713",
          "exception": false,
          "start_time": "2023-01-21T15:10:50.613155",
          "status": "completed"
        },
        "tags": []
      },
      "outputs": [],
      "source": [
        "category_ = list(train_df.select_dtypes(include = [object]).columns)\n",
        "category_t1 = list(test_x.select_dtypes(include = [object]).columns)\n"
      ]
    },
    {
      "cell_type": "code",
      "execution_count": null,
      "id": "666dded6",
      "metadata": {
        "execution": {
          "iopub.execute_input": "2023-01-21T15:10:50.719035Z",
          "iopub.status.busy": "2023-01-21T15:10:50.718625Z",
          "iopub.status.idle": "2023-01-21T15:10:50.942108Z",
          "shell.execute_reply": "2023-01-21T15:10:50.940633Z"
        },
        "id": "666dded6",
        "papermill": {
          "duration": 0.258145,
          "end_time": "2023-01-21T15:10:50.944763",
          "exception": false,
          "start_time": "2023-01-21T15:10:50.686618",
          "status": "completed"
        },
        "tags": []
      },
      "outputs": [],
      "source": [
        "from sklearn.preprocessing import LabelEncoder\n",
        "le = LabelEncoder()\n",
        "\n",
        "for t in category_:\n",
        "    train_df[t] = le.fit_transform(train_df[t].astype(str))\n",
        "\n",
        "for a in category_t1:\n",
        "    test_x[a] = le.fit_transform(test_x[a].astype(str))\n"
      ]
    },
    {
      "cell_type": "markdown",
      "id": "d61982f6",
      "metadata": {
        "id": "d61982f6",
        "papermill": {
          "duration": 0.029929,
          "end_time": "2023-01-21T15:10:51.005681",
          "exception": false,
          "start_time": "2023-01-21T15:10:50.975752",
          "status": "completed"
        },
        "tags": []
      },
      "source": [
        "**Separating Independent(X) & Dependent(y) variables**"
      ]
    },
    {
      "cell_type": "code",
      "execution_count": null,
      "id": "7a069d14",
      "metadata": {
        "execution": {
          "iopub.execute_input": "2023-01-21T15:10:51.066831Z",
          "iopub.status.busy": "2023-01-21T15:10:51.066448Z",
          "iopub.status.idle": "2023-01-21T15:10:51.074613Z",
          "shell.execute_reply": "2023-01-21T15:10:51.073754Z"
        },
        "id": "7a069d14",
        "papermill": {
          "duration": 0.041316,
          "end_time": "2023-01-21T15:10:51.076634",
          "exception": false,
          "start_time": "2023-01-21T15:10:51.035318",
          "status": "completed"
        },
        "tags": []
      },
      "outputs": [],
      "source": [
        "X=train_df.drop(['Id','SalePrice'],axis=1) ## all the features\n",
        "y=train_df['SalePrice']"
      ]
    },
    {
      "cell_type": "code",
      "execution_count": null,
      "id": "1665a736",
      "metadata": {
        "colab": {
          "base_uri": "https://localhost:8080/",
          "height": 0
        },
        "execution": {
          "iopub.execute_input": "2023-01-21T15:10:51.139257Z",
          "iopub.status.busy": "2023-01-21T15:10:51.138116Z",
          "iopub.status.idle": "2023-01-21T15:10:51.144866Z",
          "shell.execute_reply": "2023-01-21T15:10:51.143517Z"
        },
        "id": "1665a736",
        "outputId": "19cc4306-4283-46d1-c15a-e60a25786081",
        "papermill": {
          "duration": 0.040425,
          "end_time": "2023-01-21T15:10:51.147218",
          "exception": false,
          "start_time": "2023-01-21T15:10:51.106793",
          "status": "completed"
        },
        "tags": []
      },
      "outputs": [
        {
          "name": "stdout",
          "output_type": "stream",
          "text": [
            "shape of X:  (1460, 75)\n",
            "shape of test data:  (1459, 75)\n"
          ]
        }
      ],
      "source": [
        "print(\"shape of X: \",X.shape)\n",
        "print(\"shape of test data: \",test_x.shape)"
      ]
    },
    {
      "cell_type": "markdown",
      "id": "fe7c9af4",
      "metadata": {
        "id": "fe7c9af4",
        "papermill": {
          "duration": 0.030202,
          "end_time": "2023-01-21T15:10:51.207914",
          "exception": false,
          "start_time": "2023-01-21T15:10:51.177712",
          "status": "completed"
        },
        "tags": []
      },
      "source": [
        "Applying different models and checking the score"
      ]
    },
    {
      "cell_type": "markdown",
      "id": "8abbbe58",
      "metadata": {
        "id": "8abbbe58",
        "papermill": {
          "duration": 0.030104,
          "end_time": "2023-01-21T15:10:51.268428",
          "exception": false,
          "start_time": "2023-01-21T15:10:51.238324",
          "status": "completed"
        },
        "tags": []
      },
      "source": [
        "**Feature Scaling**"
      ]
    },
    {
      "cell_type": "code",
      "execution_count": null,
      "id": "76f2dc02",
      "metadata": {
        "execution": {
          "iopub.execute_input": "2023-01-21T15:10:51.331419Z",
          "iopub.status.busy": "2023-01-21T15:10:51.330571Z",
          "iopub.status.idle": "2023-01-21T15:10:51.343246Z",
          "shell.execute_reply": "2023-01-21T15:10:51.341970Z"
        },
        "id": "76f2dc02",
        "papermill": {
          "duration": 0.046999,
          "end_time": "2023-01-21T15:10:51.345684",
          "exception": false,
          "start_time": "2023-01-21T15:10:51.298685",
          "status": "completed"
        },
        "tags": []
      },
      "outputs": [],
      "source": [
        "from sklearn.preprocessing import MinMaxScaler\n",
        "mc=MinMaxScaler()\n",
        "x=mc.fit_transform(X)"
      ]
    },
    {
      "cell_type": "code",
      "execution_count": null,
      "id": "5b62d71d",
      "metadata": {
        "colab": {
          "base_uri": "https://localhost:8080/",
          "height": 0
        },
        "execution": {
          "iopub.execute_input": "2023-01-21T15:10:51.408414Z",
          "iopub.status.busy": "2023-01-21T15:10:51.407999Z",
          "iopub.status.idle": "2023-01-21T15:10:51.474207Z",
          "shell.execute_reply": "2023-01-21T15:10:51.472787Z"
        },
        "id": "5b62d71d",
        "outputId": "fb380b2b-efdb-453d-a9c7-45968c9a705d",
        "papermill": {
          "duration": 0.101301,
          "end_time": "2023-01-21T15:10:51.477552",
          "exception": false,
          "start_time": "2023-01-21T15:10:51.376251",
          "status": "completed"
        },
        "tags": []
      },
      "outputs": [
        {
          "name": "stdout",
          "output_type": "stream",
          "text": [
            "Traning Shape =  (1168, 75)\n",
            "Testing Shape =  (292, 75)\n"
          ]
        }
      ],
      "source": [
        "#Splitting the Dataset into Training set and Test Set\n",
        "from sklearn.model_selection import train_test_split\n",
        "x_train,x_test,y_train,y_test = train_test_split(x,y,test_size=0.20,random_state = 42)\n",
        "print(\"Traning Shape = \",x_train.shape)  ## number of rows and columns  given for training\n",
        "print('Testing Shape = ',x_test.shape)  ## number of row and columns given for testing"
      ]
    },
    {
      "cell_type": "markdown",
      "id": "8557a73b",
      "metadata": {
        "id": "8557a73b",
        "papermill": {
          "duration": 0.030467,
          "end_time": "2023-01-21T15:10:51.540068",
          "exception": false,
          "start_time": "2023-01-21T15:10:51.509601",
          "status": "completed"
        },
        "tags": []
      },
      "source": [
        "**Linear Regression**"
      ]
    },
    {
      "cell_type": "code",
      "execution_count": null,
      "id": "0e988dc9",
      "metadata": {
        "colab": {
          "base_uri": "https://localhost:8080/",
          "height": 0
        },
        "execution": {
          "iopub.execute_input": "2023-01-21T15:10:51.603119Z",
          "iopub.status.busy": "2023-01-21T15:10:51.602692Z",
          "iopub.status.idle": "2023-01-21T15:10:51.713217Z",
          "shell.execute_reply": "2023-01-21T15:10:51.711790Z"
        },
        "id": "0e988dc9",
        "outputId": "7e098e94-cb84-402a-ef5b-653c6f543eb4",
        "papermill": {
          "duration": 0.146453,
          "end_time": "2023-01-21T15:10:51.717101",
          "exception": false,
          "start_time": "2023-01-21T15:10:51.570648",
          "status": "completed"
        },
        "tags": []
      },
      "outputs": [
        {
          "data": {
            "text/plain": [
              "0.8472492729568867"
            ]
          },
          "execution_count": 208,
          "metadata": {},
          "output_type": "execute_result"
        }
      ],
      "source": [
        "from sklearn.linear_model import LinearRegression\n",
        "lr = LinearRegression()\n",
        "#Fitting the x_train and y_train on the model\n",
        "lr.fit(x_train,y_train)\n",
        "score = lr.score(x_test,y_test)\n",
        "score\n",
        "\n"
      ]
    },
    {
      "cell_type": "markdown",
      "id": "35643064",
      "metadata": {
        "id": "35643064",
        "papermill": {
          "duration": 0.030499,
          "end_time": "2023-01-21T15:10:54.974160",
          "exception": false,
          "start_time": "2023-01-21T15:10:54.943661",
          "status": "completed"
        },
        "tags": []
      },
      "source": [
        "# **FINAL MODELLING**"
      ]
    },
    {
      "cell_type": "code",
      "execution_count": null,
      "id": "90229371",
      "metadata": {
        "colab": {
          "base_uri": "https://localhost:8080/",
          "height": 0
        },
        "execution": {
          "iopub.execute_input": "2023-01-21T15:10:55.037284Z",
          "iopub.status.busy": "2023-01-21T15:10:55.036846Z",
          "iopub.status.idle": "2023-01-21T15:10:55.779488Z",
          "shell.execute_reply": "2023-01-21T15:10:55.777856Z"
        },
        "id": "90229371",
        "outputId": "5fdcd037-a581-4882-84f7-22cbcb3e6e63",
        "papermill": {
          "duration": 0.778498,
          "end_time": "2023-01-21T15:10:55.783113",
          "exception": false,
          "start_time": "2023-01-21T15:10:55.004615",
          "status": "completed"
        },
        "tags": []
      },
      "outputs": [
        {
          "name": "stdout",
          "output_type": "stream",
          "text": [
            "Score of the LinearRegressor for the full data:  0.8472492729568867\n"
          ]
        }
      ],
      "source": [
        "from sklearn.linear_model import LinearRegression\n",
        "lr = LinearRegression()\n",
        "#Fitting the x_train and y_train on the model\n",
        "lr.fit(x_train,y_train)\n",
        "score = lr.score(x_test,y_test)\n",
        "score\n",
        "print(\"Score of the LinearRegressor for the full data: \",score)"
      ]
    }
  ],
  "metadata": {
    "colab": {
      "provenance": []
    },
    "kernelspec": {
      "display_name": "Python 3",
      "language": "python",
      "name": "python3"
    },
    "language_info": {
      "codemirror_mode": {
        "name": "ipython",
        "version": 3
      },
      "file_extension": ".py",
      "mimetype": "text/x-python",
      "name": "python",
      "nbconvert_exporter": "python",
      "pygments_lexer": "ipython3",
      "version": "3.11.0"
    },
    "papermill": {
      "default_parameters": {},
      "duration": 28.594172,
      "end_time": "2023-01-21T15:10:57.214437",
      "environment_variables": {},
      "exception": null,
      "input_path": "__notebook__.ipynb",
      "output_path": "__notebook__.ipynb",
      "parameters": {},
      "start_time": "2023-01-21T15:10:28.620265",
      "version": "2.3.4"
    },
    "vscode": {
      "interpreter": {
        "hash": "06ab34552032fb7f62e730fff52efd29ddae81761af3926ef69eea6a0549cdca"
      }
    }
  },
  "nbformat": 4,
  "nbformat_minor": 5
}
